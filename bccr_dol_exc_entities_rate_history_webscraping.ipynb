{
  "cells": [
    {
      "cell_type": "markdown",
      "metadata": {
        "id": "QI8QQHgbuigj"
      },
      "source": [
        "### <font color=\"red\">NOTE</font>\n",
        "\n",
        "This was developed/tested in Google Colab, Python 3.10.12.\n",
        "\n",
        "Also tested locally in VS Code, Python 3.9.16"
      ]
    },
    {
      "cell_type": "markdown",
      "metadata": {
        "id": "tKIlefoYOkKH"
      },
      "source": [
        "# Project:  BCCR CRC/USD exchange rate (from different costarrican entities) extraction using webscraping"
      ]
    },
    {
      "cell_type": "markdown",
      "metadata": {
        "id": "mLiLYIGOK7zR"
      },
      "source": [
        "## Objective\n",
        "\n",
        "The Central Bank of Costa Rica website where the latest information on CRC/USD echange rate for many official finantial entities is found at:\n",
        "\n",
        "https://gee.bccr.fi.cr/IndicadoresEconomicos/Cuadros/frmConsultaTCVentanilla.aspx\n",
        "\n",
        "\n",
        "The page also offers the option of checking the same information on previous dates\n",
        "\n",
        "The objective of this project is to produce a file that contains the most up to date CRC/USD exchange rate for the diferent entities, that can later be used in other data science projects, as input data, for example as a new column, merging it to other tables/dataframes using the date index.\n",
        "\n"
      ]
    },
    {
      "cell_type": "markdown",
      "metadata": {
        "id": "2Ki_XZWZbP6r"
      },
      "source": [
        "## Methodology\n",
        "\n",
        "The steps that the code follows to fulfill the objective, are:\n",
        "\n",
        "\n",
        "1. Download the entities exchange data from website, with a GET request\n",
        "2. Extract the table using pandas.load_html\n",
        "3. Get the headers and data from the table\n",
        "4. Store the previous step items into a Pandas dataframe\n",
        "5. Using BeautifulSoup, scrape the needed aspx parameters to be used in the next step\n",
        "6. Send POST request (using aspx parameters from previous step as payload) to mimic the request that is done when clicking the calendar icon. Also, using BeautifulSoup, scrape the needed aspx parameters to be used in the next step\n",
        "7. Send POST request (using aspx parameters from previous step as payload) to mimic the request that is done when clicking required date for yesterday \n",
        "8. Load the scraped data from previous step into a dataframe, using pandas.load_html\n",
        "9. Repeat 6 thru 8 for N previous dates, going back one day at a time\n",
        "10.\n",
        "11.\n"
      ]
    },
    {
      "cell_type": "markdown",
      "metadata": {
        "id": "LSx6aB2wvQBg"
      },
      "source": [
        "---\n",
        "## Description of used Packages and libraries"
      ]
    },
    {
      "cell_type": "markdown",
      "metadata": {
        "id": "sx5yR-PY_kOn"
      },
      "source": [
        "os - file operations such as renaming or getting the creation file\\\n",
        "requests - webscrapping of newer results\\\n",
        "shutil - High-level file operations, used to easily\\ copy a file as a backup\\\n",
        "fastparquet - needed to produce a parquet file\n",
        "matplotlib - basic plotting\n",
        "pandas - dataframe operations \\\n",
        "numpy - required by Pandas\\\n",
        "datetime - timestamp operations\\\n",
        "python-magic / magic - needed to check/confirm file format\n",
        "io - needed to wrap html string for pandas html read\\\n",
        "pytz - timezone operations for datetime\n",
        "apt install -qq chromium-chromedriver  ----  installed at OS level as this is required by Selenium"
      ]
    },
    {
      "cell_type": "markdown",
      "metadata": {
        "id": "XAxX7DkKK-47"
      },
      "source": [
        "---\n",
        "## Findings/Lessons learned\n",
        "\n",
        "\n",
        "\n",
        "\n"
      ]
    },
    {
      "cell_type": "markdown",
      "metadata": {
        "id": "gKldcHRP-xh0"
      },
      "source": [
        "### Initial page inspection\n",
        "\n",
        "At the previous project, it was decided to download the historical data file of official BCCR exchange rate.    \n",
        "\n",
        "The downloadable file that the bank provides here, only contains data for one specific date.\n",
        "\n",
        "However, thru browser inspection is was found that each time the date selection is made and then applied, a POST request (with no query string) is sent back to the same URL with a distinctive parameter at the payload, and figured out that it represents the number of days that have passed since 2000-01-01:\n",
        "\n",
        "For example, for 2024-08-05 the parameter seen is:\n",
        "\n",
        "**EVENTARGUMENT: 8983**\n",
        "\n",
        "It can be validated that the assumption made was in fact true, as follows:\n",
        "\n",
        "\n",
        "\n",
        "```\n",
        "from datetime import date\n",
        "(date(2024, 8, 5) - date(2000, 1, 1)).days\n",
        "\n",
        "8963\n",
        "```\n",
        "\n",
        "There is no need to download the XLS file for each day, we can just request the page for each day we need.   Therefore, Selenium is not needed here.\n",
        "\n",
        "But, that parameter is not the only one seen at the payload, which is actually 13kb long.   For that reason, the payload, expressed as a non-url-encoded json, is placed inside a text file, except for that specific parameter above so it is easier to manage scraping multiple past days but just iterating on that value.\n"
      ]
    },
    {
      "cell_type": "markdown",
      "metadata": {
        "id": "Re7o1XoGUD7p"
      },
      "source": [
        "### Pandas reading from html object\n",
        "\n",
        "The idea is NOT to download html files at all, but instead store the html content from a requests.text variable.\n",
        "\n",
        "*   IO must be used as `pd.read_html(**io.StringIO(str**(page_request.text))` in order to avoid the following warning:\n",
        "\n",
        "> FutureWarning: Passing literal html to 'read_html' is deprecated and will be removed in a future version. To read from a literal string, wrap it in a 'StringIO' object.\n",
        "\n",
        "\n",
        "*   read_html interprets a comma as a thousands separator, by default.  In this case we need to ignore that (using argument thousands=None) as the bank uses comma as decimal separator.\n",
        "\n"
      ]
    },
    {
      "cell_type": "markdown",
      "metadata": {
        "id": "Uj8gsW_WCvAW"
      },
      "source": [
        "### Data Wrangling\n",
        "\n",
        "\n"
      ]
    },
    {
      "cell_type": "markdown",
      "metadata": {
        "id": "TMlSWkXfyFhN"
      },
      "source": [
        "###Data backup storage saving\n",
        "\n",
        "Code was written to generate a backup of the generated file, as soon as it is downloaded.\n",
        "\n",
        "By testing backups on different format files, in terms of storage space it was found that html file is the worst choice.   Parquet file is the one we can choose to make backups for the least amount of space."
      ]
    },
    {
      "cell_type": "markdown",
      "metadata": {
        "id": "XBhtof2LLBdF"
      },
      "source": [
        "\n",
        "\n",
        "---\n",
        "\n",
        "\n",
        "## Enhancement opportunities\n",
        "\n",
        "\n",
        "1.   File generation and download\n",
        "\n",
        "By inspecting the extracted html, it was found that the file can actually be generated directly by modifying the query string values of the following URL\n",
        "\n",
        "https://gee.bccr.fi.cr/indicadoreseconomicos/Cuadros/frmVerCatCuadro.aspx?CodCuadro=400&Idioma=1&FecInicial=2023/01/01&FecFinal=2024/07/19&Filtro=0&Exportar=True&Excel=True\n",
        "\n",
        "Basically the initial and end dates can be modified at will to get the necessary file.\n",
        "\n",
        "This can be done to avoid having to use logic (with Selenium) to simulate the clicking of the button to generate the file, so the code is smaller and quicker.\n",
        "\\\n",
        "2.   Add code to download the full historical file, once a month.\n",
        "\\\n",
        "3.   Add code to check if the updated exchange file is missing more than just one record (today), if it is, then complete the missing records from the fresh scraped data that should be done every day\n",
        "\\\n",
        "4.   Clean the backup logic, the files at the end look a bit disorganized.  Some need timestamp at the filename\n",
        "\n",
        "\n"
      ]
    },
    {
      "cell_type": "markdown",
      "metadata": {
        "id": "nkuwWIxPvObY"
      },
      "source": [
        "\n",
        "\n",
        "---\n",
        "\n",
        "# Project Code\n",
        "\n"
      ]
    },
    {
      "cell_type": "markdown",
      "metadata": {},
      "source": [
        "## 1.Preliminary tasks"
      ]
    },
    {
      "cell_type": "markdown",
      "metadata": {
        "id": "wBdmNpVxZQ_U"
      },
      "source": [
        "### Packages,Libraries,Constants\n",
        "\n",
        "Packages installation takes about 2 minutes"
      ]
    },
    {
      "cell_type": "code",
      "execution_count": 2,
      "metadata": {
        "colab": {
          "base_uri": "https://localhost:8080/"
        },
        "id": "MqIo1XLCw6gs",
        "outputId": "ab03f2ae-1b83-463d-bed1-8840157c9082"
      },
      "outputs": [
        {
          "name": "stdout",
          "output_type": "stream",
          "text": [
            "pip 24.2 from /home/milos/Documents/Proyectos/CienciaDeDatos/BCCR-tcdolar-entidades/venv/lib/python3.9/site-packages/pip (python 3.9)\n"
          ]
        }
      ],
      "source": [
        "!pip -V"
      ]
    },
    {
      "cell_type": "code",
      "execution_count": 3,
      "metadata": {
        "colab": {
          "base_uri": "https://localhost:8080/"
        },
        "id": "cWsAhVsLxIoX",
        "outputId": "2c3ab5e3-0e5b-48af-8d51-4d4a3850a509"
      },
      "outputs": [
        {
          "name": "stdout",
          "output_type": "stream",
          "text": [
            "Requirement already satisfied: pip in ./venv/lib/python3.9/site-packages (24.2)\n"
          ]
        }
      ],
      "source": [
        "!pip install --upgrade pip"
      ]
    },
    {
      "cell_type": "code",
      "execution_count": 536,
      "metadata": {
        "colab": {
          "base_uri": "https://localhost:8080/"
        },
        "collapsed": true,
        "id": "BW4alsLJjWfQ",
        "outputId": "672838f1-5a90-4d3f-97f8-e3bbcf42f52c"
      },
      "outputs": [],
      "source": [
        "!pip install --quiet matplotlib python-magic fastparquet requests pandas lxml bs4\n",
        "# !apt-get update\n",
        "# !apt install chromium-chromedriver\n",
        "import os ,requests, shutil, time, magic, io, lxml, json, pytz, bs4\n",
        "import numpy as np\n",
        "import pandas as pd\n",
        "import matplotlib.pyplot as plt\n",
        "from datetime import datetime, date, timedelta\n",
        "from io import StringIO\n",
        "from bs4 import BeautifulSoup as bs"
      ]
    },
    {
      "cell_type": "code",
      "execution_count": 609,
      "metadata": {},
      "outputs": [
        {
          "data": {
            "text/plain": [
              "'en_US.UTF-8'"
            ]
          },
          "execution_count": 609,
          "metadata": {},
          "output_type": "execute_result"
        }
      ],
      "source": [
        "# Making sure locale is en_US so datetime/date outputs names of days/months in english\n",
        "locale.setlocale(locale.LC_TIME, ('en_US', 'UTF-8'))"
      ]
    },
    {
      "cell_type": "code",
      "execution_count": 474,
      "metadata": {
        "id": "5obigcSbfzBh"
      },
      "outputs": [],
      "source": [
        "# Constants\n",
        "DATASETS_PATH = './datasets'\n",
        "DATASETS_TEMP_PATH = f'{DATASETS_PATH}/temp'\n",
        "DATASETS_BACKUP_PATH = f'{DATASETS_PATH}/backups'\n",
        "CURRENT_DATASET_BASEFILENAME = 'bccr_dol_exch_entities'\n",
        "# JSON_FILE_NAME = 'payload_json_unencoded.txt'  #ended up not being needed\n",
        "base_payload_json = {\"__EVENTTARGET\": \"Calendar1\", \"__EVENTARGUMENT\": \"\" , \"__VIEWSTATE\": \"\" ,\\\n",
        "  \"__VIEWSTATEGENERATOR\": \"5CF5411C\" ,  \"__EVENTVALIDATION\": \"\" ,\\\n",
        "    \"imgCalendario.x\": \"7\", \"imgCalendario.y\": \"8\" ,  \"CtrlBuscar2:txtPalabras\": \"\"}\n"
      ]
    },
    {
      "cell_type": "markdown",
      "metadata": {
        "id": "PEi0XvP0D3uT"
      },
      "source": [
        "### Checking existance of current dataset file\n",
        "\n",
        "If if does not exist, then generate the directory where it is to be  placed at later with data from the past 365 days\n",
        "\n",
        "\n",
        "\n",
        "\n"
      ]
    },
    {
      "cell_type": "code",
      "execution_count": 6,
      "metadata": {
        "colab": {
          "base_uri": "https://localhost:8080/"
        },
        "id": "VWW6QwAaEGTH",
        "outputId": "d0a979a1-c293-40aa-bf00-219c41f925cd"
      },
      "outputs": [
        {
          "name": "stdout",
          "output_type": "stream",
          "text": [
            "OK\n"
          ]
        }
      ],
      "source": [
        "# prompt: need an if statement, that if CURRENT_DATASET_BASEFILENAME exists, print OK, if not print NOK and also create the DATASETS_PATH path\n",
        "\n",
        "if os.path.exists(f'{DATASETS_PATH}/{CURRENT_DATASET_BASEFILENAME}.parquet'):\n",
        "  print (\"OK\")\n",
        "else:\n",
        "  print (\"NOK\")\n",
        "  os.makedirs(DATASETS_PATH, exist_ok=True)\n"
      ]
    },
    {
      "cell_type": "code",
      "execution_count": 7,
      "metadata": {
        "colab": {
          "base_uri": "https://localhost:8080/"
        },
        "id": "w-pRFHeDIpj2",
        "outputId": "3af0205b-249e-413e-ac38-3e624a3a35f1"
      },
      "outputs": [
        {
          "name": "stdout",
          "output_type": "stream",
          "text": [
            "OK, ./datasets/bccr_dol_exch_entities.parquet already exists\n"
          ]
        }
      ],
      "source": [
        "if os.path.exists(f'{DATASETS_PATH}/{CURRENT_DATASET_BASEFILENAME}.parquet'):\n",
        "  print(f\"OK, {DATASETS_PATH}/{CURRENT_DATASET_BASEFILENAME}.parquet already exists\")\n",
        "else:\n",
        "  print(f\"There is no historical data file {DATASETS_PATH}/{CURRENT_DATASET_BASEFILENAME}.parquet\")\n",
        "  os.makedirs(DATASETS_PATH, exist_ok=True)\n"
      ]
    },
    {
      "cell_type": "markdown",
      "metadata": {
        "id": "P6pgJwtMGN5F"
      },
      "source": [
        "## 2.Scraping today's entities dollar exchange rate"
      ]
    },
    {
      "cell_type": "code",
      "execution_count": 589,
      "metadata": {
        "id": "ouSDWCHPLBrj"
      },
      "outputs": [],
      "source": [
        "# Scraping html of the most recent data from the bank webpage\n",
        "\n",
        "# Configuration\n",
        "\n",
        "host='gee.bccr.fi.cr'\n",
        "urlpath='IndicadoresEconomicos/Cuadros/frmConsultaTCVentanilla.aspx'\n",
        "# Sending some headers to try and hide the scraper default values\n",
        "hdrs={'User-Agent': \"Mozilla/5.0 (X11; Linux x86_64) AppleWebKit/537.36 (KHTML, like Gecko) Chrome/125.0.0.0 Safari/537.36\",\n",
        "      'Host' : f'{host}',\n",
        "      'Accept-Language': 'en-US,en;q=0.9,es;q=0.8,es-CR;q=0.7,de;q=0.6',\n",
        "      'Accept-Encoding': 'gzip, deflate, br, zstd'\n",
        "      }\n",
        "\n",
        "url_page = f'https://{host}/{urlpath}'"
      ]
    },
    {
      "cell_type": "code",
      "execution_count": 590,
      "metadata": {
        "id": "CxfFxwQMMzBW"
      },
      "outputs": [],
      "source": [
        "# Performing the actual request.  Today's data is done with a GET request\n",
        "page_request = requests.get(url_page, headers=hdrs)"
      ]
    },
    {
      "cell_type": "code",
      "execution_count": 591,
      "metadata": {
        "colab": {
          "base_uri": "https://localhost:8080/"
        },
        "id": "ZF-9l-wgNGF_",
        "outputId": "9aac772d-cf9d-4042-a2a1-678fcca5b415"
      },
      "outputs": [
        {
          "data": {
            "text/plain": [
              "(200,\n",
              " 'OK',\n",
              " True,\n",
              " 'https://gee.bccr.fi.cr/IndicadoresEconomicos/Cuadros/frmConsultaTCVentanilla.aspx',\n",
              " '13266',\n",
              " 'Fri, 16 Aug 2024 10:15:06 GMT',\n",
              " 'utf-8',\n",
              " 'text/html; charset=utf-8')"
            ]
          },
          "execution_count": 591,
          "metadata": {},
          "output_type": "execute_result"
        }
      ],
      "source": [
        "# some interesting options that could be used\n",
        "page_request.status_code, page_request.reason ,  page_request.ok , page_request.url , \\\n",
        "page_request.headers['Content-Length'], page_request.headers['Date'] , page_request.encoding, \\\n",
        " page_request.headers['Content-Type']"
      ]
    },
    {
      "cell_type": "code",
      "execution_count": 592,
      "metadata": {
        "colab": {
          "base_uri": "https://localhost:8080/",
          "height": 201
        },
        "id": "LWybq8qAPKWE",
        "outputId": "b7b33cd4-b825-4990-c17b-5336f3fae693"
      },
      "outputs": [
        {
          "data": {
            "text/plain": [
              "'\\r\\n<!DOCTYPE HTML PUBLIC \"-//W3C//DTD HTML 4.0 Transitional//EN\">\\r\\n<HTML>\\r\\n\\t<HEAD>\\r\\n\\t\\t<title>Tipo de cambio anunciado en ventanilla</title>\\r\\n\\t\\t<script type=\"text/javascript\">var _gaq = _gaq || [];_gaq.push([\\'_setAccount\\', \\'UA-25040215-3\\']);_gaq.push([\\'_trackPageview\\']);(function() {var ga = document.'"
            ]
          },
          "execution_count": 592,
          "metadata": {},
          "output_type": "execute_result"
        }
      ],
      "source": [
        "page_request.text[:300]"
      ]
    },
    {
      "cell_type": "markdown",
      "metadata": {
        "id": "pa2XNc6mpW15"
      },
      "source": [
        "### Building the dataframe from scraped html"
      ]
    },
    {
      "cell_type": "code",
      "execution_count": 593,
      "metadata": {
        "colab": {
          "base_uri": "https://localhost:8080/",
          "height": 178
        },
        "id": "oN6EqnQku2ON",
        "outputId": "86415d85-d8b6-4fcd-841f-b8708baa1762"
      },
      "outputs": [
        {
          "data": {
            "text/html": [
              "<div>\n",
              "<style scoped>\n",
              "    .dataframe tbody tr th:only-of-type {\n",
              "        vertical-align: middle;\n",
              "    }\n",
              "\n",
              "    .dataframe tbody tr th {\n",
              "        vertical-align: top;\n",
              "    }\n",
              "\n",
              "    .dataframe thead th {\n",
              "        text-align: right;\n",
              "    }\n",
              "</style>\n",
              "<table border=\"1\" class=\"dataframe\">\n",
              "  <thead>\n",
              "    <tr style=\"text-align: right;\">\n",
              "      <th></th>\n",
              "      <th>Tipo de Entidad</th>\n",
              "      <th>Entidad Autorizada</th>\n",
              "      <th>Compra</th>\n",
              "      <th>Venta</th>\n",
              "      <th>Diferencial Cambiario</th>\n",
              "      <th>Última Actualización</th>\n",
              "    </tr>\n",
              "  </thead>\n",
              "  <tbody>\n",
              "    <tr>\n",
              "      <th>0</th>\n",
              "      <td>Bancos públicos</td>\n",
              "      <td>Banco de Costa Rica</td>\n",
              "      <td>512.0</td>\n",
              "      <td>526.0</td>\n",
              "      <td>14.0</td>\n",
              "      <td>15/08/2024 12:03 a.m.</td>\n",
              "    </tr>\n",
              "    <tr>\n",
              "      <th>1</th>\n",
              "      <td>NaN</td>\n",
              "      <td>Banco Nacional de Costa Rica</td>\n",
              "      <td>508.0</td>\n",
              "      <td>522.0</td>\n",
              "      <td>14.0</td>\n",
              "      <td>14/08/2024 12:39 p.m.</td>\n",
              "    </tr>\n",
              "    <tr>\n",
              "      <th>2</th>\n",
              "      <td>NaN</td>\n",
              "      <td>Banco Popular y de Desarrollo Comunal</td>\n",
              "      <td>511.0</td>\n",
              "      <td>525.0</td>\n",
              "      <td>14.0</td>\n",
              "      <td>14/08/2024 03:55 p.m.</td>\n",
              "    </tr>\n",
              "  </tbody>\n",
              "</table>\n",
              "</div>"
            ],
            "text/plain": [
              "   Tipo de Entidad                     Entidad Autorizada  Compra  Venta  \\\n",
              "0  Bancos públicos                    Banco de Costa Rica   512.0  526.0   \n",
              "1              NaN           Banco Nacional de Costa Rica   508.0  522.0   \n",
              "2              NaN  Banco Popular y de Desarrollo Comunal   511.0  525.0   \n",
              "\n",
              "   Diferencial Cambiario   Última Actualización  \n",
              "0                   14.0  15/08/2024 12:03 a.m.  \n",
              "1                   14.0  14/08/2024 12:39 p.m.  \n",
              "2                   14.0  14/08/2024 03:55 p.m.  "
            ]
          },
          "execution_count": 593,
          "metadata": {},
          "output_type": "execute_result"
        }
      ],
      "source": [
        "# test with basic cleaning\n",
        "pd.read_html(io.StringIO(str(page_request.text)) , thousands=None,\n",
        "                            decimal=',' , header=0 )[2].head(3)"
      ]
    },
    {
      "cell_type": "code",
      "execution_count": 594,
      "metadata": {
        "colab": {
          "base_uri": "https://localhost:8080/",
          "height": 35
        },
        "id": "Kev85cD3WmAl",
        "outputId": "b1b3a833-ad99-482a-dccb-2db07efd700b"
      },
      "outputs": [
        {
          "data": {
            "text/plain": [
              "['America/Costa_Rica']"
            ]
          },
          "execution_count": 594,
          "metadata": {},
          "output_type": "execute_result"
        }
      ],
      "source": [
        "[s for s in pytz.all_timezones if 'Costa' in s]"
      ]
    },
    {
      "cell_type": "code",
      "execution_count": 595,
      "metadata": {
        "colab": {
          "base_uri": "https://localhost:8080/",
          "height": 35
        },
        "id": "odKQtESnWzA3",
        "outputId": "84d702ea-8508-4814-fd0d-83ff4ee572ba"
      },
      "outputs": [
        {
          "data": {
            "text/plain": [
              "'2024-08-16'"
            ]
          },
          "execution_count": 595,
          "metadata": {},
          "output_type": "execute_result"
        }
      ],
      "source": [
        "datetime.now(pytz.timezone('America/Costa_Rica')).strftime('%Y-%m-%d')"
      ]
    },
    {
      "cell_type": "code",
      "execution_count": 596,
      "metadata": {
        "colab": {
          "base_uri": "https://localhost:8080/",
          "height": 409
        },
        "id": "q43-aSmaPXS-",
        "outputId": "ecd5c65a-ca36-45ab-ce18-4b0c1702d1d6"
      },
      "outputs": [
        {
          "name": "stdout",
          "output_type": "stream",
          "text": [
            "Request OK\n"
          ]
        },
        {
          "data": {
            "text/html": [
              "<div>\n",
              "<style scoped>\n",
              "    .dataframe tbody tr th:only-of-type {\n",
              "        vertical-align: middle;\n",
              "    }\n",
              "\n",
              "    .dataframe tbody tr th {\n",
              "        vertical-align: top;\n",
              "    }\n",
              "\n",
              "    .dataframe thead th {\n",
              "        text-align: right;\n",
              "    }\n",
              "</style>\n",
              "<table border=\"1\" class=\"dataframe\">\n",
              "  <thead>\n",
              "    <tr style=\"text-align: right;\">\n",
              "      <th></th>\n",
              "      <th>date</th>\n",
              "      <th>ent_type</th>\n",
              "      <th>ent_name</th>\n",
              "      <th>dollar_buy</th>\n",
              "      <th>dollar_sale</th>\n",
              "      <th>b_s_diff</th>\n",
              "      <th>previous_updt</th>\n",
              "    </tr>\n",
              "  </thead>\n",
              "  <tbody>\n",
              "    <tr>\n",
              "      <th>31</th>\n",
              "      <td>2024-08-16</td>\n",
              "      <td>Casas de Cambio</td>\n",
              "      <td>Casa de Cambio Global Exchange</td>\n",
              "      <td>433.96</td>\n",
              "      <td>606.78</td>\n",
              "      <td>172.82</td>\n",
              "      <td>2024-08-14 21:12:00</td>\n",
              "    </tr>\n",
              "    <tr>\n",
              "      <th>32</th>\n",
              "      <td>2024-08-16</td>\n",
              "      <td>Casas de Cambio</td>\n",
              "      <td>Casa de Cambio Teledolar S. A.</td>\n",
              "      <td>508.00</td>\n",
              "      <td>531.00</td>\n",
              "      <td>23.00</td>\n",
              "      <td>2024-08-16 00:21:00</td>\n",
              "    </tr>\n",
              "    <tr>\n",
              "      <th>33</th>\n",
              "      <td>2024-08-16</td>\n",
              "      <td>Puestos de Bolsa</td>\n",
              "      <td>BCT Valores, Puesto De Bolsa, S.A.</td>\n",
              "      <td>509.00</td>\n",
              "      <td>527.00</td>\n",
              "      <td>18.00</td>\n",
              "      <td>2024-08-14 12:22:00</td>\n",
              "    </tr>\n",
              "    <tr>\n",
              "      <th>34</th>\n",
              "      <td>2024-08-16</td>\n",
              "      <td>Puestos de Bolsa</td>\n",
              "      <td>BN Valores S.A., Puesto de Bolsa</td>\n",
              "      <td>512.00</td>\n",
              "      <td>526.00</td>\n",
              "      <td>14.00</td>\n",
              "      <td>2024-08-14 08:12:00</td>\n",
              "    </tr>\n",
              "    <tr>\n",
              "      <th>35</th>\n",
              "      <td>2024-08-16</td>\n",
              "      <td>Puestos de Bolsa</td>\n",
              "      <td>Mercado Valores de Costa Rica Puesto de Bolsa</td>\n",
              "      <td>506.00</td>\n",
              "      <td>524.00</td>\n",
              "      <td>18.00</td>\n",
              "      <td>2024-08-14 12:45:00</td>\n",
              "    </tr>\n",
              "    <tr>\n",
              "      <th>36</th>\n",
              "      <td>2024-08-16</td>\n",
              "      <td>Puestos de Bolsa</td>\n",
              "      <td>PB Inversiones SAMA</td>\n",
              "      <td>507.00</td>\n",
              "      <td>523.00</td>\n",
              "      <td>16.00</td>\n",
              "      <td>2024-08-14 13:50:00</td>\n",
              "    </tr>\n",
              "    <tr>\n",
              "      <th>37</th>\n",
              "      <td>2024-08-16</td>\n",
              "      <td>Puestos de Bolsa</td>\n",
              "      <td>Popular Valores, Puesto de Bolsa</td>\n",
              "      <td>513.00</td>\n",
              "      <td>527.00</td>\n",
              "      <td>14.00</td>\n",
              "      <td>2024-08-14 10:54:00</td>\n",
              "    </tr>\n",
              "  </tbody>\n",
              "</table>\n",
              "</div>"
            ],
            "text/plain": [
              "         date          ent_type  \\\n",
              "31 2024-08-16   Casas de Cambio   \n",
              "32 2024-08-16   Casas de Cambio   \n",
              "33 2024-08-16  Puestos de Bolsa   \n",
              "34 2024-08-16  Puestos de Bolsa   \n",
              "35 2024-08-16  Puestos de Bolsa   \n",
              "36 2024-08-16  Puestos de Bolsa   \n",
              "37 2024-08-16  Puestos de Bolsa   \n",
              "\n",
              "                                         ent_name  dollar_buy  dollar_sale  \\\n",
              "31                 Casa de Cambio Global Exchange      433.96       606.78   \n",
              "32                 Casa de Cambio Teledolar S. A.      508.00       531.00   \n",
              "33             BCT Valores, Puesto De Bolsa, S.A.      509.00       527.00   \n",
              "34               BN Valores S.A., Puesto de Bolsa      512.00       526.00   \n",
              "35  Mercado Valores de Costa Rica Puesto de Bolsa      506.00       524.00   \n",
              "36                            PB Inversiones SAMA      507.00       523.00   \n",
              "37               Popular Valores, Puesto de Bolsa      513.00       527.00   \n",
              "\n",
              "    b_s_diff       previous_updt  \n",
              "31    172.82 2024-08-14 21:12:00  \n",
              "32     23.00 2024-08-16 00:21:00  \n",
              "33     18.00 2024-08-14 12:22:00  \n",
              "34     14.00 2024-08-14 08:12:00  \n",
              "35     18.00 2024-08-14 12:45:00  \n",
              "36     16.00 2024-08-14 13:50:00  \n",
              "37     14.00 2024-08-14 10:54:00  "
            ]
          },
          "execution_count": 596,
          "metadata": {},
          "output_type": "execute_result"
        }
      ],
      "source": [
        "# -setting the header as the resulting line with index 0\n",
        "# -recognizing the original decimal char as the comma, so dataframe is shown as usual with it as a dot\n",
        "# -dropping rows made of NaN at every column\n",
        "# -name the columns properly\n",
        "# -extend the ent_type for those with NaN\n",
        "# -apply datetime format to previous_updt column\n",
        "# -insert 'date' column with current date (in Costa Rica as the bank is in that country)\n",
        "#  as for all rows.\n",
        "\n",
        "if page_request.ok:\n",
        "  print('Request OK')\n",
        "  cols=['date', 'dollar_buy','dollar_sale']\n",
        "  cols=['ent_type', 'ent_name', 'dollar_buy','dollar_sale','b_s_diff','previous_updt']\n",
        "  df_dol_ent = pd.read_html(io.StringIO(str(page_request.text)) , thousands=None,\n",
        "                            decimal=',' , header=0 )[2]\n",
        "\n",
        "  df_dol_ent.dropna(axis = 0, how = 'all', inplace = True)\n",
        "  df_dol_ent.columns = cols\n",
        "  df_dol_ent.ffill( inplace=True)\n",
        "  df_dol_ent['previous_updt'] = pd.to_datetime(df_dol_ent['previous_updt'] , format='mixed',dayfirst=True)\n",
        "  # df_dol_ent.insert(loc=0, column = 'dateUTC', value =  datetime.today().strftime('%Y-%m-%d'))\n",
        "  today_CostaRica = datetime.now(pytz.timezone('America/Costa_Rica')).strftime('%Y-%m-%d')\n",
        "  df_dol_ent.insert(loc=0, column = 'date', value = today_CostaRica)\n",
        "  df_dol_ent['date']=pd.to_datetime(df_dol_ent['date'])\n",
        "\n",
        "else:\n",
        "  print('Request was NOT OK, received status code', page_request.status_code)\n",
        "\n",
        "df_dol_ent.tail(7)\n",
        "# df_dol_ent.head(7)\n"
      ]
    },
    {
      "cell_type": "code",
      "execution_count": 597,
      "metadata": {
        "colab": {
          "base_uri": "https://localhost:8080/"
        },
        "id": "WeIpIlcYx4iy",
        "outputId": "1250909b-b56a-4769-f74e-e1352c696c77"
      },
      "outputs": [
        {
          "data": {
            "text/plain": [
              "(array(['Bancos públicos', 'Bancos privados', 'Financieras',\n",
              "        'Mutuales de Vivienda', 'Cooperativas', 'Casas de Cambio',\n",
              "        'Puestos de Bolsa'], dtype=object),\n",
              " 7,\n",
              " ent_type\n",
              " Bancos privados         11\n",
              " Cooperativas             9\n",
              " Puestos de Bolsa         5\n",
              " Financieras              4\n",
              " Casas de Cambio          4\n",
              " Bancos públicos          3\n",
              " Mutuales de Vivienda     2\n",
              " Name: count, dtype: int64)"
            ]
          },
          "execution_count": 597,
          "metadata": {},
          "output_type": "execute_result"
        }
      ],
      "source": [
        "df_dol_ent.ent_type.unique() , df_dol_ent.ent_type.nunique() , df_dol_ent.ent_type.value_counts()"
      ]
    },
    {
      "cell_type": "code",
      "execution_count": 598,
      "metadata": {
        "colab": {
          "base_uri": "https://localhost:8080/"
        },
        "id": "W_0mDmW-kk21",
        "outputId": "4e4aada7-39db-4c50-ebc2-db442bd35a1e"
      },
      "outputs": [
        {
          "name": "stdout",
          "output_type": "stream",
          "text": [
            "<class 'pandas.core.frame.DataFrame'>\n",
            "Index: 38 entries, 0 to 37\n",
            "Data columns (total 7 columns):\n",
            " #   Column         Non-Null Count  Dtype         \n",
            "---  ------         --------------  -----         \n",
            " 0   date           38 non-null     datetime64[ns]\n",
            " 1   ent_type       38 non-null     object        \n",
            " 2   ent_name       38 non-null     object        \n",
            " 3   dollar_buy     38 non-null     float64       \n",
            " 4   dollar_sale    38 non-null     float64       \n",
            " 5   b_s_diff       38 non-null     float64       \n",
            " 6   previous_updt  38 non-null     datetime64[ns]\n",
            "dtypes: datetime64[ns](2), float64(3), object(2)\n",
            "memory usage: 2.4+ KB\n"
          ]
        }
      ],
      "source": [
        "df_dol_ent.info()"
      ]
    },
    {
      "cell_type": "markdown",
      "metadata": {},
      "source": [
        "#### Function"
      ]
    },
    {
      "cell_type": "code",
      "execution_count": 599,
      "metadata": {},
      "outputs": [],
      "source": [
        "def dol_exch_ent_df_build (pagereq):\n",
        "  # -setting the header as the resulting line with index 0\n",
        "  # -know that there is no thousands separator so pandas does not get confused with the original commas\n",
        "  # -recognizing the original decimal char as the comma, so dataframe is shown as usual with it as a dot\n",
        "  # -dropping rows made of NaN at every column\n",
        "  # -name the columns properly\n",
        "  # -extend the ent_type to those with NaN\n",
        "  # -apply datetime format to previous_updt column\n",
        "  # -insert 'date' column with current date (in Costa Rica as the bank is in that country)\n",
        "  \n",
        "  if pagereq.ok:\n",
        "    # print('Request OK')\n",
        "    # cols=['date', 'dollar_buy','dollar_sale']\n",
        "    cols=['ent_type', 'ent_name', 'dollar_buy','dollar_sale','b_s_diff','previous_updt']\n",
        "    df_temp = pd.read_html(io.StringIO(str(pagereq.text)) , thousands=None,\n",
        "                              decimal=',' , header=0 )[2]\n",
        "\n",
        "    df_temp.dropna(axis = 0, how = 'all', inplace = True)\n",
        "    df_temp.columns = cols\n",
        "    df_temp.ffill( inplace=True)\n",
        "    df_temp['previous_updt'] = pd.to_datetime(df_temp['previous_updt'] , format='mixed',dayfirst=True)\n",
        "    # df_temp.insert(loc=0, column = 'dateUTC', value =  datetime.today().strftime('%Y-%m-%d'))\n",
        "    today_CostaRica = datetime.now(pytz.timezone('America/Costa_Rica')).strftime('%Y-%m-%d')\n",
        "    df_temp.insert(loc=0, column = 'date', value = today_CostaRica)\n",
        "    df_temp['date']=pd.to_datetime(df_temp['date'])\n",
        "    return df_temp\n",
        "\n",
        "  else:\n",
        "    print('Request was NOT OK, received status code', pagereq.status_code)"
      ]
    },
    {
      "cell_type": "code",
      "execution_count": 600,
      "metadata": {},
      "outputs": [
        {
          "data": {
            "text/html": [
              "<div>\n",
              "<style scoped>\n",
              "    .dataframe tbody tr th:only-of-type {\n",
              "        vertical-align: middle;\n",
              "    }\n",
              "\n",
              "    .dataframe tbody tr th {\n",
              "        vertical-align: top;\n",
              "    }\n",
              "\n",
              "    .dataframe thead th {\n",
              "        text-align: right;\n",
              "    }\n",
              "</style>\n",
              "<table border=\"1\" class=\"dataframe\">\n",
              "  <thead>\n",
              "    <tr style=\"text-align: right;\">\n",
              "      <th></th>\n",
              "      <th>date</th>\n",
              "      <th>ent_type</th>\n",
              "      <th>ent_name</th>\n",
              "      <th>dollar_buy</th>\n",
              "      <th>dollar_sale</th>\n",
              "      <th>b_s_diff</th>\n",
              "      <th>previous_updt</th>\n",
              "    </tr>\n",
              "  </thead>\n",
              "  <tbody>\n",
              "    <tr>\n",
              "      <th>0</th>\n",
              "      <td>2024-08-16</td>\n",
              "      <td>Bancos públicos</td>\n",
              "      <td>Banco de Costa Rica</td>\n",
              "      <td>512.0</td>\n",
              "      <td>526.0</td>\n",
              "      <td>14.0</td>\n",
              "      <td>2024-08-15 00:03:00</td>\n",
              "    </tr>\n",
              "    <tr>\n",
              "      <th>1</th>\n",
              "      <td>2024-08-16</td>\n",
              "      <td>Bancos públicos</td>\n",
              "      <td>Banco Nacional de Costa Rica</td>\n",
              "      <td>508.0</td>\n",
              "      <td>522.0</td>\n",
              "      <td>14.0</td>\n",
              "      <td>2024-08-14 12:39:00</td>\n",
              "    </tr>\n",
              "    <tr>\n",
              "      <th>2</th>\n",
              "      <td>2024-08-16</td>\n",
              "      <td>Bancos públicos</td>\n",
              "      <td>Banco Popular y de Desarrollo Comunal</td>\n",
              "      <td>511.0</td>\n",
              "      <td>525.0</td>\n",
              "      <td>14.0</td>\n",
              "      <td>2024-08-14 15:55:00</td>\n",
              "    </tr>\n",
              "  </tbody>\n",
              "</table>\n",
              "</div>"
            ],
            "text/plain": [
              "        date         ent_type                               ent_name  \\\n",
              "0 2024-08-16  Bancos públicos                    Banco de Costa Rica   \n",
              "1 2024-08-16  Bancos públicos           Banco Nacional de Costa Rica   \n",
              "2 2024-08-16  Bancos públicos  Banco Popular y de Desarrollo Comunal   \n",
              "\n",
              "   dollar_buy  dollar_sale  b_s_diff       previous_updt  \n",
              "0       512.0        526.0      14.0 2024-08-15 00:03:00  \n",
              "1       508.0        522.0      14.0 2024-08-14 12:39:00  \n",
              "2       511.0        525.0      14.0 2024-08-14 15:55:00  "
            ]
          },
          "execution_count": 600,
          "metadata": {},
          "output_type": "execute_result"
        }
      ],
      "source": [
        "# function validation\n",
        "df_dol_ent_today = dol_exch_ent_df_build(page_request)\n",
        "df_dol_ent_today.head(3)"
      ]
    },
    {
      "cell_type": "code",
      "execution_count": 601,
      "metadata": {},
      "outputs": [
        {
          "name": "stdout",
          "output_type": "stream",
          "text": [
            "<class 'pandas.core.frame.DataFrame'>\n",
            "Index: 38 entries, 0 to 37\n",
            "Data columns (total 7 columns):\n",
            " #   Column         Non-Null Count  Dtype         \n",
            "---  ------         --------------  -----         \n",
            " 0   date           38 non-null     datetime64[ns]\n",
            " 1   ent_type       38 non-null     object        \n",
            " 2   ent_name       38 non-null     object        \n",
            " 3   dollar_buy     38 non-null     float64       \n",
            " 4   dollar_sale    38 non-null     float64       \n",
            " 5   b_s_diff       38 non-null     float64       \n",
            " 6   previous_updt  38 non-null     datetime64[ns]\n",
            "dtypes: datetime64[ns](2), float64(3), object(2)\n",
            "memory usage: 2.4+ KB\n"
          ]
        }
      ],
      "source": [
        "df_dol_ent_today.info()"
      ]
    },
    {
      "cell_type": "markdown",
      "metadata": {},
      "source": [
        "### Extracting the __EVENTVALIDATION and __VIEWSTATE aspx parameters from base page\n",
        "\n",
        "Those values will be needed at the next stage, as extracting the exchange info from previous dates requires a POST with the aspx parameters values from the base page"
      ]
    },
    {
      "cell_type": "code",
      "execution_count": 602,
      "metadata": {},
      "outputs": [],
      "source": [
        "# getting the soup\n",
        "if page_request.ok:\n",
        "  base_page_soup = bs(page_request.text)\n",
        "else:\n",
        "  print('Not Found. Status code was: ', page_request.status_code)\n",
        "\n",
        "# extracting values of parameters\n",
        "base_EVENTVALIDATION = base_page_soup.find('input', attrs={'name': '__EVENTVALIDATION'})['value']\n",
        "base_VIEWSTATE = base_page_soup.find('input', attrs={'name': '__VIEWSTATE'})['value']"
      ]
    },
    {
      "cell_type": "code",
      "execution_count": 603,
      "metadata": {},
      "outputs": [
        {
          "data": {
            "text/plain": [
              "('/wEdAAjH6P', 'dbLmTaco0x', '/wEPDwUJMj', 'v8xCvcRg8=')"
            ]
          },
          "execution_count": 603,
          "metadata": {},
          "output_type": "execute_result"
        }
      ],
      "source": [
        "base_EVENTVALIDATION[:10] , base_EVENTVALIDATION[-10:] , base_VIEWSTATE[:10], base_VIEWSTATE[-10:]"
      ]
    },
    {
      "cell_type": "markdown",
      "metadata": {},
      "source": [
        "#### Function"
      ]
    },
    {
      "cell_type": "code",
      "execution_count": 604,
      "metadata": {},
      "outputs": [],
      "source": [
        "# function to extract those parameters, as doing this is going to be done repeatedly later\n",
        "\n",
        "def get_eventvalidation_viewstate ( pagerequested ):\n",
        "  if pagerequested.ok:\n",
        "    page_soup = bs(pagerequested.text)\n",
        "    # extracting values of parameters\n",
        "    param_EVENTVALIDATION = page_soup.find('input', attrs={'name': '__EVENTVALIDATION'})['value']\n",
        "    param_VIEWSTATE = page_soup.find('input', attrs={'name': '__VIEWSTATE'})['value']\n",
        "    return param_EVENTVALIDATION , param_VIEWSTATE\n",
        "  else:\n",
        "    print('Not Found. Status code was: ', pagerequested.ok, page_request.status_code)  \n",
        "    param_EVENTVALIDATION = 'unable to load page'\n",
        "    param_VIEWSTATE = 'unable to load page'\n",
        "    return param_EVENTVALIDATION , param_VIEWSTATE"
      ]
    },
    {
      "cell_type": "code",
      "execution_count": 605,
      "metadata": {},
      "outputs": [
        {
          "data": {
            "text/plain": [
              "('dbLmTaco0x', 'v8xCvcRg8=')"
            ]
          },
          "execution_count": 605,
          "metadata": {},
          "output_type": "execute_result"
        }
      ],
      "source": [
        "# testing the function\n",
        "base_EVENTVALIDATION , base_VIEWSTATE   = get_eventvalidation_viewstate (page_request)\n",
        "# checking last 10 chars for each, as those are too big\n",
        "base_EVENTVALIDATION[-10:] , base_VIEWSTATE[-10:] "
      ]
    },
    {
      "cell_type": "markdown",
      "metadata": {
        "id": "EZ1289iu8LOf"
      },
      "source": [
        "## 3.Scraping previous date entities dollar exchange rate\n",
        "\n",
        "This section's purpose it to understand and confirm how the POST request to get previous days data is to be made, successfully"
      ]
    },
    {
      "cell_type": "code",
      "execution_count": 371,
      "metadata": {
        "colab": {
          "base_uri": "https://localhost:8080/"
        },
        "id": "Rcl0x3RJ6NRl",
        "outputId": "7da84c31-8e6f-4969-9eb5-7c7c21de8f5d"
      },
      "outputs": [],
      "source": [
        "# !ls pay*  \n",
        "# commented as the payload txt file is no longer needed as we will extract the aspx params from base page"
      ]
    },
    {
      "cell_type": "code",
      "execution_count": 372,
      "metadata": {
        "id": "hXNAc1oxvrXK"
      },
      "outputs": [],
      "source": [
        "# this one did not work as data is already encoded and also NOT in json format\n",
        "# with open('payload_json.txt','r') as f:\n",
        "  # payld =  f'{f.read()}'\n",
        "# payld\n",
        "# type(payld)\n"
      ]
    },
    {
      "cell_type": "code",
      "execution_count": 373,
      "metadata": {
        "id": "SEgM0bZDBFCP"
      },
      "outputs": [],
      "source": [
        "# # get text dict from file, and then convert to a true dict object\n",
        "# with open('payload_json_unencoded.txt','r') as f:\n",
        "#   payld =  f.read()\n",
        "\n",
        "# import json\n",
        "# payld = json.loads(payld)\n",
        "# payld\n",
        "# # type(payld)"
      ]
    },
    {
      "cell_type": "code",
      "execution_count": 374,
      "metadata": {
        "colab": {
          "base_uri": "https://localhost:8080/"
        },
        "id": "qYfWBzA98bNE",
        "outputId": "560a3cae-cee1-49bd-984a-89cf2502902d"
      },
      "outputs": [],
      "source": [
        "## NOT USED anymore as aspx params are being loaded from scraped page, instead hardcoded from a file\n",
        "\n",
        "# ## Config is mostly the same as previous section. Adding the payload needed for the\n",
        "# ## POST request that is done instead the GET request done before\n",
        "\n",
        "# # url_page = f'https://{host}/{urlpath}'\n",
        "\n",
        "# # When inspecting the browser behaviour, this request header is sent\n",
        "# # Content-Type: application/x-www-form-urlencoded\n",
        "\n",
        "# hdrs={'User-Agent': \"Mozilla/5.0 (X11; Linux x86_64) AppleWebKit/537.36 (KHTML, like Gecko) Chrome/125.0.0.0 Safari/537.36\",\n",
        "#       'Host' : f'{host}',\n",
        "#       'Accept-Language': 'en-US,en;q=0.9,es;q=0.8,es-CR;q=0.7,de;q=0.6',\n",
        "#       'Accept-Encoding': 'gzip, deflate, br, zstd',\n",
        "#       # 'Content-Type': 'application/x-www-form-urlencoded'  #removed, requests library takes care of it\n",
        "#       }\n",
        "\n",
        "# # payload = { '__EVENTTARGET' : 'Calendar1' , '__EVENTARGUMENT' : '8983' }\n",
        "\n",
        "# # with open('payload_json_unencoded.txt','r') as f:\n",
        "# #   payld =  f.read()\n",
        "# # import json\n",
        "# # payld = json.loads(payld)\n",
        "\n",
        "# # taken from recursively scraping section\n",
        "# if os.path.exists(JSON_FILE_NAME):\n",
        "#   print(f'Payload {JSON_FILE_NAME} exists locally, loading it into a variable...')\n",
        "#   with open(JSON_FILE_NAME,'r') as f:\n",
        "#     payld =  f.read()\n",
        "#   payld = json.loads(payld)\n",
        "# else:\n",
        "#   print(f'Payload {JSON_FILE_NAME} does not exist locally, loading it into a variable from github rawfile...')\n",
        "#   jsonfilereq = requests.get('https://raw.githubusercontent.com/lemilosm/bccr_dol_exc_entities_rate_history_webscraping/main/payload_json_unencoded.txt')\n",
        "#   if jsonfilereq.ok:\n",
        "#     payld = json.loads(jsonfilereq.text)\n",
        "#     #storing the downloaded json data into a file for future runs to have it\n",
        "#     with open(JSON_FILE_NAME,'w') as f:\n",
        "#       f.write(str(payld).replace(\"'\", '\"')) #future loads from file require \" instead '\n",
        "#     print(f'{JSON_FILE_NAME} saved locally')\n",
        "#   else:\n",
        "#     print('Payload json file could not be read from github either.')\n",
        "\n",
        "# # argument that controls the date, as described at the project's intro\n",
        "# past_date_to_scrape = date(2024, 8, 5)\n",
        "# past_date_to_scrape_inDays = (past_date_to_scrape - date(2000, 1, 1)).days\n",
        "\n",
        "# payld['__EVENTARGUMENT'] = past_date_to_scrape_inDays\n",
        "# # \"__EVENTARGUMENT\": \"8983\"\n",
        "\n",
        "# past_date_to_scrape_inDays , payld['__EVENTTARGET'] ,payld['__VIEWSTATEGENERATOR'] , payld['__EVENTARGUMENT']"
      ]
    },
    {
      "cell_type": "markdown",
      "metadata": {},
      "source": [
        "### Getting calendar page"
      ]
    },
    {
      "cell_type": "code",
      "execution_count": 375,
      "metadata": {},
      "outputs": [],
      "source": [
        "# Base Json string to be used as payload for POST requests\n",
        "# all parameters were observed to be constant, except for _EVENTVALIDATION and VIEWSTATE\n",
        "\n",
        "#this one defined as a constant at the beginning of the code\n",
        "# base_payload_json = {\"__EVENTTARGET\": \"Calendar1\", \"__EVENTARGUMENT\": \"\" , \"__VIEWSTATE\": \"\" ,\\\n",
        "#   \"__VIEWSTATEGENERATOR\": \"5CF5411C\" ,  \"__EVENTVALIDATION\": \"\" ,\\\n",
        "#     \"imgCalendario.x\": \"7\", \"imgCalendario.y\": \"8\" ,  \"CtrlBuscar2:txtPalabras\": \" \"}"
      ]
    },
    {
      "cell_type": "code",
      "execution_count": 376,
      "metadata": {},
      "outputs": [],
      "source": [
        "payload_json = base_payload_json.copy()\n",
        "# argument that controls the date, as described at the project's intro\n",
        "past_date_to_scrape = date(2024, 8, 1)\n",
        "past_date_to_scrape_inDays = (past_date_to_scrape - date(2000, 1, 1)).days\n",
        "# __EVENTVALIDATION and __VIEWSTATE populated with info from previous section, and __EVENTARGUMENT from\n",
        "#info of past date to be scraped\n",
        "payload_json['__EVENTVALIDATION'] = base_EVENTVALIDATION\n",
        "payload_json['__VIEWSTATE'] = base_VIEWSTATE\n",
        "payload_json['__EVENTARGUMENT'] = past_date_to_scrape_inDays"
      ]
    },
    {
      "cell_type": "code",
      "execution_count": 377,
      "metadata": {},
      "outputs": [
        {
          "name": "stdout",
          "output_type": "stream",
          "text": [
            "__EVENTVALIDATION : aco0x\n",
            "__VIEWSTATE : cRg8=\n"
          ]
        }
      ],
      "source": [
        "for k in  ['__EVENTVALIDATION','__VIEWSTATE'] :\n",
        "  val = payload_json[k][-5:]\n",
        "  print(f'{k} : {val}')"
      ]
    },
    {
      "cell_type": "code",
      "execution_count": 378,
      "metadata": {},
      "outputs": [],
      "source": [
        "# payload_json"
      ]
    },
    {
      "cell_type": "code",
      "execution_count": 379,
      "metadata": {
        "id": "2XEbeT1m9sX9"
      },
      "outputs": [
        {
          "data": {
            "text/plain": [
              "(200, 'OK')"
            ]
          },
          "execution_count": 379,
          "metadata": {},
          "output_type": "execute_result"
        }
      ],
      "source": [
        "# Performing the actual request.  Page with calendar is obtained with a POST request\n",
        "\n",
        "hdrs_post={'User-Agent': \"Mozilla/5.0 (X11; Linux x86_64) AppleWebKit/537.36 (KHTML, like Gecko) Chrome/125.0.0.0 Safari/537.36\",\n",
        "      'Host' : f'{host}',\n",
        "      'Accept-Language': 'en-US,en;q=0.9,es;q=0.8,es-CR;q=0.7,de;q=0.6',\n",
        "      'Accept-Encoding': 'gzip, deflate, br, zstd',\n",
        "      # 'Content-Type': 'application/x-www-form-urlencoded'  #removed, requests library takes care of it\n",
        "      }\n",
        "\n",
        "page_request_calendar = requests.post(url_page, headers=hdrs_post , data=payload_json )\n",
        "\n",
        "page_request_calendar.status_code, page_request_calendar.reason"
      ]
    },
    {
      "cell_type": "code",
      "execution_count": 380,
      "metadata": {
        "colab": {
          "base_uri": "https://localhost:8080/"
        },
        "id": "kmbpaOYsEGxK",
        "outputId": "b47061e2-2cd9-4357-882b-b3a490532e6c"
      },
      "outputs": [
        {
          "data": {
            "text/plain": [
              "{'User-Agent': 'Mozilla/5.0 (X11; Linux x86_64) AppleWebKit/537.36 (KHTML, like Gecko) Chrome/125.0.0.0 Safari/537.36', 'Accept-Encoding': 'gzip, deflate, br, zstd', 'Accept': '*/*', 'Connection': 'keep-alive', 'Host': 'gee.bccr.fi.cr', 'Accept-Language': 'en-US,en;q=0.9,es;q=0.8,es-CR;q=0.7,de;q=0.6', 'Content-Length': '12484', 'Content-Type': 'application/x-www-form-urlencoded'}"
            ]
          },
          "execution_count": 380,
          "metadata": {},
          "output_type": "execute_result"
        }
      ],
      "source": [
        "# req headers\n",
        "page_request_calendar.request.headers"
      ]
    },
    {
      "cell_type": "code",
      "execution_count": 381,
      "metadata": {
        "colab": {
          "base_uri": "https://localhost:8080/",
          "height": 35
        },
        "id": "_9GOsngXHWMT",
        "outputId": "7631a697-9563-4fdd-f15b-4e7c09a52511"
      },
      "outputs": [
        {
          "data": {
            "text/plain": [
              "'viernes, 16 de agosto de 2024'"
            ]
          },
          "execution_count": 381,
          "metadata": {},
          "output_type": "execute_result"
        }
      ],
      "source": [
        "# The date is still today, becaue we have only requested the page as if clicked the calendar button, \n",
        "# but not selected a previous date yet\n",
        "pd.read_html(io.StringIO(str(page_request_calendar.text)) , thousands=None,\n",
        "                          decimal=','  )[1][0][0]"
      ]
    },
    {
      "cell_type": "code",
      "execution_count": 382,
      "metadata": {},
      "outputs": [
        {
          "data": {
            "text/plain": [
              "('fg6jmLAcoH', '4PLI1nbkc=')"
            ]
          },
          "execution_count": 382,
          "metadata": {},
          "output_type": "execute_result"
        }
      ],
      "source": [
        "# getting calendar page aspx params\n",
        "calendar_EVENTVALIDATION , calendar_VIEWSTATE   = get_eventvalidation_viewstate (page_request_calendar)\n",
        "calendar_VIEWSTATE[-10:] , calendar_EVENTVALIDATION[-10:]"
      ]
    },
    {
      "cell_type": "code",
      "execution_count": 383,
      "metadata": {},
      "outputs": [
        {
          "data": {
            "text/plain": [
              "['agosto', 'de', '2024']"
            ]
          },
          "execution_count": 383,
          "metadata": {},
          "output_type": "execute_result"
        }
      ],
      "source": [
        "# calendar inspected.  the month is located at a td inside   <table id=\"Calendar1\" \n",
        "cal_page_soup = bs(page_request_calendar.text)\n",
        "cal_page_soup.find('table', attrs={'id': 'Calendar1'}).find_all('td')[2].text.split()"
      ]
    },
    {
      "cell_type": "code",
      "execution_count": 384,
      "metadata": {},
      "outputs": [
        {
          "data": {
            "text/plain": [
              "('ago', '2024')"
            ]
          },
          "execution_count": 384,
          "metadata": {},
          "output_type": "execute_result"
        }
      ],
      "source": [
        "# Making sure calendar is actually at the right month\n",
        "# getting the soup\n",
        "if page_request_calendar.ok:\n",
        "  cal_page_soup = bs(page_request_calendar.text)\n",
        "else:\n",
        "  print('Not Found. Status code was: ', page_request_calendar.status_code)\n",
        "\n",
        "# extracting values cal month and year\n",
        "current_cal_list = cal_page_soup.find('table', attrs={'id': 'Calendar1'}).find_all('td')[2].text.split()\n",
        "current_cal_month = current_cal_list[0][:3]  #need only first 3 letters (to later conver to english)\n",
        "current_cal_year = current_cal_list[2]\n",
        "\n",
        "#validation\n",
        "current_cal_month , current_cal_year"
      ]
    },
    {
      "cell_type": "code",
      "execution_count": 385,
      "metadata": {},
      "outputs": [
        {
          "data": {
            "text/plain": [
              "'Aug'"
            ]
          },
          "execution_count": 385,
          "metadata": {},
          "output_type": "execute_result"
        }
      ],
      "source": [
        "# Converting month from spanish to english\n",
        "# Dictionary of spanish months translated to english, commenting the ones that have no change\n",
        "months_spa_to_eng = {'ene': 'Jan', 'feb': 'Feb', 'mar': 'Mar', 'abr': 'Apr', 'may': 'May', 'jun': 'Jun',\\\n",
        "                     'jul': 'Jul', 'ago': 'Aug','set': 'Sep', 'oct': 'Oct', 'nov': 'Nov', 'dic': 'Dec' }\n",
        "for spa, eng in months_spa_to_eng.items():\n",
        "    current_cal_month = current_cal_month.replace(spa, eng)\n",
        "\n",
        "#Validation\n",
        "current_cal_month"
      ]
    },
    {
      "cell_type": "markdown",
      "metadata": {},
      "source": [
        "#### Function"
      ]
    },
    {
      "cell_type": "code",
      "execution_count": 585,
      "metadata": {},
      "outputs": [],
      "source": [
        "def calendar_page_scrape ( days_backwards_to_scrape , base_EVENTVALIDATION , base_VIEWSTATE , payload = base_payload_json.copy() ):\n",
        "    \n",
        "  payload['__EVENTVALIDATION'] = base_EVENTVALIDATION\n",
        "  payload['__VIEWSTATE'] = base_VIEWSTATE\n",
        "  payload['__EVENTARGUMENT'] = days_backwards_to_scrape\n",
        "  payload['__EVENTTARGET'] = ''  #thats how browser does it \n",
        "  # pretty = json.dumps(payload, indent = 1 )\n",
        "  # print (pretty)\n",
        "  # Performing the actual request.  Page with calendar is obtained with a POST request\n",
        "  hdrs_post={'User-Agent': \"Mozilla/5.0 (X11; Linux x86_64) AppleWebKit/537.36 (KHTML, like Gecko) Chrome/125.0.0.0 Safari/537.36\",\n",
        "        'Host' : f'{host}', 'Accept-Language': 'en-US,en;q=0.9,es;q=0.8,es-CR;q=0.7,de;q=0.6',\n",
        "        'Accept-Encoding': 'gzip, deflate, br, zstd',\n",
        "        # 'Content-Type': 'application/x-www-form-urlencoded'  #removed, requests library takes care of it\n",
        "        }\n",
        "\n",
        "  page_request_calendar = requests.post(url_page, headers=hdrs_post , data=payload )\n",
        "\n",
        "  # getting calendar page aspx params\n",
        "  calendar_EVENTVALIDATION , calendar_VIEWSTATE = get_eventvalidation_viewstate (page_request_calendar)\n",
        "  \n",
        "  # Making sure calendar is actually at the right month\n",
        "  # getting the soup\n",
        "  if page_request_calendar.ok:\n",
        "    cal_page_soup = bs(page_request_calendar.text)\n",
        "    # extracting values cal month and year\n",
        "    current_cal_list = cal_page_soup.find('table', attrs={'id': 'Calendar1'}).find_all('td')[2].text.split()\n",
        "    current_cal_month = current_cal_list[0][:3]  #need only first 3 letters (to later conver to english)\n",
        "    current_cal_year = current_cal_list[2]\n",
        "    \n",
        "    # Converting month from spanish to english\n",
        "    months_spa_to_eng = {'ene': 'Jan', 'feb': 'Feb', 'mar': 'Mar', 'abr': 'Apr', 'may': 'May', 'jun': 'Jun',\\\n",
        "                        'jul': 'Jul', 'ago': 'Aug','set': 'Sep', 'oct': 'Oct', 'nov': 'Nov', 'dic': 'Dec' }\n",
        "    for spa, eng in months_spa_to_eng.items():\n",
        "        current_cal_month = current_cal_month.replace(spa, eng)\n",
        "    \n",
        "    return calendar_EVENTVALIDATION , calendar_VIEWSTATE , current_cal_month, current_cal_year\n",
        "  else:\n",
        "    None"
      ]
    },
    {
      "cell_type": "code",
      "execution_count": 493,
      "metadata": {},
      "outputs": [
        {
          "name": "stdout",
          "output_type": "stream",
          "text": [
            "{\n",
            " \"__EVENTTARGET\": \"\",\n",
            " \"__EVENTARGUMENT\": 8950,\n",
            " \"__VIEWSTATE\": \"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\",\n",
            " \"__VIEWSTATEGENERATOR\": \"5CF5411C\",\n",
            " \"__EVENTVALIDATION\": \"/wEdAAjH6PedsR/ZorWR6iiv053g66NNLJrKqWhgYy+TDFtZRPBoHgA4ce3xhjVzeeqWAuDN+DvxnwFeFeJ9MIBWR693Ct06UGy5jXx0+f9lnUkfUKgJTA4QlCQL66RShhIrZeazngxbqX2wMqTQVnpTGNDpxvi2N73231HgAN1Khquf0B5Iu9MrQzBZM/PfCrRGkUbOY58wsKyLcadbLmTaco0x\",\n",
            " \"imgCalendario.x\": \"7\",\n",
            " \"imgCalendario.y\": \"8\",\n",
            " \"CtrlBuscar2:txtPalabras\": \"\"\n",
            "}\n"
          ]
        },
        {
          "data": {
            "text/plain": [
              "('nbkc=', 'LAcoH', 'Aug', '2024')"
            ]
          },
          "execution_count": 493,
          "metadata": {},
          "output_type": "execute_result"
        }
      ],
      "source": [
        "# function validation (calendar function does not need a value for eventargument, it can be empty)\n",
        "calEV , calVS , calmon , calyear  = calendar_page_scrape ( 8950 , base_EVENTVALIDATION , base_VIEWSTATE , base_payload_json.copy() )\n",
        "calEV[-5:] , calVS[-5:] , calmon, calyear"
      ]
    },
    {
      "cell_type": "markdown",
      "metadata": {},
      "source": [
        "#### Function 2\n",
        "\n",
        "This one is very similar to the above, it is needed when calendar needs to be changed to previous month, because the aspx params/values are a bit different"
      ]
    },
    {
      "cell_type": "code",
      "execution_count": 584,
      "metadata": {},
      "outputs": [],
      "source": [
        "def calendar_page_scrape_month_change ( day_evaluated , cal_EVENTVALIDATION , cal_VIEWSTATE , payload3 = base_payload_json.copy() ):\n",
        "  date_converted_from_EVENTARGUMENT_test = date(2000, 1, 1) + timedelta (days = day_evaluated )\n",
        "  _1st_of_month = date_converted_from_EVENTARGUMENT_test.replace(day=1)\n",
        "  _1st_of_month_days = (_1st_of_month - date(2000, 1, 1)).days #convert back to #### format\n",
        "  payload3['__EVENTVALIDATION'] = cal_EVENTVALIDATION\n",
        "  payload3['__VIEWSTATE'] = cal_VIEWSTATE\n",
        "  payload3['__EVENTARGUMENT'] = f'V{_1st_of_month_days}'  #this adds the V in V####\n",
        "  del payload3['imgCalendario.x'] \n",
        "  del payload3['imgCalendario.y']  \n",
        "  # pretty = json.dumps(payload3, indent = 1 )\n",
        "  # print (pretty)\n",
        "  # Performing the actual request.  Page with calendar is obtained with a POST request\n",
        "  hdrs_post={'User-Agent': \"Mozilla/5.0 (X11; Linux x86_64) AppleWebKit/537.36 (KHTML, like Gecko) Chrome/125.0.0.0 Safari/537.36\",\n",
        "        'Host' : f'{host}', 'Accept-Language': 'en-US,en;q=0.9,es;q=0.8,es-CR;q=0.7,de;q=0.6',\n",
        "        'Accept-Encoding': 'gzip, deflate, br, zstd',\n",
        "        # 'Content-Type': 'application/x-www-form-urlencoded'  #removed, requests library takes care of it\n",
        "        }\n",
        "\n",
        "  page_request_calendar = requests.post(url_page, headers=hdrs_post , data=payload3 )\n",
        "\n",
        "  # getting calendar page aspx params\n",
        "  calendar_EVENTVALIDATION , calendar_VIEWSTATE = get_eventvalidation_viewstate (page_request_calendar)\n",
        "  \n",
        "  # Making sure calendar is actually at the right month\n",
        "  # getting the soup\n",
        "  if page_request_calendar.ok:\n",
        "    cal_page_soup = bs(page_request_calendar.text)\n",
        "    # extracting values cal month and year\n",
        "    current_cal_list = cal_page_soup.find('table', attrs={'id': 'Calendar1'}).find_all('td')[2].text.split()\n",
        "    current_cal_month = current_cal_list[0][:3]  #need only first 3 letters (to later conver to english)\n",
        "    current_cal_year = current_cal_list[2]\n",
        "    \n",
        "    # Converting month from spanish to english\n",
        "    months_spa_to_eng = {'ene': 'Jan', 'feb': 'Feb', 'mar': 'Mar', 'abr': 'Apr', 'may': 'May', 'jun': 'Jun',\\\n",
        "                        'jul': 'Jul', 'ago': 'Aug','set': 'Sep', 'oct': 'Oct', 'nov': 'Nov', 'dic': 'Dec' }\n",
        "    for spa, eng in months_spa_to_eng.items():\n",
        "        current_cal_month = current_cal_month.replace(spa, eng)    \n",
        "      \n",
        "    return calendar_EVENTVALIDATION , calendar_VIEWSTATE , current_cal_month, current_cal_year\n",
        "  else:\n",
        "    # print('Not Found. Status code was: ', page_request_calendar.status_code)\n",
        "    None\n",
        "  "
      ]
    },
    {
      "cell_type": "code",
      "execution_count": 559,
      "metadata": {},
      "outputs": [],
      "source": [
        "days_function_test = (date(2024,7,3) - date(2000, 1, 1)).days"
      ]
    },
    {
      "cell_type": "code",
      "execution_count": 560,
      "metadata": {},
      "outputs": [
        {
          "name": "stdout",
          "output_type": "stream",
          "text": [
            "{\n",
            " \"__EVENTTARGET\": \"Calendar1\",\n",
            " \"__EVENTARGUMENT\": \"V8948\",\n",
            " \"__VIEWSTATE\": \"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\",\n",
            " \"__VIEWSTATEGENERATOR\": \"5CF5411C\",\n",
            " \"__EVENTVALIDATION\": \"/wEdADRWPECVDP28fcaO658W3i1M66NNLJrKqWhgYy+TDFtZRPBoHgA4ce3xhjVzeeqWAuBj8YcPrEwgfJI8PNLX7/Iiahbztiazi9DZIx9FOWJvb6liwQ8f2L0Hd1Tfy5UwWc/fADrzJhNRBC/GwRDhMBGk3Qf0d0iTUMD7KXMVp/yDMGCpGFwtAP3vuchVcIAJCwfFcCtuAqq4CP4fR//k7epR44MgBbK/TS4IPDDzPXtSHP3Zh1wsxTKUa5ZM5aG9l18ZHHOj1VpJXXvg63iMBxNHFhNBh5v6OJa/UW2vHp347Zp1kdlsefJFGN/iRiy4HE0EPEptviVBm82EbX31RQ4096VrwyYQpBXC3C72tj5PF2v8PGrfzW/uM0q3V2rKMfKN1AwskL2fBmVuzaVKgii7/F0MiWt9QZ3yf4p9zuiWIcuWioDPZqRSY3VujHoETuVXBYBabi3iXxhdPJww75O1PybwbWDWn/R7Gs7wTJPYjp58O26q58cBC7anNSjEJx0iBIp9B1WutP9qGT2HNfxv1yKLQD/ubTmKb+8zQN1Rb2dLJkUBDXvIuUkWNLUSweGvAS2Jpjh3M21z0a6tfF17OlpUOY2l3OulHMch16CRge35Be3k3HNPZctlZAiiHDUez1Qu2JqV6MDsf2cUwvxS26WmXIUNlzMPld05YtMTZrLpoG8Qe/N9jQB0MN/MhrAVcwWa5TUSp+yvZtUSi9U+qLl/GvKW6Zgqg/B+lzKbeugMC5nY1RBMKokAobDuSOay70O/Y7vQwTa+kcJzV6fFLE8HIXwp6ZG/KMwKikChmJrA5S80595zwOdXRtSwT6eGAAnM6SJ4VXj2sJyhppzorGWSfk8fEcv6Hd2D6xm7acUqz85gZDtvInYE92m/8KUDcecmoA+D6ta3urHC7/Wr6A9LOZCxYFQJAfWRz7cNTdwPg7tDVNy9evxQuMimt3OlpXbP0nDDOxRUrNBomQUt+vk80/f4PP6jgW6yeBlzGc34O/GfAV4V4n0wgFZHr3cK3TpQbLmNfHT5/2WdSR9QqAlMDhCUJAvrpFKGEitl5rOeDFupfbAypNBWelMY0OnG+LY3vfbfUeAA3UqGq5/QZKxnkgh0RZWTQQ0kN5mRVNS8saf6Ha45xl4PLI1nbkc=\",\n",
            " \"CtrlBuscar2:txtPalabras\": \"\"\n",
            "}\n"
          ]
        },
        {
          "data": {
            "text/plain": [
              "('wkKA=', 'Www==', 'Jul', '2024')"
            ]
          },
          "execution_count": 560,
          "metadata": {},
          "output_type": "execute_result"
        }
      ],
      "source": [
        "# function2 validation . \n",
        "# eventargument must be V###, #### being the 1st of the month for that month. eg: for 2024jul03 (8950) it must be 8948\n",
        "# EV and VS from calendar scrape are needed\n",
        "calEV_new , calVS_new , calmon_new , calyear_new  = calendar_page_scrape_month_change ( days_function_test  , calEV , calVS, base_payload_json.copy() )\n",
        "calEV_new[-5:] , calVS_new[-5:] , calmon_new, calyear_new"
      ]
    },
    {
      "cell_type": "markdown",
      "metadata": {},
      "source": [
        "### Changing calendar page to prev month if necessary"
      ]
    },
    {
      "cell_type": "code",
      "execution_count": 435,
      "metadata": {},
      "outputs": [
        {
          "data": {
            "text/plain": [
              "('aco0x', 'cRg8=', 'nbkc=', 'LAcoH', 'Aug', '2024')"
            ]
          },
          "execution_count": 435,
          "metadata": {},
          "output_type": "execute_result"
        }
      ],
      "source": [
        "base_EVENTVALIDATION[-5:] , base_VIEWSTATE[-5:] , calEV[-5:] , calVS[-5:], calmon, calyear"
      ]
    },
    {
      "cell_type": "code",
      "execution_count": 446,
      "metadata": {},
      "outputs": [
        {
          "data": {
            "text/plain": [
              "{'__EVENTTARGET': 'Calendar1',\n",
              " '__EVENTARGUMENT': '',\n",
              " '__VIEWSTATE': '',\n",
              " '__VIEWSTATEGENERATOR': '5CF5411C',\n",
              " '__EVENTVALIDATION': '',\n",
              " 'imgCalendario.x': '7',\n",
              " 'imgCalendario.y': '8',\n",
              " 'CtrlBuscar2:txtPalabras': ' '}"
            ]
          },
          "execution_count": 446,
          "metadata": {},
          "output_type": "execute_result"
        }
      ],
      "source": [
        "base_payload_json"
      ]
    },
    {
      "cell_type": "code",
      "execution_count": 562,
      "metadata": {},
      "outputs": [
        {
          "data": {
            "text/plain": [
              "8950"
            ]
          },
          "execution_count": 562,
          "metadata": {},
          "output_type": "execute_result"
        }
      ],
      "source": [
        "# Purpose of this cell is to quickly calculare the #### date/day number for testing\n",
        "# In the next section we would work with days in relation to 2000-1-1, so the validation must be done \n",
        "# using that kind of number\n",
        "\n",
        "#same as  days_function_test  defined above\n",
        "days_function_test "
      ]
    },
    {
      "cell_type": "code",
      "execution_count": 420,
      "metadata": {},
      "outputs": [],
      "source": [
        "# # This was need as pc where this was developed was using es_US, and spanish was intefering with\n",
        "# # dates generation names.  added to top of code\n",
        "# locale.setlocale(locale.LC_TIME, ('en_US', 'UTF-8'))"
      ]
    },
    {
      "cell_type": "code",
      "execution_count": 563,
      "metadata": {},
      "outputs": [
        {
          "data": {
            "text/plain": [
              "(datetime.date(2024, 7, 3), 'Jul', '2024')"
            ]
          },
          "execution_count": 563,
          "metadata": {},
          "output_type": "execute_result"
        }
      ],
      "source": [
        "# We must learn to convert that number to date object in order to get its month and year so we can compare\n",
        "# against the one we got\n",
        "\n",
        "# The way to do that is to use a days timedelta summed on top of 2000-1-1\n",
        "date_converted_from_EVENTARGUMENT = date(2000, 1, 1) + timedelta (days = days_function_test )\n",
        "\n",
        "date_converted_from_EVENTARGUMENT, date_converted_from_EVENTARGUMENT.strftime('%b'), str(date_converted_from_EVENTARGUMENT.year)"
      ]
    },
    {
      "cell_type": "code",
      "execution_count": 416,
      "metadata": {},
      "outputs": [],
      "source": [
        "# # But date_converted_from_EVENTARGUMENT.strftime('%b')  is the mmm month in spanish.  need to convert that \\\n",
        "# # to english to make a proper comparison agains calmon which is in englishc\n",
        "\n",
        "# EVENTARGUMENT_month_test = date_converted_from_EVENTARGUMENT.strftime('%b')\n",
        "\n",
        "# # Converting month from spanish to english\n",
        "# months_spa_to_eng = {'ene': 'Jan', 'feb': 'Feb', 'mar': 'Mar', 'abr': 'Apr', 'may': 'May', 'jun': 'Jun',\\\n",
        "#                      'jul': 'Jul', 'ago': 'Aug','set': 'Sep', 'oct': 'Oct', 'nov': 'Nov', 'dic': 'Dec' }\n",
        "# for spa, eng in months_spa_to_eng.items():\n",
        "#     current_cal_month = EVENTARGUMENT_month_test.replace(spa, eng)\n",
        "    \n",
        "# EVENTARGUMENT_month_test"
      ]
    },
    {
      "cell_type": "code",
      "execution_count": 564,
      "metadata": {},
      "outputs": [
        {
          "name": "stdout",
          "output_type": "stream",
          "text": [
            "Aug 2024 Jul 2024\n",
            "Calendar month/year must be adjusted\n"
          ]
        }
      ],
      "source": [
        "# this piece of code should help with the comparison then, when its time to iterate for many days\n",
        "\n",
        "# EVENTARGUMENT_days = 8978\n",
        "EVENTARGUMENT_days = days_function_test \n",
        "date_converted_from_EVENTARGUMENT = date(2000, 1, 1) + timedelta (days = EVENTARGUMENT_days)\n",
        "EVENTARGUMENT_month = date_converted_from_EVENTARGUMENT.strftime('%b')\n",
        "EVENTARGUMENT_year = str(date_converted_from_EVENTARGUMENT.year)  \n",
        "print(calmon , calyear , EVENTARGUMENT_month , EVENTARGUMENT_year)\n",
        "if [ calmon , calyear] == [EVENTARGUMENT_month , EVENTARGUMENT_year]:\n",
        "  print('No need to change calendar month/year')\n",
        "else:\n",
        "  print('Calendar month/year must be adjusted')\n",
        "# calendar args must be sent again to function calendar_page_scrape with latest calEV and calVS\\\n",
        "# and eventargument as 'V####' of the first day of the same month as EVENTARGUMENT_year, and obtain new \n",
        "# calEV and calVS"
      ]
    },
    {
      "cell_type": "code",
      "execution_count": 566,
      "metadata": {},
      "outputs": [
        {
          "name": "stdout",
          "output_type": "stream",
          "text": [
            "{\n",
            " \"__EVENTTARGET\": \"Calendar1\",\n",
            " \"__EVENTARGUMENT\": \"V8948\",\n",
            " \"__VIEWSTATE\": \"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\",\n",
            " \"__VIEWSTATEGENERATOR\": \"5CF5411C\",\n",
            " \"__EVENTVALIDATION\": \"/wEdADRWPECVDP28fcaO658W3i1M66NNLJrKqWhgYy+TDFtZRPBoHgA4ce3xhjVzeeqWAuBj8YcPrEwgfJI8PNLX7/Iiahbztiazi9DZIx9FOWJvb6liwQ8f2L0Hd1Tfy5UwWc/fADrzJhNRBC/GwRDhMBGk3Qf0d0iTUMD7KXMVp/yDMGCpGFwtAP3vuchVcIAJCwfFcCtuAqq4CP4fR//k7epR44MgBbK/TS4IPDDzPXtSHP3Zh1wsxTKUa5ZM5aG9l18ZHHOj1VpJXXvg63iMBxNHFhNBh5v6OJa/UW2vHp347Zp1kdlsefJFGN/iRiy4HE0EPEptviVBm82EbX31RQ4096VrwyYQpBXC3C72tj5PF2v8PGrfzW/uM0q3V2rKMfKN1AwskL2fBmVuzaVKgii7/F0MiWt9QZ3yf4p9zuiWIcuWioDPZqRSY3VujHoETuVXBYBabi3iXxhdPJww75O1PybwbWDWn/R7Gs7wTJPYjp58O26q58cBC7anNSjEJx0iBIp9B1WutP9qGT2HNfxv1yKLQD/ubTmKb+8zQN1Rb2dLJkUBDXvIuUkWNLUSweGvAS2Jpjh3M21z0a6tfF17OlpUOY2l3OulHMch16CRge35Be3k3HNPZctlZAiiHDUez1Qu2JqV6MDsf2cUwvxS26WmXIUNlzMPld05YtMTZrLpoG8Qe/N9jQB0MN/MhrAVcwWa5TUSp+yvZtUSi9U+qLl/GvKW6Zgqg/B+lzKbeugMC5nY1RBMKokAobDuSOay70O/Y7vQwTa+kcJzV6fFLE8HIXwp6ZG/KMwKikChmJrA5S80595zwOdXRtSwT6eGAAnM6SJ4VXj2sJyhppzorGWSfk8fEcv6Hd2D6xm7acUqz85gZDtvInYE92m/8KUDcecmoA+D6ta3urHC7/Wr6A9LOZCxYFQJAfWRz7cNTdwPg7tDVNy9evxQuMimt3OlpXbP0nDDOxRUrNBomQUt+vk80/f4PP6jgW6yeBlzGc34O/GfAV4V4n0wgFZHr3cK3TpQbLmNfHT5/2WdSR9QqAlMDhCUJAvrpFKGEitl5rOeDFupfbAypNBWelMY0OnG+LY3vfbfUeAA3UqGq5/QZKxnkgh0RZWTQQ0kN5mRVNS8saf6Ha45xl4PLI1nbkc=\",\n",
            " \"CtrlBuscar2:txtPalabras\": \"\"\n",
            "}\n"
          ]
        },
        {
          "data": {
            "text/plain": [
              "('wkKA=', 'Www==', 'Jul', '2024')"
            ]
          },
          "execution_count": 566,
          "metadata": {},
          "output_type": "execute_result"
        }
      ],
      "source": [
        "# This is the calendar change going back to previous month, overwriting the calEV and calVS to finally\n",
        "# get the data from the desired date in the past\n",
        "calEV , calVS , calmon , calyear  = calendar_page_scrape_month_change ( days_function_test , calEV , calVS, base_payload_json.copy() )\n",
        "calEV[-5:] , calVS[-5:] , calmon , calyear "
      ]
    },
    {
      "cell_type": "markdown",
      "metadata": {},
      "source": [
        "### Getting previous date page\n",
        "\n",
        "The new POST request must be made with updated aspx EVENTVALIDATION and VIEWSTATE values"
      ]
    },
    {
      "cell_type": "code",
      "execution_count": 569,
      "metadata": {},
      "outputs": [
        {
          "name": "stdout",
          "output_type": "stream",
          "text": [
            "__EVENTVALIDATION : wkKA=\n",
            "__VIEWSTATE : Www==\n"
          ]
        }
      ],
      "source": [
        "# using a new payload var \n",
        "payload_json2 = base_payload_json.copy()\n",
        "# this one must not have the imgCalendario keys.  Deleting them\n",
        "del payload_json2['imgCalendario.x'] \n",
        "del payload_json2['imgCalendario.y']\n",
        "# argument that controls the date, as described at the project's intro\n",
        "# past_date_to_scrape = date(2024, 8, 1) #result is like  datetime.date(2024, 8, 1)\n",
        "# past_date_to_scrape_inDays = (past_date_to_scrape - date(2000, 1, 1)).days #result like 8###\n",
        "past_date_to_scrape_inDays = days_function_test\n",
        "# __EVENTVALIDATION and __VIEWSTATE populated with info from previous section, and __EVENTARGUMENT from\n",
        "#info of past date to be scraped\n",
        "# payload_json2['__EVENTVALIDATION'] = calendar_EVENTVALIDATION\n",
        "payload_json2['__EVENTVALIDATION'] = calEV\n",
        "# payload_json2['__VIEWSTATE'] = calendar_VIEWSTATE\n",
        "payload_json2['__VIEWSTATE'] = calVS\n",
        "payload_json2['__EVENTARGUMENT'] = past_date_to_scrape_inDays\n",
        "\n",
        "#\n",
        "for k in  ['__EVENTVALIDATION','__VIEWSTATE'] :\n",
        "  val = payload_json2[k][-5:]\n",
        "  print(f'{k} : {val}')"
      ]
    },
    {
      "cell_type": "code",
      "execution_count": 570,
      "metadata": {},
      "outputs": [
        {
          "data": {
            "text/plain": [
              "(200, 'OK')"
            ]
          },
          "execution_count": 570,
          "metadata": {},
          "output_type": "execute_result"
        }
      ],
      "source": [
        "# Performing the actual request.  Previous day's data is done with a POST request\n",
        "# using same headers already stored before, and new payload jason var\n",
        "\n",
        "page_request_prevdate = requests.post(url_page, headers=hdrs_post , data=payload_json2 )\n",
        "\n",
        "page_request_prevdate.status_code, page_request_prevdate.reason"
      ]
    },
    {
      "cell_type": "code",
      "execution_count": 571,
      "metadata": {},
      "outputs": [
        {
          "data": {
            "text/plain": [
              "'miércoles, 3 de julio de 2024'"
            ]
          },
          "execution_count": 571,
          "metadata": {},
          "output_type": "execute_result"
        }
      ],
      "source": [
        "# \n",
        "pd.read_html(io.StringIO(str(page_request_prevdate.text)) , thousands=None, decimal=','  )[1][0][0]"
      ]
    },
    {
      "cell_type": "markdown",
      "metadata": {},
      "source": [
        "#### Function"
      ]
    },
    {
      "cell_type": "code",
      "execution_count": 399,
      "metadata": {},
      "outputs": [
        {
          "data": {
            "text/plain": [
              "{'__EVENTTARGET': 'Calendar1',\n",
              " '__EVENTARGUMENT': '',\n",
              " '__VIEWSTATE': '',\n",
              " '__VIEWSTATEGENERATOR': '5CF5411C',\n",
              " '__EVENTVALIDATION': '',\n",
              " 'imgCalendario.x': '7',\n",
              " 'imgCalendario.y': '8',\n",
              " 'CtrlBuscar2:txtPalabras': ' '}"
            ]
          },
          "execution_count": 399,
          "metadata": {},
          "output_type": "execute_result"
        }
      ],
      "source": [
        "base_payload_json"
      ]
    },
    {
      "cell_type": "code",
      "execution_count": 572,
      "metadata": {},
      "outputs": [],
      "source": [
        "def prevday_page_scrape (specificDay, cal_EVENTVALIDATION, cal_VIEWSTATE, payload2 = base_payload_json.copy() ):\n",
        "  # using a new payload var \n",
        "    # this one must not have the imgCalendario keys.  Deleting them\n",
        "  del payload2['imgCalendario.x'] \n",
        "  del payload2['imgCalendario.y']\n",
        "  # __EVENTVALIDATION and __VIEWSTATE populated with info from cal page\n",
        "  payload2['__EVENTVALIDATION'] = cal_EVENTVALIDATION\n",
        "  payload2['__VIEWSTATE'] = cal_VIEWSTATE\n",
        "  payload2['__EVENTARGUMENT'] = specificDay\n",
        "  # print(payload2)\n",
        "    # Performing the actual request.  Page with calendar is obtained with a POST request\n",
        "  hdrs_post={'User-Agent': \"Mozilla/5.0 (X11; Linux x86_64) AppleWebKit/537.36 (KHTML, like Gecko) Chrome/125.0.0.0 Safari/537.36\",\n",
        "        'Host' : f'{host}', 'Accept-Language': 'en-US,en;q=0.9,es;q=0.8,es-CR;q=0.7,de;q=0.6',\n",
        "        'Accept-Encoding': 'gzip, deflate, br, zstd',\n",
        "        # 'Content-Type': 'application/x-www-form-urlencoded'  #removed, requests library takes care of it\n",
        "        }\n",
        "\n",
        "  page_request_prevdate = requests.post(url_page, headers=hdrs_post , data=payload2 )\n",
        "\n",
        "  return page_request_prevdate \n",
        "\n"
      ]
    },
    {
      "cell_type": "code",
      "execution_count": 401,
      "metadata": {},
      "outputs": [
        {
          "data": {
            "text/plain": [
              "8979"
            ]
          },
          "execution_count": 401,
          "metadata": {},
          "output_type": "execute_result"
        }
      ],
      "source": [
        "(date(2024,8,1)- date(2000, 1, 1)).days"
      ]
    },
    {
      "cell_type": "code",
      "execution_count": 573,
      "metadata": {},
      "outputs": [],
      "source": [
        "# Function validation\n",
        "page_request_prevdate2 = prevday_page_scrape( days_function_test , calEV , calVS, base_payload_json.copy() )"
      ]
    },
    {
      "cell_type": "code",
      "execution_count": 574,
      "metadata": {},
      "outputs": [
        {
          "data": {
            "text/plain": [
              "'miércoles, 3 de julio de 2024'"
            ]
          },
          "execution_count": 574,
          "metadata": {},
          "output_type": "execute_result"
        }
      ],
      "source": [
        "pd.read_html(io.StringIO(str(page_request_prevdate2.text)) , thousands=None, decimal=',' )[1][0][0]"
      ]
    },
    {
      "cell_type": "code",
      "execution_count": 575,
      "metadata": {},
      "outputs": [
        {
          "data": {
            "text/plain": [
              "' align=\"left\">&nbsp;</td><td align=\"left\">Banco Nacional de Costa Rica                                          </td><td align=\"right\">517,50</td><td align=\"right\">531,00</td><td align=\"right\">13,50</td><td>03/07/2024\\xa0\\xa0\\xa0\\xa008:08 a.m.</td>\\r\\n\\t</tr><tr align=\"right\" style=\"color:Black;background-color:White;font-family:Arial;font-size:10pt;\">\\r\\n\\t\\t<td align=\"left\" style=\"color:White;\">&nbsp;</td><td align=\"left\">Banco Popular y de Desarrollo Comunal                                 </td><td align=\"right\">518,00</td><td align=\"right\">532,00</td><td align=\"right\">14,00</td><td>27/06/2024\\xa0\\xa0\\xa0\\xa012:28 p.m.</td>\\r\\n\\t</tr><tr align=\"right\" style=\"color:Black;background-color:#DFED'"
            ]
          },
          "execution_count": 575,
          "metadata": {},
          "output_type": "execute_result"
        }
      ],
      "source": [
        "page_request_prevdate2.text[40330:41000]"
      ]
    },
    {
      "cell_type": "markdown",
      "metadata": {
        "id": "k5W54YeWEmO9"
      },
      "source": [
        "### Building the dataframe from scraped html"
      ]
    },
    {
      "cell_type": "code",
      "execution_count": 576,
      "metadata": {
        "colab": {
          "base_uri": "https://localhost:8080/",
          "height": 35
        },
        "id": "wgiSIHj5Zwft",
        "outputId": "bef66d9b-2bfc-4f73-eb40-0b4f3caaeefc"
      },
      "outputs": [
        {
          "data": {
            "text/plain": [
              "(datetime.date(2024, 8, 1), '2024-08-01', 8979)"
            ]
          },
          "execution_count": 576,
          "metadata": {},
          "output_type": "execute_result"
        }
      ],
      "source": [
        "past_date_to_scrape , past_date_to_scrape.strftime('%Y-%m-%d') , (past_date_to_scrape - date(2000, 1, 1)).days"
      ]
    },
    {
      "cell_type": "code",
      "execution_count": 577,
      "metadata": {},
      "outputs": [
        {
          "data": {
            "text/html": [
              "<div>\n",
              "<style scoped>\n",
              "    .dataframe tbody tr th:only-of-type {\n",
              "        vertical-align: middle;\n",
              "    }\n",
              "\n",
              "    .dataframe tbody tr th {\n",
              "        vertical-align: top;\n",
              "    }\n",
              "\n",
              "    .dataframe thead th {\n",
              "        text-align: right;\n",
              "    }\n",
              "</style>\n",
              "<table border=\"1\" class=\"dataframe\">\n",
              "  <thead>\n",
              "    <tr style=\"text-align: right;\">\n",
              "      <th></th>\n",
              "      <th>date</th>\n",
              "      <th>ent_type</th>\n",
              "      <th>ent_name</th>\n",
              "      <th>dollar_buy</th>\n",
              "      <th>dollar_sale</th>\n",
              "      <th>b_s_diff</th>\n",
              "      <th>previous_updt</th>\n",
              "    </tr>\n",
              "  </thead>\n",
              "  <tbody>\n",
              "    <tr>\n",
              "      <th>0</th>\n",
              "      <td>2024-08-16</td>\n",
              "      <td>Bancos públicos</td>\n",
              "      <td>Banco de Costa Rica</td>\n",
              "      <td>519.0</td>\n",
              "      <td>533.0</td>\n",
              "      <td>14.0</td>\n",
              "      <td>2024-07-03 09:01:00</td>\n",
              "    </tr>\n",
              "    <tr>\n",
              "      <th>1</th>\n",
              "      <td>2024-08-16</td>\n",
              "      <td>Bancos públicos</td>\n",
              "      <td>Banco Nacional de Costa Rica</td>\n",
              "      <td>517.5</td>\n",
              "      <td>531.0</td>\n",
              "      <td>13.5</td>\n",
              "      <td>2024-07-03 08:08:00</td>\n",
              "    </tr>\n",
              "    <tr>\n",
              "      <th>2</th>\n",
              "      <td>2024-08-16</td>\n",
              "      <td>Bancos públicos</td>\n",
              "      <td>Banco Popular y de Desarrollo Comunal</td>\n",
              "      <td>518.0</td>\n",
              "      <td>532.0</td>\n",
              "      <td>14.0</td>\n",
              "      <td>2024-06-27 12:28:00</td>\n",
              "    </tr>\n",
              "  </tbody>\n",
              "</table>\n",
              "</div>"
            ],
            "text/plain": [
              "        date         ent_type                               ent_name  \\\n",
              "0 2024-08-16  Bancos públicos                    Banco de Costa Rica   \n",
              "1 2024-08-16  Bancos públicos           Banco Nacional de Costa Rica   \n",
              "2 2024-08-16  Bancos públicos  Banco Popular y de Desarrollo Comunal   \n",
              "\n",
              "   dollar_buy  dollar_sale  b_s_diff       previous_updt  \n",
              "0       519.0        533.0      14.0 2024-07-03 09:01:00  \n",
              "1       517.5        531.0      13.5 2024-07-03 08:08:00  \n",
              "2       518.0        532.0      14.0 2024-06-27 12:28:00  "
            ]
          },
          "execution_count": 577,
          "metadata": {},
          "output_type": "execute_result"
        }
      ],
      "source": [
        "## the function from todays exc works...except for the date column which still displays today's date\n",
        "dol_exch_ent_df_build(page_request_prevdate).head(3)\n",
        "# so..need new function based on the previous one for generating the df"
      ]
    },
    {
      "cell_type": "markdown",
      "metadata": {},
      "source": [
        "#### Function"
      ]
    },
    {
      "cell_type": "code",
      "execution_count": 578,
      "metadata": {},
      "outputs": [],
      "source": [
        "## building a new function for prev date df build, based on todays df function\n",
        "def dol_exch_ent_df_build_prevday (pagereq , dateYMD):\n",
        "  df_tempprev = dol_exch_ent_df_build(pagereq)  \n",
        "  df_tempprev['date']=dateYMD  # updates date to the one of the day being evaluated\n",
        "  df_tempprev['date']=pd.to_datetime(df_tempprev['date'])\n",
        "  return df_tempprev"
      ]
    },
    {
      "cell_type": "code",
      "execution_count": 579,
      "metadata": {},
      "outputs": [
        {
          "data": {
            "text/html": [
              "<div>\n",
              "<style scoped>\n",
              "    .dataframe tbody tr th:only-of-type {\n",
              "        vertical-align: middle;\n",
              "    }\n",
              "\n",
              "    .dataframe tbody tr th {\n",
              "        vertical-align: top;\n",
              "    }\n",
              "\n",
              "    .dataframe thead th {\n",
              "        text-align: right;\n",
              "    }\n",
              "</style>\n",
              "<table border=\"1\" class=\"dataframe\">\n",
              "  <thead>\n",
              "    <tr style=\"text-align: right;\">\n",
              "      <th></th>\n",
              "      <th>date</th>\n",
              "      <th>ent_type</th>\n",
              "      <th>ent_name</th>\n",
              "      <th>dollar_buy</th>\n",
              "      <th>dollar_sale</th>\n",
              "      <th>b_s_diff</th>\n",
              "      <th>previous_updt</th>\n",
              "    </tr>\n",
              "  </thead>\n",
              "  <tbody>\n",
              "    <tr>\n",
              "      <th>0</th>\n",
              "      <td>2024-08-01</td>\n",
              "      <td>Bancos públicos</td>\n",
              "      <td>Banco de Costa Rica</td>\n",
              "      <td>519.0</td>\n",
              "      <td>533.0</td>\n",
              "      <td>14.0</td>\n",
              "      <td>2024-07-03 09:01:00</td>\n",
              "    </tr>\n",
              "    <tr>\n",
              "      <th>1</th>\n",
              "      <td>2024-08-01</td>\n",
              "      <td>Bancos públicos</td>\n",
              "      <td>Banco Nacional de Costa Rica</td>\n",
              "      <td>517.5</td>\n",
              "      <td>531.0</td>\n",
              "      <td>13.5</td>\n",
              "      <td>2024-07-03 08:08:00</td>\n",
              "    </tr>\n",
              "    <tr>\n",
              "      <th>2</th>\n",
              "      <td>2024-08-01</td>\n",
              "      <td>Bancos públicos</td>\n",
              "      <td>Banco Popular y de Desarrollo Comunal</td>\n",
              "      <td>518.0</td>\n",
              "      <td>532.0</td>\n",
              "      <td>14.0</td>\n",
              "      <td>2024-06-27 12:28:00</td>\n",
              "    </tr>\n",
              "  </tbody>\n",
              "</table>\n",
              "</div>"
            ],
            "text/plain": [
              "        date         ent_type                               ent_name  \\\n",
              "0 2024-08-01  Bancos públicos                    Banco de Costa Rica   \n",
              "1 2024-08-01  Bancos públicos           Banco Nacional de Costa Rica   \n",
              "2 2024-08-01  Bancos públicos  Banco Popular y de Desarrollo Comunal   \n",
              "\n",
              "   dollar_buy  dollar_sale  b_s_diff       previous_updt  \n",
              "0       519.0        533.0      14.0 2024-07-03 09:01:00  \n",
              "1       517.5        531.0      13.5 2024-07-03 08:08:00  \n",
              "2       518.0        532.0      14.0 2024-06-27 12:28:00  "
            ]
          },
          "execution_count": 579,
          "metadata": {},
          "output_type": "execute_result"
        }
      ],
      "source": [
        "# function validation\n",
        "\n",
        "# dol_exch_ent_df_build_prevday( page_request_prevdate, '2024-08-01' ).head(3)\n",
        "dol_exch_ent_df_build_prevday( page_request_prevdate, past_date_to_scrape.strftime('%Y-%m-%d') ).head(3)"
      ]
    },
    {
      "cell_type": "markdown",
      "metadata": {
        "id": "OTkVq-59ZVCt"
      },
      "source": [
        "## 4.Full iterative scraping entities dollar exchange rate from many different days before today\n",
        "\n",
        "Now that it is known how the past day scraping works, its time to scrape many different days, in bulk.\n",
        "\n",
        "Steps:\n",
        "\n",
        "4.1. Read Calendar page and extract aspx params, and also prev days's month \\\n",
        "4.2. If prev day's month matches the calendar month, continue to 4.3.  If not, request cal page for prev month\\\n",
        "---4.2.1 Update aspx params\\\n",
        "4.3. Read desired date page and extract html using requests\\\n",
        "4.4. Build dataframe and clean it, and add it to a definitive df for all the dates iterated\n"
      ]
    },
    {
      "cell_type": "code",
      "execution_count": 86,
      "metadata": {},
      "outputs": [
        {
          "data": {
            "text/plain": [
              "('1PAiM', '3eg==', 'jD3w=', 'Wlbs=')"
            ]
          },
          "execution_count": 86,
          "metadata": {},
          "output_type": "execute_result"
        }
      ],
      "source": [
        "base_EVENTVALIDATION[-5:], base_VIEWSTATE[-5:] , calEV[-5:] , calVS[-5:]"
      ]
    },
    {
      "cell_type": "code",
      "execution_count": 611,
      "metadata": {
        "colab": {
          "base_uri": "https://localhost:8080/"
        },
        "id": "Q5gWRLsKc4sB",
        "outputId": "263c729b-fec8-4751-8503-55093a092115"
      },
      "outputs": [
        {
          "name": "stdout",
          "output_type": "stream",
          "text": [
            "2024-08-15:Payload EVNTARG 8993 -- nbkc= , LAcoH , Aug, 2024 -- Aug 2024 Aug 2024\n",
            "No need to change calendar mon/Y\n",
            "200\n"
          ]
        },
        {
          "data": {
            "text/html": [
              "<div>\n",
              "<style scoped>\n",
              "    .dataframe tbody tr th:only-of-type {\n",
              "        vertical-align: middle;\n",
              "    }\n",
              "\n",
              "    .dataframe tbody tr th {\n",
              "        vertical-align: top;\n",
              "    }\n",
              "\n",
              "    .dataframe thead th {\n",
              "        text-align: right;\n",
              "    }\n",
              "</style>\n",
              "<table border=\"1\" class=\"dataframe\">\n",
              "  <thead>\n",
              "    <tr style=\"text-align: right;\">\n",
              "      <th></th>\n",
              "      <th>date</th>\n",
              "      <th>ent_type</th>\n",
              "      <th>ent_name</th>\n",
              "      <th>dollar_buy</th>\n",
              "      <th>dollar_sale</th>\n",
              "      <th>b_s_diff</th>\n",
              "      <th>previous_updt</th>\n",
              "    </tr>\n",
              "  </thead>\n",
              "  <tbody>\n",
              "    <tr>\n",
              "      <th>0</th>\n",
              "      <td>2024-08-15</td>\n",
              "      <td>Bancos públicos</td>\n",
              "      <td>Banco de Costa Rica</td>\n",
              "      <td>512.0</td>\n",
              "      <td>526.0</td>\n",
              "      <td>14.0</td>\n",
              "      <td>2024-08-15 00:03:00</td>\n",
              "    </tr>\n",
              "  </tbody>\n",
              "</table>\n",
              "</div>"
            ],
            "text/plain": [
              "        date         ent_type             ent_name  dollar_buy  dollar_sale  \\\n",
              "0 2024-08-15  Bancos públicos  Banco de Costa Rica       512.0        526.0   \n",
              "\n",
              "   b_s_diff       previous_updt  \n",
              "0      14.0 2024-08-15 00:03:00  "
            ]
          },
          "metadata": {},
          "output_type": "display_data"
        },
        {
          "name": "stdout",
          "output_type": "stream",
          "text": [
            "2024-08-14:Payload EVNTARG 8992 -- nbkc= , LAcoH , Aug, 2024 -- Aug 2024 Aug 2024\n",
            "No need to change calendar mon/Y\n",
            "200\n"
          ]
        },
        {
          "data": {
            "text/html": [
              "<div>\n",
              "<style scoped>\n",
              "    .dataframe tbody tr th:only-of-type {\n",
              "        vertical-align: middle;\n",
              "    }\n",
              "\n",
              "    .dataframe tbody tr th {\n",
              "        vertical-align: top;\n",
              "    }\n",
              "\n",
              "    .dataframe thead th {\n",
              "        text-align: right;\n",
              "    }\n",
              "</style>\n",
              "<table border=\"1\" class=\"dataframe\">\n",
              "  <thead>\n",
              "    <tr style=\"text-align: right;\">\n",
              "      <th></th>\n",
              "      <th>date</th>\n",
              "      <th>ent_type</th>\n",
              "      <th>ent_name</th>\n",
              "      <th>dollar_buy</th>\n",
              "      <th>dollar_sale</th>\n",
              "      <th>b_s_diff</th>\n",
              "      <th>previous_updt</th>\n",
              "    </tr>\n",
              "  </thead>\n",
              "  <tbody>\n",
              "    <tr>\n",
              "      <th>0</th>\n",
              "      <td>2024-08-14</td>\n",
              "      <td>Bancos públicos</td>\n",
              "      <td>Banco de Costa Rica</td>\n",
              "      <td>511.0</td>\n",
              "      <td>525.0</td>\n",
              "      <td>14.0</td>\n",
              "      <td>2024-08-14 12:58:00</td>\n",
              "    </tr>\n",
              "  </tbody>\n",
              "</table>\n",
              "</div>"
            ],
            "text/plain": [
              "        date         ent_type             ent_name  dollar_buy  dollar_sale  \\\n",
              "0 2024-08-14  Bancos públicos  Banco de Costa Rica       511.0        525.0   \n",
              "\n",
              "   b_s_diff       previous_updt  \n",
              "0      14.0 2024-08-14 12:58:00  "
            ]
          },
          "metadata": {},
          "output_type": "display_data"
        },
        {
          "name": "stdout",
          "output_type": "stream",
          "text": [
            "2024-08-13:Payload EVNTARG 8991 -- nbkc= , LAcoH , Aug, 2024 -- Aug 2024 Aug 2024\n",
            "No need to change calendar mon/Y\n",
            "200\n"
          ]
        },
        {
          "data": {
            "text/html": [
              "<div>\n",
              "<style scoped>\n",
              "    .dataframe tbody tr th:only-of-type {\n",
              "        vertical-align: middle;\n",
              "    }\n",
              "\n",
              "    .dataframe tbody tr th {\n",
              "        vertical-align: top;\n",
              "    }\n",
              "\n",
              "    .dataframe thead th {\n",
              "        text-align: right;\n",
              "    }\n",
              "</style>\n",
              "<table border=\"1\" class=\"dataframe\">\n",
              "  <thead>\n",
              "    <tr style=\"text-align: right;\">\n",
              "      <th></th>\n",
              "      <th>date</th>\n",
              "      <th>ent_type</th>\n",
              "      <th>ent_name</th>\n",
              "      <th>dollar_buy</th>\n",
              "      <th>dollar_sale</th>\n",
              "      <th>b_s_diff</th>\n",
              "      <th>previous_updt</th>\n",
              "    </tr>\n",
              "  </thead>\n",
              "  <tbody>\n",
              "    <tr>\n",
              "      <th>0</th>\n",
              "      <td>2024-08-13</td>\n",
              "      <td>Bancos públicos</td>\n",
              "      <td>Banco de Costa Rica</td>\n",
              "      <td>512.0</td>\n",
              "      <td>526.0</td>\n",
              "      <td>14.0</td>\n",
              "      <td>2024-08-13 13:18:00</td>\n",
              "    </tr>\n",
              "  </tbody>\n",
              "</table>\n",
              "</div>"
            ],
            "text/plain": [
              "        date         ent_type             ent_name  dollar_buy  dollar_sale  \\\n",
              "0 2024-08-13  Bancos públicos  Banco de Costa Rica       512.0        526.0   \n",
              "\n",
              "   b_s_diff       previous_updt  \n",
              "0      14.0 2024-08-13 13:18:00  "
            ]
          },
          "metadata": {},
          "output_type": "display_data"
        },
        {
          "name": "stdout",
          "output_type": "stream",
          "text": [
            "2024-08-12:Payload EVNTARG 8990 -- nbkc= , LAcoH , Aug, 2024 -- Aug 2024 Aug 2024\n",
            "No need to change calendar mon/Y\n",
            "200\n"
          ]
        },
        {
          "data": {
            "text/html": [
              "<div>\n",
              "<style scoped>\n",
              "    .dataframe tbody tr th:only-of-type {\n",
              "        vertical-align: middle;\n",
              "    }\n",
              "\n",
              "    .dataframe tbody tr th {\n",
              "        vertical-align: top;\n",
              "    }\n",
              "\n",
              "    .dataframe thead th {\n",
              "        text-align: right;\n",
              "    }\n",
              "</style>\n",
              "<table border=\"1\" class=\"dataframe\">\n",
              "  <thead>\n",
              "    <tr style=\"text-align: right;\">\n",
              "      <th></th>\n",
              "      <th>date</th>\n",
              "      <th>ent_type</th>\n",
              "      <th>ent_name</th>\n",
              "      <th>dollar_buy</th>\n",
              "      <th>dollar_sale</th>\n",
              "      <th>b_s_diff</th>\n",
              "      <th>previous_updt</th>\n",
              "    </tr>\n",
              "  </thead>\n",
              "  <tbody>\n",
              "    <tr>\n",
              "      <th>0</th>\n",
              "      <td>2024-08-12</td>\n",
              "      <td>Bancos públicos</td>\n",
              "      <td>Banco de Costa Rica</td>\n",
              "      <td>517.0</td>\n",
              "      <td>531.0</td>\n",
              "      <td>14.0</td>\n",
              "      <td>2024-08-12 13:08:00</td>\n",
              "    </tr>\n",
              "  </tbody>\n",
              "</table>\n",
              "</div>"
            ],
            "text/plain": [
              "        date         ent_type             ent_name  dollar_buy  dollar_sale  \\\n",
              "0 2024-08-12  Bancos públicos  Banco de Costa Rica       517.0        531.0   \n",
              "\n",
              "   b_s_diff       previous_updt  \n",
              "0      14.0 2024-08-12 13:08:00  "
            ]
          },
          "metadata": {},
          "output_type": "display_data"
        },
        {
          "name": "stdout",
          "output_type": "stream",
          "text": [
            "2024-08-11:Payload EVNTARG 8989 -- nbkc= , LAcoH , Aug, 2024 -- Aug 2024 Aug 2024\n",
            "No need to change calendar mon/Y\n",
            "200\n"
          ]
        },
        {
          "data": {
            "text/html": [
              "<div>\n",
              "<style scoped>\n",
              "    .dataframe tbody tr th:only-of-type {\n",
              "        vertical-align: middle;\n",
              "    }\n",
              "\n",
              "    .dataframe tbody tr th {\n",
              "        vertical-align: top;\n",
              "    }\n",
              "\n",
              "    .dataframe thead th {\n",
              "        text-align: right;\n",
              "    }\n",
              "</style>\n",
              "<table border=\"1\" class=\"dataframe\">\n",
              "  <thead>\n",
              "    <tr style=\"text-align: right;\">\n",
              "      <th></th>\n",
              "      <th>date</th>\n",
              "      <th>ent_type</th>\n",
              "      <th>ent_name</th>\n",
              "      <th>dollar_buy</th>\n",
              "      <th>dollar_sale</th>\n",
              "      <th>b_s_diff</th>\n",
              "      <th>previous_updt</th>\n",
              "    </tr>\n",
              "  </thead>\n",
              "  <tbody>\n",
              "    <tr>\n",
              "      <th>0</th>\n",
              "      <td>2024-08-11</td>\n",
              "      <td>Bancos públicos</td>\n",
              "      <td>Banco de Costa Rica</td>\n",
              "      <td>518.0</td>\n",
              "      <td>532.0</td>\n",
              "      <td>14.0</td>\n",
              "      <td>2024-08-10 00:03:00</td>\n",
              "    </tr>\n",
              "  </tbody>\n",
              "</table>\n",
              "</div>"
            ],
            "text/plain": [
              "        date         ent_type             ent_name  dollar_buy  dollar_sale  \\\n",
              "0 2024-08-11  Bancos públicos  Banco de Costa Rica       518.0        532.0   \n",
              "\n",
              "   b_s_diff       previous_updt  \n",
              "0      14.0 2024-08-10 00:03:00  "
            ]
          },
          "metadata": {},
          "output_type": "display_data"
        },
        {
          "name": "stdout",
          "output_type": "stream",
          "text": [
            "2024-08-10:Payload EVNTARG 8988 -- nbkc= , LAcoH , Aug, 2024 -- Aug 2024 Aug 2024\n",
            "No need to change calendar mon/Y\n",
            "200\n"
          ]
        },
        {
          "data": {
            "text/html": [
              "<div>\n",
              "<style scoped>\n",
              "    .dataframe tbody tr th:only-of-type {\n",
              "        vertical-align: middle;\n",
              "    }\n",
              "\n",
              "    .dataframe tbody tr th {\n",
              "        vertical-align: top;\n",
              "    }\n",
              "\n",
              "    .dataframe thead th {\n",
              "        text-align: right;\n",
              "    }\n",
              "</style>\n",
              "<table border=\"1\" class=\"dataframe\">\n",
              "  <thead>\n",
              "    <tr style=\"text-align: right;\">\n",
              "      <th></th>\n",
              "      <th>date</th>\n",
              "      <th>ent_type</th>\n",
              "      <th>ent_name</th>\n",
              "      <th>dollar_buy</th>\n",
              "      <th>dollar_sale</th>\n",
              "      <th>b_s_diff</th>\n",
              "      <th>previous_updt</th>\n",
              "    </tr>\n",
              "  </thead>\n",
              "  <tbody>\n",
              "    <tr>\n",
              "      <th>0</th>\n",
              "      <td>2024-08-10</td>\n",
              "      <td>Bancos públicos</td>\n",
              "      <td>Banco de Costa Rica</td>\n",
              "      <td>518.0</td>\n",
              "      <td>532.0</td>\n",
              "      <td>14.0</td>\n",
              "      <td>2024-08-10 00:03:00</td>\n",
              "    </tr>\n",
              "  </tbody>\n",
              "</table>\n",
              "</div>"
            ],
            "text/plain": [
              "        date         ent_type             ent_name  dollar_buy  dollar_sale  \\\n",
              "0 2024-08-10  Bancos públicos  Banco de Costa Rica       518.0        532.0   \n",
              "\n",
              "   b_s_diff       previous_updt  \n",
              "0      14.0 2024-08-10 00:03:00  "
            ]
          },
          "metadata": {},
          "output_type": "display_data"
        },
        {
          "name": "stdout",
          "output_type": "stream",
          "text": [
            "2024-08-09:Payload EVNTARG 8987 -- nbkc= , LAcoH , Aug, 2024 -- Aug 2024 Aug 2024\n",
            "No need to change calendar mon/Y\n",
            "200\n"
          ]
        },
        {
          "data": {
            "text/html": [
              "<div>\n",
              "<style scoped>\n",
              "    .dataframe tbody tr th:only-of-type {\n",
              "        vertical-align: middle;\n",
              "    }\n",
              "\n",
              "    .dataframe tbody tr th {\n",
              "        vertical-align: top;\n",
              "    }\n",
              "\n",
              "    .dataframe thead th {\n",
              "        text-align: right;\n",
              "    }\n",
              "</style>\n",
              "<table border=\"1\" class=\"dataframe\">\n",
              "  <thead>\n",
              "    <tr style=\"text-align: right;\">\n",
              "      <th></th>\n",
              "      <th>date</th>\n",
              "      <th>ent_type</th>\n",
              "      <th>ent_name</th>\n",
              "      <th>dollar_buy</th>\n",
              "      <th>dollar_sale</th>\n",
              "      <th>b_s_diff</th>\n",
              "      <th>previous_updt</th>\n",
              "    </tr>\n",
              "  </thead>\n",
              "  <tbody>\n",
              "    <tr>\n",
              "      <th>0</th>\n",
              "      <td>2024-08-09</td>\n",
              "      <td>Bancos públicos</td>\n",
              "      <td>Banco de Costa Rica</td>\n",
              "      <td>522.0</td>\n",
              "      <td>536.0</td>\n",
              "      <td>14.0</td>\n",
              "      <td>2024-08-08 00:03:00</td>\n",
              "    </tr>\n",
              "  </tbody>\n",
              "</table>\n",
              "</div>"
            ],
            "text/plain": [
              "        date         ent_type             ent_name  dollar_buy  dollar_sale  \\\n",
              "0 2024-08-09  Bancos públicos  Banco de Costa Rica       522.0        536.0   \n",
              "\n",
              "   b_s_diff       previous_updt  \n",
              "0      14.0 2024-08-08 00:03:00  "
            ]
          },
          "metadata": {},
          "output_type": "display_data"
        },
        {
          "name": "stdout",
          "output_type": "stream",
          "text": [
            "2024-08-08:Payload EVNTARG 8986 -- nbkc= , LAcoH , Aug, 2024 -- Aug 2024 Aug 2024\n",
            "No need to change calendar mon/Y\n",
            "200\n"
          ]
        },
        {
          "data": {
            "text/html": [
              "<div>\n",
              "<style scoped>\n",
              "    .dataframe tbody tr th:only-of-type {\n",
              "        vertical-align: middle;\n",
              "    }\n",
              "\n",
              "    .dataframe tbody tr th {\n",
              "        vertical-align: top;\n",
              "    }\n",
              "\n",
              "    .dataframe thead th {\n",
              "        text-align: right;\n",
              "    }\n",
              "</style>\n",
              "<table border=\"1\" class=\"dataframe\">\n",
              "  <thead>\n",
              "    <tr style=\"text-align: right;\">\n",
              "      <th></th>\n",
              "      <th>date</th>\n",
              "      <th>ent_type</th>\n",
              "      <th>ent_name</th>\n",
              "      <th>dollar_buy</th>\n",
              "      <th>dollar_sale</th>\n",
              "      <th>b_s_diff</th>\n",
              "      <th>previous_updt</th>\n",
              "    </tr>\n",
              "  </thead>\n",
              "  <tbody>\n",
              "    <tr>\n",
              "      <th>0</th>\n",
              "      <td>2024-08-08</td>\n",
              "      <td>Bancos públicos</td>\n",
              "      <td>Banco de Costa Rica</td>\n",
              "      <td>522.0</td>\n",
              "      <td>536.0</td>\n",
              "      <td>14.0</td>\n",
              "      <td>2024-08-08 00:03:00</td>\n",
              "    </tr>\n",
              "  </tbody>\n",
              "</table>\n",
              "</div>"
            ],
            "text/plain": [
              "        date         ent_type             ent_name  dollar_buy  dollar_sale  \\\n",
              "0 2024-08-08  Bancos públicos  Banco de Costa Rica       522.0        536.0   \n",
              "\n",
              "   b_s_diff       previous_updt  \n",
              "0      14.0 2024-08-08 00:03:00  "
            ]
          },
          "metadata": {},
          "output_type": "display_data"
        },
        {
          "name": "stdout",
          "output_type": "stream",
          "text": [
            "2024-08-07:Payload EVNTARG 8985 -- nbkc= , LAcoH , Aug, 2024 -- Aug 2024 Aug 2024\n",
            "No need to change calendar mon/Y\n",
            "200\n"
          ]
        },
        {
          "data": {
            "text/html": [
              "<div>\n",
              "<style scoped>\n",
              "    .dataframe tbody tr th:only-of-type {\n",
              "        vertical-align: middle;\n",
              "    }\n",
              "\n",
              "    .dataframe tbody tr th {\n",
              "        vertical-align: top;\n",
              "    }\n",
              "\n",
              "    .dataframe thead th {\n",
              "        text-align: right;\n",
              "    }\n",
              "</style>\n",
              "<table border=\"1\" class=\"dataframe\">\n",
              "  <thead>\n",
              "    <tr style=\"text-align: right;\">\n",
              "      <th></th>\n",
              "      <th>date</th>\n",
              "      <th>ent_type</th>\n",
              "      <th>ent_name</th>\n",
              "      <th>dollar_buy</th>\n",
              "      <th>dollar_sale</th>\n",
              "      <th>b_s_diff</th>\n",
              "      <th>previous_updt</th>\n",
              "    </tr>\n",
              "  </thead>\n",
              "  <tbody>\n",
              "    <tr>\n",
              "      <th>0</th>\n",
              "      <td>2024-08-07</td>\n",
              "      <td>Bancos públicos</td>\n",
              "      <td>Banco de Costa Rica</td>\n",
              "      <td>521.0</td>\n",
              "      <td>535.0</td>\n",
              "      <td>14.0</td>\n",
              "      <td>2024-08-07 13:07:00</td>\n",
              "    </tr>\n",
              "  </tbody>\n",
              "</table>\n",
              "</div>"
            ],
            "text/plain": [
              "        date         ent_type             ent_name  dollar_buy  dollar_sale  \\\n",
              "0 2024-08-07  Bancos públicos  Banco de Costa Rica       521.0        535.0   \n",
              "\n",
              "   b_s_diff       previous_updt  \n",
              "0      14.0 2024-08-07 13:07:00  "
            ]
          },
          "metadata": {},
          "output_type": "display_data"
        },
        {
          "name": "stdout",
          "output_type": "stream",
          "text": [
            "2024-08-06:Payload EVNTARG 8984 -- nbkc= , LAcoH , Aug, 2024 -- Aug 2024 Aug 2024\n",
            "No need to change calendar mon/Y\n",
            "200\n"
          ]
        },
        {
          "data": {
            "text/html": [
              "<div>\n",
              "<style scoped>\n",
              "    .dataframe tbody tr th:only-of-type {\n",
              "        vertical-align: middle;\n",
              "    }\n",
              "\n",
              "    .dataframe tbody tr th {\n",
              "        vertical-align: top;\n",
              "    }\n",
              "\n",
              "    .dataframe thead th {\n",
              "        text-align: right;\n",
              "    }\n",
              "</style>\n",
              "<table border=\"1\" class=\"dataframe\">\n",
              "  <thead>\n",
              "    <tr style=\"text-align: right;\">\n",
              "      <th></th>\n",
              "      <th>date</th>\n",
              "      <th>ent_type</th>\n",
              "      <th>ent_name</th>\n",
              "      <th>dollar_buy</th>\n",
              "      <th>dollar_sale</th>\n",
              "      <th>b_s_diff</th>\n",
              "      <th>previous_updt</th>\n",
              "    </tr>\n",
              "  </thead>\n",
              "  <tbody>\n",
              "    <tr>\n",
              "      <th>0</th>\n",
              "      <td>2024-08-06</td>\n",
              "      <td>Bancos públicos</td>\n",
              "      <td>Banco de Costa Rica</td>\n",
              "      <td>514.0</td>\n",
              "      <td>528.0</td>\n",
              "      <td>14.0</td>\n",
              "      <td>2024-08-06 08:42:00</td>\n",
              "    </tr>\n",
              "  </tbody>\n",
              "</table>\n",
              "</div>"
            ],
            "text/plain": [
              "        date         ent_type             ent_name  dollar_buy  dollar_sale  \\\n",
              "0 2024-08-06  Bancos públicos  Banco de Costa Rica       514.0        528.0   \n",
              "\n",
              "   b_s_diff       previous_updt  \n",
              "0      14.0 2024-08-06 08:42:00  "
            ]
          },
          "metadata": {},
          "output_type": "display_data"
        },
        {
          "name": "stdout",
          "output_type": "stream",
          "text": [
            "2024-08-05:Payload EVNTARG 8983 -- nbkc= , LAcoH , Aug, 2024 -- Aug 2024 Aug 2024\n",
            "No need to change calendar mon/Y\n",
            "200\n"
          ]
        },
        {
          "data": {
            "text/html": [
              "<div>\n",
              "<style scoped>\n",
              "    .dataframe tbody tr th:only-of-type {\n",
              "        vertical-align: middle;\n",
              "    }\n",
              "\n",
              "    .dataframe tbody tr th {\n",
              "        vertical-align: top;\n",
              "    }\n",
              "\n",
              "    .dataframe thead th {\n",
              "        text-align: right;\n",
              "    }\n",
              "</style>\n",
              "<table border=\"1\" class=\"dataframe\">\n",
              "  <thead>\n",
              "    <tr style=\"text-align: right;\">\n",
              "      <th></th>\n",
              "      <th>date</th>\n",
              "      <th>ent_type</th>\n",
              "      <th>ent_name</th>\n",
              "      <th>dollar_buy</th>\n",
              "      <th>dollar_sale</th>\n",
              "      <th>b_s_diff</th>\n",
              "      <th>previous_updt</th>\n",
              "    </tr>\n",
              "  </thead>\n",
              "  <tbody>\n",
              "    <tr>\n",
              "      <th>0</th>\n",
              "      <td>2024-08-05</td>\n",
              "      <td>Bancos públicos</td>\n",
              "      <td>Banco de Costa Rica</td>\n",
              "      <td>514.0</td>\n",
              "      <td>528.0</td>\n",
              "      <td>14.0</td>\n",
              "      <td>2024-08-05 08:47:00</td>\n",
              "    </tr>\n",
              "  </tbody>\n",
              "</table>\n",
              "</div>"
            ],
            "text/plain": [
              "        date         ent_type             ent_name  dollar_buy  dollar_sale  \\\n",
              "0 2024-08-05  Bancos públicos  Banco de Costa Rica       514.0        528.0   \n",
              "\n",
              "   b_s_diff       previous_updt  \n",
              "0      14.0 2024-08-05 08:47:00  "
            ]
          },
          "metadata": {},
          "output_type": "display_data"
        },
        {
          "name": "stdout",
          "output_type": "stream",
          "text": [
            "2024-08-04:Payload EVNTARG 8982 -- nbkc= , LAcoH , Aug, 2024 -- Aug 2024 Aug 2024\n",
            "No need to change calendar mon/Y\n",
            "200\n"
          ]
        },
        {
          "data": {
            "text/html": [
              "<div>\n",
              "<style scoped>\n",
              "    .dataframe tbody tr th:only-of-type {\n",
              "        vertical-align: middle;\n",
              "    }\n",
              "\n",
              "    .dataframe tbody tr th {\n",
              "        vertical-align: top;\n",
              "    }\n",
              "\n",
              "    .dataframe thead th {\n",
              "        text-align: right;\n",
              "    }\n",
              "</style>\n",
              "<table border=\"1\" class=\"dataframe\">\n",
              "  <thead>\n",
              "    <tr style=\"text-align: right;\">\n",
              "      <th></th>\n",
              "      <th>date</th>\n",
              "      <th>ent_type</th>\n",
              "      <th>ent_name</th>\n",
              "      <th>dollar_buy</th>\n",
              "      <th>dollar_sale</th>\n",
              "      <th>b_s_diff</th>\n",
              "      <th>previous_updt</th>\n",
              "    </tr>\n",
              "  </thead>\n",
              "  <tbody>\n",
              "    <tr>\n",
              "      <th>0</th>\n",
              "      <td>2024-08-04</td>\n",
              "      <td>Bancos públicos</td>\n",
              "      <td>Banco de Costa Rica</td>\n",
              "      <td>512.0</td>\n",
              "      <td>526.0</td>\n",
              "      <td>14.0</td>\n",
              "      <td>2024-08-02 00:02:00</td>\n",
              "    </tr>\n",
              "  </tbody>\n",
              "</table>\n",
              "</div>"
            ],
            "text/plain": [
              "        date         ent_type             ent_name  dollar_buy  dollar_sale  \\\n",
              "0 2024-08-04  Bancos públicos  Banco de Costa Rica       512.0        526.0   \n",
              "\n",
              "   b_s_diff       previous_updt  \n",
              "0      14.0 2024-08-02 00:02:00  "
            ]
          },
          "metadata": {},
          "output_type": "display_data"
        },
        {
          "name": "stdout",
          "output_type": "stream",
          "text": [
            "2024-08-03:Payload EVNTARG 8981 -- nbkc= , LAcoH , Aug, 2024 -- Aug 2024 Aug 2024\n",
            "No need to change calendar mon/Y\n",
            "200\n"
          ]
        },
        {
          "data": {
            "text/html": [
              "<div>\n",
              "<style scoped>\n",
              "    .dataframe tbody tr th:only-of-type {\n",
              "        vertical-align: middle;\n",
              "    }\n",
              "\n",
              "    .dataframe tbody tr th {\n",
              "        vertical-align: top;\n",
              "    }\n",
              "\n",
              "    .dataframe thead th {\n",
              "        text-align: right;\n",
              "    }\n",
              "</style>\n",
              "<table border=\"1\" class=\"dataframe\">\n",
              "  <thead>\n",
              "    <tr style=\"text-align: right;\">\n",
              "      <th></th>\n",
              "      <th>date</th>\n",
              "      <th>ent_type</th>\n",
              "      <th>ent_name</th>\n",
              "      <th>dollar_buy</th>\n",
              "      <th>dollar_sale</th>\n",
              "      <th>b_s_diff</th>\n",
              "      <th>previous_updt</th>\n",
              "    </tr>\n",
              "  </thead>\n",
              "  <tbody>\n",
              "    <tr>\n",
              "      <th>0</th>\n",
              "      <td>2024-08-03</td>\n",
              "      <td>Bancos públicos</td>\n",
              "      <td>Banco de Costa Rica</td>\n",
              "      <td>512.0</td>\n",
              "      <td>526.0</td>\n",
              "      <td>14.0</td>\n",
              "      <td>2024-08-02 00:02:00</td>\n",
              "    </tr>\n",
              "  </tbody>\n",
              "</table>\n",
              "</div>"
            ],
            "text/plain": [
              "        date         ent_type             ent_name  dollar_buy  dollar_sale  \\\n",
              "0 2024-08-03  Bancos públicos  Banco de Costa Rica       512.0        526.0   \n",
              "\n",
              "   b_s_diff       previous_updt  \n",
              "0      14.0 2024-08-02 00:02:00  "
            ]
          },
          "metadata": {},
          "output_type": "display_data"
        },
        {
          "name": "stdout",
          "output_type": "stream",
          "text": [
            "2024-08-02:Payload EVNTARG 8980 -- nbkc= , LAcoH , Aug, 2024 -- Aug 2024 Aug 2024\n",
            "No need to change calendar mon/Y\n",
            "200\n"
          ]
        },
        {
          "data": {
            "text/html": [
              "<div>\n",
              "<style scoped>\n",
              "    .dataframe tbody tr th:only-of-type {\n",
              "        vertical-align: middle;\n",
              "    }\n",
              "\n",
              "    .dataframe tbody tr th {\n",
              "        vertical-align: top;\n",
              "    }\n",
              "\n",
              "    .dataframe thead th {\n",
              "        text-align: right;\n",
              "    }\n",
              "</style>\n",
              "<table border=\"1\" class=\"dataframe\">\n",
              "  <thead>\n",
              "    <tr style=\"text-align: right;\">\n",
              "      <th></th>\n",
              "      <th>date</th>\n",
              "      <th>ent_type</th>\n",
              "      <th>ent_name</th>\n",
              "      <th>dollar_buy</th>\n",
              "      <th>dollar_sale</th>\n",
              "      <th>b_s_diff</th>\n",
              "      <th>previous_updt</th>\n",
              "    </tr>\n",
              "  </thead>\n",
              "  <tbody>\n",
              "    <tr>\n",
              "      <th>0</th>\n",
              "      <td>2024-08-02</td>\n",
              "      <td>Bancos públicos</td>\n",
              "      <td>Banco de Costa Rica</td>\n",
              "      <td>512.0</td>\n",
              "      <td>526.0</td>\n",
              "      <td>14.0</td>\n",
              "      <td>2024-08-02 00:02:00</td>\n",
              "    </tr>\n",
              "  </tbody>\n",
              "</table>\n",
              "</div>"
            ],
            "text/plain": [
              "        date         ent_type             ent_name  dollar_buy  dollar_sale  \\\n",
              "0 2024-08-02  Bancos públicos  Banco de Costa Rica       512.0        526.0   \n",
              "\n",
              "   b_s_diff       previous_updt  \n",
              "0      14.0 2024-08-02 00:02:00  "
            ]
          },
          "metadata": {},
          "output_type": "display_data"
        },
        {
          "name": "stdout",
          "output_type": "stream",
          "text": [
            "2024-08-01:Payload EVNTARG 8979 -- nbkc= , LAcoH , Aug, 2024 -- Aug 2024 Aug 2024\n",
            "No need to change calendar mon/Y\n",
            "200\n"
          ]
        },
        {
          "data": {
            "text/html": [
              "<div>\n",
              "<style scoped>\n",
              "    .dataframe tbody tr th:only-of-type {\n",
              "        vertical-align: middle;\n",
              "    }\n",
              "\n",
              "    .dataframe tbody tr th {\n",
              "        vertical-align: top;\n",
              "    }\n",
              "\n",
              "    .dataframe thead th {\n",
              "        text-align: right;\n",
              "    }\n",
              "</style>\n",
              "<table border=\"1\" class=\"dataframe\">\n",
              "  <thead>\n",
              "    <tr style=\"text-align: right;\">\n",
              "      <th></th>\n",
              "      <th>date</th>\n",
              "      <th>ent_type</th>\n",
              "      <th>ent_name</th>\n",
              "      <th>dollar_buy</th>\n",
              "      <th>dollar_sale</th>\n",
              "      <th>b_s_diff</th>\n",
              "      <th>previous_updt</th>\n",
              "    </tr>\n",
              "  </thead>\n",
              "  <tbody>\n",
              "    <tr>\n",
              "      <th>0</th>\n",
              "      <td>2024-08-01</td>\n",
              "      <td>Bancos públicos</td>\n",
              "      <td>Banco de Costa Rica</td>\n",
              "      <td>516.0</td>\n",
              "      <td>530.0</td>\n",
              "      <td>14.0</td>\n",
              "      <td>2024-08-01 00:02:00</td>\n",
              "    </tr>\n",
              "  </tbody>\n",
              "</table>\n",
              "</div>"
            ],
            "text/plain": [
              "        date         ent_type             ent_name  dollar_buy  dollar_sale  \\\n",
              "0 2024-08-01  Bancos públicos  Banco de Costa Rica       516.0        530.0   \n",
              "\n",
              "   b_s_diff       previous_updt  \n",
              "0      14.0 2024-08-01 00:02:00  "
            ]
          },
          "metadata": {},
          "output_type": "display_data"
        },
        {
          "name": "stdout",
          "output_type": "stream",
          "text": [
            "2024-07-31:Payload EVNTARG 8978 -- nbkc= , LAcoH , Aug, 2024 -- Aug 2024 Jul 2024\n",
            "Calendar mon/Y must be adjusted\n",
            "200\n"
          ]
        },
        {
          "data": {
            "text/html": [
              "<div>\n",
              "<style scoped>\n",
              "    .dataframe tbody tr th:only-of-type {\n",
              "        vertical-align: middle;\n",
              "    }\n",
              "\n",
              "    .dataframe tbody tr th {\n",
              "        vertical-align: top;\n",
              "    }\n",
              "\n",
              "    .dataframe thead th {\n",
              "        text-align: right;\n",
              "    }\n",
              "</style>\n",
              "<table border=\"1\" class=\"dataframe\">\n",
              "  <thead>\n",
              "    <tr style=\"text-align: right;\">\n",
              "      <th></th>\n",
              "      <th>date</th>\n",
              "      <th>ent_type</th>\n",
              "      <th>ent_name</th>\n",
              "      <th>dollar_buy</th>\n",
              "      <th>dollar_sale</th>\n",
              "      <th>b_s_diff</th>\n",
              "      <th>previous_updt</th>\n",
              "    </tr>\n",
              "  </thead>\n",
              "  <tbody>\n",
              "    <tr>\n",
              "      <th>0</th>\n",
              "      <td>2024-07-31</td>\n",
              "      <td>Bancos públicos</td>\n",
              "      <td>Banco de Costa Rica</td>\n",
              "      <td>513.0</td>\n",
              "      <td>527.0</td>\n",
              "      <td>14.0</td>\n",
              "      <td>2024-07-31 13:16:00</td>\n",
              "    </tr>\n",
              "  </tbody>\n",
              "</table>\n",
              "</div>"
            ],
            "text/plain": [
              "        date         ent_type             ent_name  dollar_buy  dollar_sale  \\\n",
              "0 2024-07-31  Bancos públicos  Banco de Costa Rica       513.0        527.0   \n",
              "\n",
              "   b_s_diff       previous_updt  \n",
              "0      14.0 2024-07-31 13:16:00  "
            ]
          },
          "metadata": {},
          "output_type": "display_data"
        },
        {
          "name": "stdout",
          "output_type": "stream",
          "text": [
            "2024-07-30:Payload EVNTARG 8977 -- nbkc= , LAcoH , Aug, 2024 -- Aug 2024 Jul 2024\n",
            "Calendar mon/Y must be adjusted\n",
            "200\n"
          ]
        },
        {
          "data": {
            "text/html": [
              "<div>\n",
              "<style scoped>\n",
              "    .dataframe tbody tr th:only-of-type {\n",
              "        vertical-align: middle;\n",
              "    }\n",
              "\n",
              "    .dataframe tbody tr th {\n",
              "        vertical-align: top;\n",
              "    }\n",
              "\n",
              "    .dataframe thead th {\n",
              "        text-align: right;\n",
              "    }\n",
              "</style>\n",
              "<table border=\"1\" class=\"dataframe\">\n",
              "  <thead>\n",
              "    <tr style=\"text-align: right;\">\n",
              "      <th></th>\n",
              "      <th>date</th>\n",
              "      <th>ent_type</th>\n",
              "      <th>ent_name</th>\n",
              "      <th>dollar_buy</th>\n",
              "      <th>dollar_sale</th>\n",
              "      <th>b_s_diff</th>\n",
              "      <th>previous_updt</th>\n",
              "    </tr>\n",
              "  </thead>\n",
              "  <tbody>\n",
              "    <tr>\n",
              "      <th>0</th>\n",
              "      <td>2024-07-30</td>\n",
              "      <td>Bancos públicos</td>\n",
              "      <td>Banco de Costa Rica</td>\n",
              "      <td>514.0</td>\n",
              "      <td>528.0</td>\n",
              "      <td>14.0</td>\n",
              "      <td>2024-07-30 13:17:00</td>\n",
              "    </tr>\n",
              "  </tbody>\n",
              "</table>\n",
              "</div>"
            ],
            "text/plain": [
              "        date         ent_type             ent_name  dollar_buy  dollar_sale  \\\n",
              "0 2024-07-30  Bancos públicos  Banco de Costa Rica       514.0        528.0   \n",
              "\n",
              "   b_s_diff       previous_updt  \n",
              "0      14.0 2024-07-30 13:17:00  "
            ]
          },
          "metadata": {},
          "output_type": "display_data"
        },
        {
          "name": "stdout",
          "output_type": "stream",
          "text": [
            "2024-07-29:Payload EVNTARG 8976 -- nbkc= , LAcoH , Aug, 2024 -- Aug 2024 Jul 2024\n",
            "Calendar mon/Y must be adjusted\n",
            "200\n"
          ]
        },
        {
          "data": {
            "text/html": [
              "<div>\n",
              "<style scoped>\n",
              "    .dataframe tbody tr th:only-of-type {\n",
              "        vertical-align: middle;\n",
              "    }\n",
              "\n",
              "    .dataframe tbody tr th {\n",
              "        vertical-align: top;\n",
              "    }\n",
              "\n",
              "    .dataframe thead th {\n",
              "        text-align: right;\n",
              "    }\n",
              "</style>\n",
              "<table border=\"1\" class=\"dataframe\">\n",
              "  <thead>\n",
              "    <tr style=\"text-align: right;\">\n",
              "      <th></th>\n",
              "      <th>date</th>\n",
              "      <th>ent_type</th>\n",
              "      <th>ent_name</th>\n",
              "      <th>dollar_buy</th>\n",
              "      <th>dollar_sale</th>\n",
              "      <th>b_s_diff</th>\n",
              "      <th>previous_updt</th>\n",
              "    </tr>\n",
              "  </thead>\n",
              "  <tbody>\n",
              "    <tr>\n",
              "      <th>0</th>\n",
              "      <td>2024-07-29</td>\n",
              "      <td>Bancos públicos</td>\n",
              "      <td>Banco de Costa Rica</td>\n",
              "      <td>515.0</td>\n",
              "      <td>529.0</td>\n",
              "      <td>14.0</td>\n",
              "      <td>2024-07-29 14:27:00</td>\n",
              "    </tr>\n",
              "  </tbody>\n",
              "</table>\n",
              "</div>"
            ],
            "text/plain": [
              "        date         ent_type             ent_name  dollar_buy  dollar_sale  \\\n",
              "0 2024-07-29  Bancos públicos  Banco de Costa Rica       515.0        529.0   \n",
              "\n",
              "   b_s_diff       previous_updt  \n",
              "0      14.0 2024-07-29 14:27:00  "
            ]
          },
          "metadata": {},
          "output_type": "display_data"
        },
        {
          "name": "stdout",
          "output_type": "stream",
          "text": [
            "2024-07-28:Payload EVNTARG 8975 -- nbkc= , LAcoH , Aug, 2024 -- Aug 2024 Jul 2024\n",
            "Calendar mon/Y must be adjusted\n",
            "200\n"
          ]
        },
        {
          "data": {
            "text/html": [
              "<div>\n",
              "<style scoped>\n",
              "    .dataframe tbody tr th:only-of-type {\n",
              "        vertical-align: middle;\n",
              "    }\n",
              "\n",
              "    .dataframe tbody tr th {\n",
              "        vertical-align: top;\n",
              "    }\n",
              "\n",
              "    .dataframe thead th {\n",
              "        text-align: right;\n",
              "    }\n",
              "</style>\n",
              "<table border=\"1\" class=\"dataframe\">\n",
              "  <thead>\n",
              "    <tr style=\"text-align: right;\">\n",
              "      <th></th>\n",
              "      <th>date</th>\n",
              "      <th>ent_type</th>\n",
              "      <th>ent_name</th>\n",
              "      <th>dollar_buy</th>\n",
              "      <th>dollar_sale</th>\n",
              "      <th>b_s_diff</th>\n",
              "      <th>previous_updt</th>\n",
              "    </tr>\n",
              "  </thead>\n",
              "  <tbody>\n",
              "    <tr>\n",
              "      <th>0</th>\n",
              "      <td>2024-07-28</td>\n",
              "      <td>Bancos públicos</td>\n",
              "      <td>Banco de Costa Rica</td>\n",
              "      <td>514.0</td>\n",
              "      <td>528.0</td>\n",
              "      <td>14.0</td>\n",
              "      <td>2024-07-27 00:02:00</td>\n",
              "    </tr>\n",
              "  </tbody>\n",
              "</table>\n",
              "</div>"
            ],
            "text/plain": [
              "        date         ent_type             ent_name  dollar_buy  dollar_sale  \\\n",
              "0 2024-07-28  Bancos públicos  Banco de Costa Rica       514.0        528.0   \n",
              "\n",
              "   b_s_diff       previous_updt  \n",
              "0      14.0 2024-07-27 00:02:00  "
            ]
          },
          "metadata": {},
          "output_type": "display_data"
        },
        {
          "name": "stdout",
          "output_type": "stream",
          "text": [
            "2024-07-27:Payload EVNTARG 8974 -- nbkc= , LAcoH , Aug, 2024 -- Aug 2024 Jul 2024\n",
            "Calendar mon/Y must be adjusted\n",
            "200\n"
          ]
        },
        {
          "data": {
            "text/html": [
              "<div>\n",
              "<style scoped>\n",
              "    .dataframe tbody tr th:only-of-type {\n",
              "        vertical-align: middle;\n",
              "    }\n",
              "\n",
              "    .dataframe tbody tr th {\n",
              "        vertical-align: top;\n",
              "    }\n",
              "\n",
              "    .dataframe thead th {\n",
              "        text-align: right;\n",
              "    }\n",
              "</style>\n",
              "<table border=\"1\" class=\"dataframe\">\n",
              "  <thead>\n",
              "    <tr style=\"text-align: right;\">\n",
              "      <th></th>\n",
              "      <th>date</th>\n",
              "      <th>ent_type</th>\n",
              "      <th>ent_name</th>\n",
              "      <th>dollar_buy</th>\n",
              "      <th>dollar_sale</th>\n",
              "      <th>b_s_diff</th>\n",
              "      <th>previous_updt</th>\n",
              "    </tr>\n",
              "  </thead>\n",
              "  <tbody>\n",
              "    <tr>\n",
              "      <th>0</th>\n",
              "      <td>2024-07-27</td>\n",
              "      <td>Bancos públicos</td>\n",
              "      <td>Banco de Costa Rica</td>\n",
              "      <td>514.0</td>\n",
              "      <td>528.0</td>\n",
              "      <td>14.0</td>\n",
              "      <td>2024-07-27 00:02:00</td>\n",
              "    </tr>\n",
              "  </tbody>\n",
              "</table>\n",
              "</div>"
            ],
            "text/plain": [
              "        date         ent_type             ent_name  dollar_buy  dollar_sale  \\\n",
              "0 2024-07-27  Bancos públicos  Banco de Costa Rica       514.0        528.0   \n",
              "\n",
              "   b_s_diff       previous_updt  \n",
              "0      14.0 2024-07-27 00:02:00  "
            ]
          },
          "metadata": {},
          "output_type": "display_data"
        },
        {
          "name": "stdout",
          "output_type": "stream",
          "text": [
            "\n",
            ">>>Done, dataframe stored from yesterday and back to 2024-07-27 00:00:00 with 760 rows.\n",
            "20 days were successfully extracted\n"
          ]
        }
      ],
      "source": [
        "# Performing the actual request, recursively.  Previous day's data is done with a POST request\n",
        "\n",
        "# Defining the number of previous days to scrape is defined, and today's eventarg days number\n",
        "PREV_DAYS_TO_SCRAPE = 20\n",
        "todays_eventArgument = (datetime.today().date() - date(2000, 1, 1)).days # number like 8###\n",
        "oldest_date_to_extract = (datetime.today().date() - timedelta(days=PREV_DAYS_TO_SCRAPE)).strftime('%Y-%m-%d')\n",
        "\n",
        "# initializing dataframe to store all the data\n",
        "df_dol_ent_prev_days = pd.DataFrame()\n",
        "\n",
        "for d in range(1,(PREV_DAYS_TO_SCRAPE+1)):\n",
        "  past_eventArgument = todays_eventArgument - d  # number like 8###\n",
        "  # date_evaluated in YYYY-mm-dd format\n",
        "  date_evaluated = (datetime.today().date() - timedelta(days=d)).strftime('%Y-%m-%d')\n",
        "  print(f'{date_evaluated}:Payload EVNTARG {past_eventArgument}' ,  end = ' -- '  )\n",
        "# 4.1 Getting calendar page and its needed values\n",
        "  calEV , calVS , calmon , calyear  = calendar_page_scrape ( '' , base_EVENTVALIDATION , base_VIEWSTATE, base_payload_json.copy() )\n",
        "  print(f'{calEV[-5:]} , {calVS[-5:]} , {calmon}, {calyear}' ,  end = ' -- '  )\n",
        "\n",
        "# 4.2 Check if calendar for current evaluated date maches that date's month\n",
        "  date_converted_from_EVENTARGUMENT = date(2000, 1, 1) + timedelta (days = past_eventArgument )\n",
        "  EVENTARGUMENT_month = date_converted_from_EVENTARGUMENT.strftime('%b')\n",
        "  EVENTARGUMENT_year = str(date_converted_from_EVENTARGUMENT.year)\n",
        "  print( calmon , calyear, EVENTARGUMENT_month , EVENTARGUMENT_year)\n",
        "  if [ calmon , calyear ] != [EVENTARGUMENT_month , EVENTARGUMENT_year]:\n",
        "    # 4.2.1 need to update calendar to prev month\n",
        "    print('Calendar mon/Y must be adjusted')\n",
        "    # function2 of calendar comes into play to update calEV and calVS from cal of previous month\n",
        "    calEV , calVS , calmon_new , calyear_new  = calendar_page_scrape_month_change (past_eventArgument, calEV, calVS, base_payload_json.copy() )\n",
        "    calEV[-5:] , calVS[-5:] , calmon_new, calyear_new\n",
        "  else:\n",
        "    print('No need to change calendar mon/Y')    \n",
        "# 4.3 Scraping the page for date at present iteration    \n",
        "  page_request_prev_date = prevday_page_scrape( past_eventArgument, calEV, calVS, base_payload_json.copy() )\n",
        "  print(page_request_prev_date.status_code)\n",
        "  pd.read_html(io.StringIO(str(page_request_prevdate2.text)) , thousands=None, decimal=',' )[1][0][0]\n",
        "  \n",
        "  # 4.4. Generate DF.  one of its inputs is  date_evaluated  above, to populate date column\n",
        "  df_dol_ent_temp = dol_exch_ent_df_build_prevday( page_request_prev_date, date_evaluated )\n",
        "  display(df_dol_ent_temp.head(1))\n",
        "  # add evaluated date df to the definitive df\n",
        "  df_dol_ent_prev_days = pd.concat ([ df_dol_ent_temp , df_dol_ent_prev_days])\n",
        "  del(df_dol_ent_temp)\n",
        "\n",
        "\n",
        "# Final report of the recursive extraction\n",
        "earliest_date_stored = df_dol_ent_prev_days['date'].unique().min()\n",
        "# of days succesfully extracted\n",
        "succ_days = len(df_dol_ent_prev_days['date'].unique())\n",
        "print(f'\\n>>>Done, dataframe stored from yesterday and back to {earliest_date_stored} \\\n",
        "with {df_dol_ent_prev_days.shape[0]} rows.\\n{succ_days} days were successfully extracted')\n"
      ]
    },
    {
      "cell_type": "code",
      "execution_count": 612,
      "metadata": {
        "colab": {
          "base_uri": "https://localhost:8080/"
        },
        "id": "wWLsQB1jt1ig",
        "outputId": "75de06b0-1f75-4b06-d8d7-a9da9af5120e"
      },
      "outputs": [
        {
          "name": "stdout",
          "output_type": "stream",
          "text": [
            "<class 'pandas.core.frame.DataFrame'>\n",
            "Index: 760 entries, 0 to 37\n",
            "Data columns (total 7 columns):\n",
            " #   Column         Non-Null Count  Dtype         \n",
            "---  ------         --------------  -----         \n",
            " 0   date           760 non-null    datetime64[ns]\n",
            " 1   ent_type       760 non-null    object        \n",
            " 2   ent_name       760 non-null    object        \n",
            " 3   dollar_buy     760 non-null    float64       \n",
            " 4   dollar_sale    760 non-null    float64       \n",
            " 5   b_s_diff       760 non-null    float64       \n",
            " 6   previous_updt  760 non-null    datetime64[ns]\n",
            "dtypes: datetime64[ns](2), float64(3), object(2)\n",
            "memory usage: 47.5+ KB\n"
          ]
        }
      ],
      "source": [
        "# validating dtype of vars.   Also, #of rows must be 38 * number of days scraped\n",
        "df_dol_ent_prev_days.info()"
      ]
    },
    {
      "cell_type": "code",
      "execution_count": 616,
      "metadata": {},
      "outputs": [
        {
          "data": {
            "text/html": [
              "<div>\n",
              "<style scoped>\n",
              "    .dataframe tbody tr th:only-of-type {\n",
              "        vertical-align: middle;\n",
              "    }\n",
              "\n",
              "    .dataframe tbody tr th {\n",
              "        vertical-align: top;\n",
              "    }\n",
              "\n",
              "    .dataframe thead th {\n",
              "        text-align: right;\n",
              "    }\n",
              "</style>\n",
              "<table border=\"1\" class=\"dataframe\">\n",
              "  <thead>\n",
              "    <tr style=\"text-align: right;\">\n",
              "      <th></th>\n",
              "      <th>date</th>\n",
              "      <th>ent_type</th>\n",
              "      <th>ent_name</th>\n",
              "      <th>dollar_buy</th>\n",
              "      <th>dollar_sale</th>\n",
              "      <th>b_s_diff</th>\n",
              "      <th>previous_updt</th>\n",
              "    </tr>\n",
              "  </thead>\n",
              "  <tbody>\n",
              "    <tr>\n",
              "      <th>0</th>\n",
              "      <td>2024-07-27</td>\n",
              "      <td>Bancos públicos</td>\n",
              "      <td>Banco de Costa Rica</td>\n",
              "      <td>514.0</td>\n",
              "      <td>528.0</td>\n",
              "      <td>14.0</td>\n",
              "      <td>2024-07-27 00:02:00</td>\n",
              "    </tr>\n",
              "    <tr>\n",
              "      <th>1</th>\n",
              "      <td>2024-07-27</td>\n",
              "      <td>Bancos públicos</td>\n",
              "      <td>Banco Nacional de Costa Rica</td>\n",
              "      <td>514.0</td>\n",
              "      <td>528.0</td>\n",
              "      <td>14.0</td>\n",
              "      <td>2024-07-26 15:58:00</td>\n",
              "    </tr>\n",
              "  </tbody>\n",
              "</table>\n",
              "</div>"
            ],
            "text/plain": [
              "        date         ent_type                      ent_name  dollar_buy  \\\n",
              "0 2024-07-27  Bancos públicos           Banco de Costa Rica       514.0   \n",
              "1 2024-07-27  Bancos públicos  Banco Nacional de Costa Rica       514.0   \n",
              "\n",
              "   dollar_sale  b_s_diff       previous_updt  \n",
              "0        528.0      14.0 2024-07-27 00:02:00  \n",
              "1        528.0      14.0 2024-07-26 15:58:00  "
            ]
          },
          "metadata": {},
          "output_type": "display_data"
        },
        {
          "data": {
            "text/html": [
              "<div>\n",
              "<style scoped>\n",
              "    .dataframe tbody tr th:only-of-type {\n",
              "        vertical-align: middle;\n",
              "    }\n",
              "\n",
              "    .dataframe tbody tr th {\n",
              "        vertical-align: top;\n",
              "    }\n",
              "\n",
              "    .dataframe thead th {\n",
              "        text-align: right;\n",
              "    }\n",
              "</style>\n",
              "<table border=\"1\" class=\"dataframe\">\n",
              "  <thead>\n",
              "    <tr style=\"text-align: right;\">\n",
              "      <th></th>\n",
              "      <th>date</th>\n",
              "      <th>ent_type</th>\n",
              "      <th>ent_name</th>\n",
              "      <th>dollar_buy</th>\n",
              "      <th>dollar_sale</th>\n",
              "      <th>b_s_diff</th>\n",
              "      <th>previous_updt</th>\n",
              "    </tr>\n",
              "  </thead>\n",
              "  <tbody>\n",
              "    <tr>\n",
              "      <th>36</th>\n",
              "      <td>2024-08-15</td>\n",
              "      <td>Puestos de Bolsa</td>\n",
              "      <td>PB Inversiones SAMA</td>\n",
              "      <td>507.0</td>\n",
              "      <td>523.0</td>\n",
              "      <td>16.0</td>\n",
              "      <td>2024-08-14 13:50:00</td>\n",
              "    </tr>\n",
              "    <tr>\n",
              "      <th>37</th>\n",
              "      <td>2024-08-15</td>\n",
              "      <td>Puestos de Bolsa</td>\n",
              "      <td>Popular Valores, Puesto de Bolsa</td>\n",
              "      <td>513.0</td>\n",
              "      <td>527.0</td>\n",
              "      <td>14.0</td>\n",
              "      <td>2024-08-14 10:54:00</td>\n",
              "    </tr>\n",
              "  </tbody>\n",
              "</table>\n",
              "</div>"
            ],
            "text/plain": [
              "         date          ent_type                          ent_name  dollar_buy  \\\n",
              "36 2024-08-15  Puestos de Bolsa               PB Inversiones SAMA       507.0   \n",
              "37 2024-08-15  Puestos de Bolsa  Popular Valores, Puesto de Bolsa       513.0   \n",
              "\n",
              "    dollar_sale  b_s_diff       previous_updt  \n",
              "36        523.0      16.0 2024-08-14 13:50:00  \n",
              "37        527.0      14.0 2024-08-14 10:54:00  "
            ]
          },
          "metadata": {},
          "output_type": "display_data"
        },
        {
          "data": {
            "text/plain": [
              "(None, None)"
            ]
          },
          "execution_count": 616,
          "metadata": {},
          "output_type": "execute_result"
        }
      ],
      "source": [
        "display(df_dol_ent_prev_days.head(2) ), display(df_dol_ent_prev_days.tail(2))"
      ]
    },
    {
      "cell_type": "code",
      "execution_count": 617,
      "metadata": {
        "colab": {
          "base_uri": "https://localhost:8080/"
        },
        "id": "V1KR1Qa-Bi2Z",
        "outputId": "d62c265d-9d88-4deb-810d-f37b75ab65d0"
      },
      "outputs": [
        {
          "data": {
            "text/plain": [
              "(Timestamp('2024-07-27 00:00:00'), Timestamp('2024-08-15 00:00:00'))"
            ]
          },
          "execution_count": 617,
          "metadata": {},
          "output_type": "execute_result"
        }
      ],
      "source": [
        "# validating earliest and latest days\n",
        "df_dol_ent_prev_days['date'].unique().min() , df_dol_ent_prev_days['date'].unique().max()"
      ]
    },
    {
      "cell_type": "code",
      "execution_count": null,
      "metadata": {},
      "outputs": [],
      "source": [
        "# df_dol_ent_prev_days"
      ]
    },
    {
      "cell_type": "markdown",
      "metadata": {},
      "source": [
        "## Adding todays + prev days values to master updated DF"
      ]
    },
    {
      "cell_type": "code",
      "execution_count": 618,
      "metadata": {},
      "outputs": [],
      "source": [
        "df_dol_ent = pd.concat  ( [ df_dol_ent_prev_days , df_dol_ent_today ] )\n",
        "del(df_dol_ent_prev_days)\n",
        "del(df_dol_ent_today)"
      ]
    },
    {
      "cell_type": "code",
      "execution_count": 619,
      "metadata": {},
      "outputs": [
        {
          "data": {
            "text/html": [
              "<div>\n",
              "<style scoped>\n",
              "    .dataframe tbody tr th:only-of-type {\n",
              "        vertical-align: middle;\n",
              "    }\n",
              "\n",
              "    .dataframe tbody tr th {\n",
              "        vertical-align: top;\n",
              "    }\n",
              "\n",
              "    .dataframe thead th {\n",
              "        text-align: right;\n",
              "    }\n",
              "</style>\n",
              "<table border=\"1\" class=\"dataframe\">\n",
              "  <thead>\n",
              "    <tr style=\"text-align: right;\">\n",
              "      <th></th>\n",
              "      <th>date</th>\n",
              "      <th>ent_type</th>\n",
              "      <th>ent_name</th>\n",
              "      <th>dollar_buy</th>\n",
              "      <th>dollar_sale</th>\n",
              "      <th>b_s_diff</th>\n",
              "      <th>previous_updt</th>\n",
              "    </tr>\n",
              "  </thead>\n",
              "  <tbody>\n",
              "    <tr>\n",
              "      <th>36</th>\n",
              "      <td>2024-08-15</td>\n",
              "      <td>Puestos de Bolsa</td>\n",
              "      <td>PB Inversiones SAMA</td>\n",
              "      <td>507.0</td>\n",
              "      <td>523.0</td>\n",
              "      <td>16.0</td>\n",
              "      <td>2024-08-14 13:50:00</td>\n",
              "    </tr>\n",
              "    <tr>\n",
              "      <th>37</th>\n",
              "      <td>2024-08-15</td>\n",
              "      <td>Puestos de Bolsa</td>\n",
              "      <td>Popular Valores, Puesto de Bolsa</td>\n",
              "      <td>513.0</td>\n",
              "      <td>527.0</td>\n",
              "      <td>14.0</td>\n",
              "      <td>2024-08-14 10:54:00</td>\n",
              "    </tr>\n",
              "    <tr>\n",
              "      <th>0</th>\n",
              "      <td>2024-08-16</td>\n",
              "      <td>Bancos públicos</td>\n",
              "      <td>Banco de Costa Rica</td>\n",
              "      <td>512.0</td>\n",
              "      <td>526.0</td>\n",
              "      <td>14.0</td>\n",
              "      <td>2024-08-15 00:03:00</td>\n",
              "    </tr>\n",
              "    <tr>\n",
              "      <th>1</th>\n",
              "      <td>2024-08-16</td>\n",
              "      <td>Bancos públicos</td>\n",
              "      <td>Banco Nacional de Costa Rica</td>\n",
              "      <td>508.0</td>\n",
              "      <td>522.0</td>\n",
              "      <td>14.0</td>\n",
              "      <td>2024-08-14 12:39:00</td>\n",
              "    </tr>\n",
              "  </tbody>\n",
              "</table>\n",
              "</div>"
            ],
            "text/plain": [
              "         date          ent_type                          ent_name  dollar_buy  \\\n",
              "36 2024-08-15  Puestos de Bolsa               PB Inversiones SAMA       507.0   \n",
              "37 2024-08-15  Puestos de Bolsa  Popular Valores, Puesto de Bolsa       513.0   \n",
              "0  2024-08-16   Bancos públicos               Banco de Costa Rica       512.0   \n",
              "1  2024-08-16   Bancos públicos      Banco Nacional de Costa Rica       508.0   \n",
              "\n",
              "    dollar_sale  b_s_diff       previous_updt  \n",
              "36        523.0      16.0 2024-08-14 13:50:00  \n",
              "37        527.0      14.0 2024-08-14 10:54:00  \n",
              "0         526.0      14.0 2024-08-15 00:03:00  \n",
              "1         522.0      14.0 2024-08-14 12:39:00  "
            ]
          },
          "execution_count": 619,
          "metadata": {},
          "output_type": "execute_result"
        }
      ],
      "source": [
        "# showing limit between last day from prev days extraction, and todays extraction\n",
        "df_dol_ent.tail(40).head(4)"
      ]
    },
    {
      "cell_type": "code",
      "execution_count": 620,
      "metadata": {},
      "outputs": [
        {
          "data": {
            "text/plain": [
              "(Timestamp('2024-07-27 00:00:00'), Timestamp('2024-08-16 00:00:00'))"
            ]
          },
          "execution_count": 620,
          "metadata": {},
          "output_type": "execute_result"
        }
      ],
      "source": [
        "df_dol_ent['date'].unique().min() ,  df_dol_ent['date'].unique().max()"
      ]
    },
    {
      "cell_type": "code",
      "execution_count": 621,
      "metadata": {},
      "outputs": [
        {
          "name": "stdout",
          "output_type": "stream",
          "text": [
            "<class 'pandas.core.frame.DataFrame'>\n",
            "Index: 798 entries, 0 to 37\n",
            "Data columns (total 7 columns):\n",
            " #   Column         Non-Null Count  Dtype         \n",
            "---  ------         --------------  -----         \n",
            " 0   date           798 non-null    datetime64[ns]\n",
            " 1   ent_type       798 non-null    object        \n",
            " 2   ent_name       798 non-null    object        \n",
            " 3   dollar_buy     798 non-null    float64       \n",
            " 4   dollar_sale    798 non-null    float64       \n",
            " 5   b_s_diff       798 non-null    float64       \n",
            " 6   previous_updt  798 non-null    datetime64[ns]\n",
            "dtypes: datetime64[ns](2), float64(3), object(2)\n",
            "memory usage: 49.9+ KB\n"
          ]
        }
      ],
      "source": [
        "df_dol_ent.info()"
      ]
    },
    {
      "cell_type": "code",
      "execution_count": 233,
      "metadata": {},
      "outputs": [],
      "source": [
        "# df_dol_ent"
      ]
    },
    {
      "cell_type": "markdown",
      "metadata": {
        "id": "AjhMXSHG0tX2"
      },
      "source": [
        "## Backing up entities dollar exchange rate values at dataset parquet file"
      ]
    },
    {
      "cell_type": "code",
      "execution_count": 622,
      "metadata": {
        "colab": {
          "base_uri": "https://localhost:8080/"
        },
        "id": "WdEMqmOQx43l",
        "outputId": "9ae55589-2b98-4431-ec63-ca50ac44c5f9"
      },
      "outputs": [
        {
          "name": "stdout",
          "output_type": "stream",
          "text": [
            "Current dataset file has been updated: ./datasets/bccr_dol_exch_entities.parquet       \n",
            "--creation time: 2024-08-16 04:24 -- filesize: 11966 bytes       \n",
            "Current date-time is: 2024-08-16 04:24\n"
          ]
        }
      ],
      "source": [
        "# Now lets update the exchange data file, using the updated dataframe\n",
        "\n",
        "df_dol_ent.to_parquet(f'{DATASETS_PATH}/{CURRENT_DATASET_BASEFILENAME}.parquet')\n",
        "current_dataset_file_creationTstamp = datetime.fromtimestamp (os.path.getctime(f'{DATASETS_PATH}/{CURRENT_DATASET_BASEFILENAME}.parquet')).strftime('%Y-%m-%d %H:%M')\n",
        "current_dataset_file_size = os.path.getsize(f'{DATASETS_PATH}/{CURRENT_DATASET_BASEFILENAME}.parquet')\n",
        "print(f'Current dataset file has been updated: {DATASETS_PATH}/{CURRENT_DATASET_BASEFILENAME}.parquet \\\n",
        "      \\n--creation time: {current_dataset_file_creationTstamp} -- filesize: {current_dataset_file_size} bytes \\\n",
        "      \\nCurrent date-time is:', datetime.today().strftime('%Y-%m-%d %H:%M'))"
      ]
    }
  ],
  "metadata": {
    "colab": {
      "provenance": []
    },
    "kernelspec": {
      "display_name": "Python 3",
      "name": "python3"
    },
    "language_info": {
      "codemirror_mode": {
        "name": "ipython",
        "version": 3
      },
      "file_extension": ".py",
      "mimetype": "text/x-python",
      "name": "python",
      "nbconvert_exporter": "python",
      "pygments_lexer": "ipython3",
      "version": "3.9.16"
    }
  },
  "nbformat": 4,
  "nbformat_minor": 0
}
