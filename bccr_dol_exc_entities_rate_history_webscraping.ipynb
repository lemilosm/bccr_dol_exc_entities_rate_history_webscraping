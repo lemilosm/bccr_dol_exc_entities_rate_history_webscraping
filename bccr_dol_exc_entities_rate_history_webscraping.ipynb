{
  "cells": [
    {
      "cell_type": "markdown",
      "metadata": {
        "id": "QI8QQHgbuigj"
      },
      "source": [
        "### <font color=\"red\">NOTE</font>\n",
        "\n",
        "This was developed/tested in Google Colab, Python 3.10.12.\n",
        "\n",
        "Also tested locally in VS Code, Python 3.9.16"
      ]
    },
    {
      "cell_type": "markdown",
      "metadata": {
        "id": "tKIlefoYOkKH"
      },
      "source": [
        "# Project:  BCCR CRC/USD exchange rate (from different costarrican entities) extraction using webscraping"
      ]
    },
    {
      "cell_type": "markdown",
      "metadata": {
        "id": "mLiLYIGOK7zR"
      },
      "source": [
        "## Objective\n",
        "\n",
        "The Central Bank of Costa Rica website where the latest information on CRC/USD echange rate for many official finantial entities is found at:\n",
        "\n",
        "https://gee.bccr.fi.cr/IndicadoresEconomicos/Cuadros/frmConsultaTCVentanilla.aspx\n",
        "\n",
        "\n",
        "The page also offers the option of checking the same information on previous dates\n",
        "\n",
        "The objective of this project is to produce a file that contains the most up to date CRC/USD exchange rate for the diferent entities, that can later be used in other data science projects, as input data, for example as a new column, merging it to other tables/dataframes using the date index.\n",
        "\n"
      ]
    },
    {
      "cell_type": "markdown",
      "metadata": {
        "id": "2Ki_XZWZbP6r"
      },
      "source": [
        "## Methodology\n",
        "\n",
        "The steps that the code follows to fulfill the objective, are:\n",
        "\n",
        "\n",
        "1. Download the entities exchange data from website, with a GET request\n",
        "2. Extract the table using pandas.load_html\n",
        "3. Get the headers and data from the table\n",
        "4. Store the previous step items into a Pandas dataframe\n",
        "5. Using BeautifulSoup, scrape the needed aspx parameters to be used in the next step\n",
        "6. Send POST request (using aspx parameters from previous step as payload) to mimic the request that is done when clicking the calendar icon. Also, using BeautifulSoup, scrape the needed aspx parameters to be used in the next step\n",
        "7. Send POST request (using aspx parameters from previous step as payload) to mimic the request that is done when clicking required date for yesterday \n",
        "8. Load the scraped data from previous step into a dataframe, using pandas.load_html\n",
        "9. Repeat 6 thru 8 for N previous dates, going back one day at a time\n",
        "10.\n",
        "11.\n"
      ]
    },
    {
      "cell_type": "markdown",
      "metadata": {
        "id": "LSx6aB2wvQBg"
      },
      "source": [
        "---\n",
        "## Description of used Packages and libraries"
      ]
    },
    {
      "cell_type": "markdown",
      "metadata": {
        "id": "sx5yR-PY_kOn"
      },
      "source": [
        "os - file operations such as renaming or getting the creation file\\\n",
        "requests - webscrapping of newer results\\\n",
        "shutil - High-level file operations, used to easily\\ copy a file as a backup\\\n",
        "fastparquet - needed to produce a parquet file\n",
        "matplotlib - basic plotting\n",
        "pandas - dataframe operations \\\n",
        "numpy - required by Pandas\\\n",
        "datetime - timestamp operations\\\n",
        "python-magic / magic - needed to check/confirm file format\n",
        "io - needed to wrap html string for pandas html read\\\n",
        "pytz - timezone operations for datetime\n",
        "apt install -qq chromium-chromedriver  ----  installed at OS level as this is required by Selenium"
      ]
    },
    {
      "cell_type": "markdown",
      "metadata": {
        "id": "XAxX7DkKK-47"
      },
      "source": [
        "---\n",
        "## Findings/Lessons learned\n",
        "\n",
        "\n",
        "\n",
        "\n"
      ]
    },
    {
      "cell_type": "markdown",
      "metadata": {
        "id": "gKldcHRP-xh0"
      },
      "source": [
        "### Initial page inspection\n",
        "\n",
        "At the previous project, it was decided to download the historical data file of official BCCR exchange rate.    \n",
        "\n",
        "The downloadable file that the bank provides here, only contains data for one specific date.\n",
        "\n",
        "However, thru browser inspection is was found that each time the date selection is made and then applied, a POST request (with no query string) is sent back to the same URL with a distinctive parameter at the payload, and figured out that it represents the number of days that have passed since 2000-01-01:\n",
        "\n",
        "For example, for 2024-08-05 the parameter seen is:\n",
        "\n",
        "**EVENTARGUMENT: 8983**\n",
        "\n",
        "It can be validated that the assumption made was in fact true, as follows:\n",
        "\n",
        "\n",
        "\n",
        "```\n",
        "from datetime import date\n",
        "(date(2024, 8, 5) - date(2000, 1, 1)).days\n",
        "\n",
        "8963\n",
        "```\n",
        "\n",
        "There is no need to download the XLS file for each day, we can just request the page for each day we need.   Therefore, Selenium is not needed here.\n",
        "\n",
        "But, that parameter is not the only one seen at the payload, which is actually 13kb long.   For that reason, the payload, expressed as a non-url-encoded json, is placed inside a text file, except for that specific parameter above so it is easier to manage scraping multiple past days but just iterating on that value.\n"
      ]
    },
    {
      "cell_type": "markdown",
      "metadata": {
        "id": "Re7o1XoGUD7p"
      },
      "source": [
        "### Pandas reading from html object\n",
        "\n",
        "The idea is NOT to download html files at all, but instead store the html content from a requests.text variable.\n",
        "\n",
        "*   IO must be used as `pd.read_html(**io.StringIO(str**(page_request.text))` in order to avoid the following warning:\n",
        "\n",
        "> FutureWarning: Passing literal html to 'read_html' is deprecated and will be removed in a future version. To read from a literal string, wrap it in a 'StringIO' object.\n",
        "\n",
        "\n",
        "*   read_html interprets a comma as a thousands separator, by default.  In this case we need to ignore that (using argument thousands=None) as the bank uses comma as decimal separator.\n",
        "\n"
      ]
    },
    {
      "cell_type": "markdown",
      "metadata": {
        "id": "Uj8gsW_WCvAW"
      },
      "source": [
        "### Data Wrangling\n",
        "\n",
        "\n"
      ]
    },
    {
      "cell_type": "markdown",
      "metadata": {
        "id": "TMlSWkXfyFhN"
      },
      "source": [
        "###Data backup storage saving\n",
        "\n",
        "Code was written to generate a backup of the generated file, as soon as it is downloaded.\n",
        "\n",
        "By testing backups on different format files, in terms of storage space it was found that html file is the worst choice.   Parquet file is the one we can choose to make backups for the least amount of space."
      ]
    },
    {
      "cell_type": "markdown",
      "metadata": {
        "id": "XBhtof2LLBdF"
      },
      "source": [
        "\n",
        "\n",
        "---\n",
        "\n",
        "\n",
        "## Enhancement opportunities\n",
        "\n",
        "\n",
        "1.   File generation and download\n",
        "\n",
        "By inspecting the extracted html, it was found that the file can actually be generated directly by modifying the query string values of the following URL\n",
        "\n",
        "https://gee.bccr.fi.cr/indicadoreseconomicos/Cuadros/frmVerCatCuadro.aspx?CodCuadro=400&Idioma=1&FecInicial=2023/01/01&FecFinal=2024/07/19&Filtro=0&Exportar=True&Excel=True\n",
        "\n",
        "Basically the initial and end dates can be modified at will to get the necessary file.\n",
        "\n",
        "This can be done to avoid having to use logic (with Selenium) to simulate the clicking of the button to generate the file, so the code is smaller and quicker.\n",
        "\\\n",
        "2.   Add code to download the full historical file, once a month.\n",
        "\\\n",
        "3.   Add code to check if the updated exchange file is missing more than just one record (today), if it is, then complete the missing records from the fresh scraped data that should be done every day\n",
        "\\\n",
        "4.   Clean the backup logic, the files at the end look a bit disorganized.  Some need timestamp at the filename\n",
        "\n",
        "\n"
      ]
    },
    {
      "cell_type": "markdown",
      "metadata": {
        "id": "nkuwWIxPvObY"
      },
      "source": [
        "\n",
        "\n",
        "---\n",
        "\n",
        "# Project Code\n",
        "\n"
      ]
    },
    {
      "cell_type": "markdown",
      "metadata": {},
      "source": [
        "## 1.Preliminary tasks"
      ]
    },
    {
      "cell_type": "markdown",
      "metadata": {
        "id": "wBdmNpVxZQ_U"
      },
      "source": [
        "### Packages,Libraries,Constants\n",
        "\n",
        "Packages installation takes about 2 minutes"
      ]
    },
    {
      "cell_type": "code",
      "execution_count": 8,
      "metadata": {
        "colab": {
          "base_uri": "https://localhost:8080/"
        },
        "id": "MqIo1XLCw6gs",
        "outputId": "ab03f2ae-1b83-463d-bed1-8840157c9082"
      },
      "outputs": [
        {
          "name": "stdout",
          "output_type": "stream",
          "text": [
            "pip 24.2 from /home/milos/Documents/Proyectos/CienciaDeDatos/BCCR-tcdolar-entidades/venv/lib/python3.9/site-packages/pip (python 3.9)\n"
          ]
        }
      ],
      "source": [
        "!pip -V"
      ]
    },
    {
      "cell_type": "code",
      "execution_count": 9,
      "metadata": {
        "colab": {
          "base_uri": "https://localhost:8080/"
        },
        "id": "cWsAhVsLxIoX",
        "outputId": "2c3ab5e3-0e5b-48af-8d51-4d4a3850a509"
      },
      "outputs": [
        {
          "name": "stdout",
          "output_type": "stream",
          "text": [
            "Requirement already satisfied: pip in ./venv/lib/python3.9/site-packages (24.2)\n"
          ]
        }
      ],
      "source": [
        "!pip install --upgrade pip"
      ]
    },
    {
      "cell_type": "code",
      "execution_count": 4,
      "metadata": {
        "colab": {
          "base_uri": "https://localhost:8080/"
        },
        "collapsed": true,
        "id": "BW4alsLJjWfQ",
        "outputId": "672838f1-5a90-4d3f-97f8-e3bbcf42f52c"
      },
      "outputs": [],
      "source": [
        "!pip install --quiet matplotlib python-magic fastparquet requests pandas lxml bs4\n",
        "# !apt-get update\n",
        "# !apt install chromium-chromedriver\n",
        "import os ,requests, shutil, time, magic, io, lxml, json, pytz, bs4\n",
        "import numpy as np\n",
        "import pandas as pd\n",
        "import matplotlib.pyplot as plt\n",
        "from datetime import datetime, date, timedelta\n",
        "from io import StringIO\n",
        "from bs4 import BeautifulSoup as bs"
      ]
    },
    {
      "cell_type": "code",
      "execution_count": 12,
      "metadata": {
        "id": "5obigcSbfzBh"
      },
      "outputs": [],
      "source": [
        "# Constants\n",
        "DATASETS_PATH = './datasets'\n",
        "DATASETS_TEMP_PATH = f'{DATASETS_PATH}/temp'\n",
        "DATASETS_BACKUP_PATH = f'{DATASETS_PATH}/backups'\n",
        "CURRENT_DATASET_BASEFILENAME = 'bccr_dol_exch_entities'\n",
        "JSON_FILE_NAME = 'payload_json_unencoded.txt'"
      ]
    },
    {
      "cell_type": "markdown",
      "metadata": {
        "id": "PEi0XvP0D3uT"
      },
      "source": [
        "### Checking existance of current dataset file\n",
        "\n",
        "If if does not exist, then generate the directory where it is to be  placed at later with data from the past 365 days\n",
        "\n",
        "\n",
        "\n",
        "\n"
      ]
    },
    {
      "cell_type": "code",
      "execution_count": 13,
      "metadata": {
        "colab": {
          "base_uri": "https://localhost:8080/"
        },
        "id": "VWW6QwAaEGTH",
        "outputId": "d0a979a1-c293-40aa-bf00-219c41f925cd"
      },
      "outputs": [
        {
          "name": "stdout",
          "output_type": "stream",
          "text": [
            "OK\n"
          ]
        }
      ],
      "source": [
        "# prompt: need an if statement, that if CURRENT_DATASET_BASEFILENAME exists, print OK, if not print NOK and also create the DATASETS_PATH path\n",
        "\n",
        "if os.path.exists(f'{DATASETS_PATH}/{CURRENT_DATASET_BASEFILENAME}.parquet'):\n",
        "  print (\"OK\")\n",
        "else:\n",
        "  print (\"NOK\")\n",
        "  os.makedirs(DATASETS_PATH, exist_ok=True)\n"
      ]
    },
    {
      "cell_type": "code",
      "execution_count": 14,
      "metadata": {
        "colab": {
          "base_uri": "https://localhost:8080/"
        },
        "id": "w-pRFHeDIpj2",
        "outputId": "3af0205b-249e-413e-ac38-3e624a3a35f1"
      },
      "outputs": [
        {
          "name": "stdout",
          "output_type": "stream",
          "text": [
            "OK, ./datasets/bccr_dol_exch_entities.parquet already exists\n"
          ]
        }
      ],
      "source": [
        "if os.path.exists(f'{DATASETS_PATH}/{CURRENT_DATASET_BASEFILENAME}.parquet'):\n",
        "  print(f\"OK, {DATASETS_PATH}/{CURRENT_DATASET_BASEFILENAME}.parquet already exists\")\n",
        "else:\n",
        "  print(f\"There is no historical data file {DATASETS_PATH}/{CURRENT_DATASET_BASEFILENAME}.parquet\")\n",
        "  os.makedirs(DATASETS_PATH, exist_ok=True)\n"
      ]
    },
    {
      "cell_type": "markdown",
      "metadata": {
        "id": "P6pgJwtMGN5F"
      },
      "source": [
        "## 2.Scraping today's entities dollar exchange rate"
      ]
    },
    {
      "cell_type": "code",
      "execution_count": 21,
      "metadata": {
        "id": "ouSDWCHPLBrj"
      },
      "outputs": [],
      "source": [
        "# Scraping html of the most recent data from the bank webpage\n",
        "\n",
        "# Configuration\n",
        "\n",
        "host='gee.bccr.fi.cr'\n",
        "urlpath='IndicadoresEconomicos/Cuadros/frmConsultaTCVentanilla.aspx'\n",
        "# Sending some headers to try and hide the scraper default values\n",
        "hdrs={'User-Agent': \"Mozilla/5.0 (X11; Linux x86_64) AppleWebKit/537.36 (KHTML, like Gecko) Chrome/125.0.0.0 Safari/537.36\",\n",
        "      'Host' : f'{host}',\n",
        "      'Accept-Language': 'en-US,en;q=0.9,es;q=0.8,es-CR;q=0.7,de;q=0.6',\n",
        "      'Accept-Encoding': 'gzip, deflate, br, zstd'\n",
        "      }\n",
        "\n",
        "url_page = f'https://{host}/{urlpath}'"
      ]
    },
    {
      "cell_type": "code",
      "execution_count": 22,
      "metadata": {
        "id": "CxfFxwQMMzBW"
      },
      "outputs": [],
      "source": [
        "# Performing the actual request.  Today's data is done with a GET request\n",
        "page_request = requests.get(url_page, headers=hdrs)"
      ]
    },
    {
      "cell_type": "code",
      "execution_count": 23,
      "metadata": {
        "colab": {
          "base_uri": "https://localhost:8080/"
        },
        "id": "ZF-9l-wgNGF_",
        "outputId": "9aac772d-cf9d-4042-a2a1-678fcca5b415"
      },
      "outputs": [
        {
          "data": {
            "text/plain": [
              "(200,\n",
              " 'OK',\n",
              " True,\n",
              " 'https://gee.bccr.fi.cr/IndicadoresEconomicos/Cuadros/frmConsultaTCVentanilla.aspx',\n",
              " '13256',\n",
              " 'Tue, 13 Aug 2024 13:22:31 GMT',\n",
              " 'utf-8',\n",
              " 'text/html; charset=utf-8')"
            ]
          },
          "execution_count": 23,
          "metadata": {},
          "output_type": "execute_result"
        }
      ],
      "source": [
        "# some interesting options that could be used\n",
        "page_request.status_code, page_request.reason ,  page_request.ok , page_request.url , \\\n",
        "page_request.headers['Content-Length'], page_request.headers['Date'] , page_request.encoding, \\\n",
        " page_request.headers['Content-Type']"
      ]
    },
    {
      "cell_type": "code",
      "execution_count": 24,
      "metadata": {
        "colab": {
          "base_uri": "https://localhost:8080/",
          "height": 201
        },
        "id": "LWybq8qAPKWE",
        "outputId": "b7b33cd4-b825-4990-c17b-5336f3fae693"
      },
      "outputs": [
        {
          "data": {
            "text/plain": [
              "'\\r\\n<!DOCTYPE HTML PUBLIC \"-//W3C//DTD HTML 4.0 Transitional//EN\">\\r\\n<HTML>\\r\\n\\t<HEAD>\\r\\n\\t\\t<title>Tipo de cambio anunciado en ventanilla</title>\\r\\n\\t\\t<script type=\"text/javascript\">var _gaq = _gaq || [];_gaq.push([\\'_setAccount\\', \\'UA-25040215-3\\']);_gaq.push([\\'_trackPageview\\']);(function() {var ga = document.'"
            ]
          },
          "execution_count": 24,
          "metadata": {},
          "output_type": "execute_result"
        }
      ],
      "source": [
        "page_request.text[:300]"
      ]
    },
    {
      "cell_type": "markdown",
      "metadata": {
        "id": "pa2XNc6mpW15"
      },
      "source": [
        "### Building the dataframe from scraped html"
      ]
    },
    {
      "cell_type": "code",
      "execution_count": 25,
      "metadata": {
        "colab": {
          "base_uri": "https://localhost:8080/",
          "height": 178
        },
        "id": "oN6EqnQku2ON",
        "outputId": "86415d85-d8b6-4fcd-841f-b8708baa1762"
      },
      "outputs": [
        {
          "data": {
            "text/html": [
              "<div>\n",
              "<style scoped>\n",
              "    .dataframe tbody tr th:only-of-type {\n",
              "        vertical-align: middle;\n",
              "    }\n",
              "\n",
              "    .dataframe tbody tr th {\n",
              "        vertical-align: top;\n",
              "    }\n",
              "\n",
              "    .dataframe thead th {\n",
              "        text-align: right;\n",
              "    }\n",
              "</style>\n",
              "<table border=\"1\" class=\"dataframe\">\n",
              "  <thead>\n",
              "    <tr style=\"text-align: right;\">\n",
              "      <th></th>\n",
              "      <th>Tipo de Entidad</th>\n",
              "      <th>Entidad Autorizada</th>\n",
              "      <th>Compra</th>\n",
              "      <th>Venta</th>\n",
              "      <th>Diferencial Cambiario</th>\n",
              "      <th>Última Actualización</th>\n",
              "    </tr>\n",
              "  </thead>\n",
              "  <tbody>\n",
              "    <tr>\n",
              "      <th>0</th>\n",
              "      <td>Bancos públicos</td>\n",
              "      <td>Banco de Costa Rica</td>\n",
              "      <td>515.0</td>\n",
              "      <td>529.0</td>\n",
              "      <td>14.0</td>\n",
              "      <td>13/08/2024 12:03 a.m.</td>\n",
              "    </tr>\n",
              "    <tr>\n",
              "      <th>1</th>\n",
              "      <td>NaN</td>\n",
              "      <td>Banco Nacional de Costa Rica</td>\n",
              "      <td>516.0</td>\n",
              "      <td>530.0</td>\n",
              "      <td>14.0</td>\n",
              "      <td>12/08/2024 02:32 p.m.</td>\n",
              "    </tr>\n",
              "    <tr>\n",
              "      <th>2</th>\n",
              "      <td>NaN</td>\n",
              "      <td>Banco Popular y de Desarrollo Comunal</td>\n",
              "      <td>517.0</td>\n",
              "      <td>531.0</td>\n",
              "      <td>14.0</td>\n",
              "      <td>12/08/2024 03:40 p.m.</td>\n",
              "    </tr>\n",
              "  </tbody>\n",
              "</table>\n",
              "</div>"
            ],
            "text/plain": [
              "   Tipo de Entidad                     Entidad Autorizada  Compra  Venta  \\\n",
              "0  Bancos públicos                    Banco de Costa Rica   515.0  529.0   \n",
              "1              NaN           Banco Nacional de Costa Rica   516.0  530.0   \n",
              "2              NaN  Banco Popular y de Desarrollo Comunal   517.0  531.0   \n",
              "\n",
              "   Diferencial Cambiario   Última Actualización  \n",
              "0                   14.0  13/08/2024 12:03 a.m.  \n",
              "1                   14.0  12/08/2024 02:32 p.m.  \n",
              "2                   14.0  12/08/2024 03:40 p.m.  "
            ]
          },
          "execution_count": 25,
          "metadata": {},
          "output_type": "execute_result"
        }
      ],
      "source": [
        "# test with basic cleaning\n",
        "pd.read_html(io.StringIO(str(page_request.text)) , thousands=None,\n",
        "                            decimal=',' , header=0 )[2].head(3)"
      ]
    },
    {
      "cell_type": "code",
      "execution_count": 26,
      "metadata": {
        "colab": {
          "base_uri": "https://localhost:8080/",
          "height": 35
        },
        "id": "Kev85cD3WmAl",
        "outputId": "b1b3a833-ad99-482a-dccb-2db07efd700b"
      },
      "outputs": [
        {
          "data": {
            "text/plain": [
              "['America/Costa_Rica']"
            ]
          },
          "execution_count": 26,
          "metadata": {},
          "output_type": "execute_result"
        }
      ],
      "source": [
        "[s for s in pytz.all_timezones if 'Costa' in s]"
      ]
    },
    {
      "cell_type": "code",
      "execution_count": 27,
      "metadata": {
        "colab": {
          "base_uri": "https://localhost:8080/",
          "height": 35
        },
        "id": "odKQtESnWzA3",
        "outputId": "84d702ea-8508-4814-fd0d-83ff4ee572ba"
      },
      "outputs": [
        {
          "data": {
            "text/plain": [
              "'2024-08-13'"
            ]
          },
          "execution_count": 27,
          "metadata": {},
          "output_type": "execute_result"
        }
      ],
      "source": [
        "datetime.now(pytz.timezone('America/Costa_Rica')).strftime('%Y-%m-%d')"
      ]
    },
    {
      "cell_type": "code",
      "execution_count": 28,
      "metadata": {
        "colab": {
          "base_uri": "https://localhost:8080/",
          "height": 409
        },
        "id": "q43-aSmaPXS-",
        "outputId": "ecd5c65a-ca36-45ab-ce18-4b0c1702d1d6"
      },
      "outputs": [
        {
          "name": "stdout",
          "output_type": "stream",
          "text": [
            "Request OK\n"
          ]
        },
        {
          "data": {
            "text/html": [
              "<div>\n",
              "<style scoped>\n",
              "    .dataframe tbody tr th:only-of-type {\n",
              "        vertical-align: middle;\n",
              "    }\n",
              "\n",
              "    .dataframe tbody tr th {\n",
              "        vertical-align: top;\n",
              "    }\n",
              "\n",
              "    .dataframe thead th {\n",
              "        text-align: right;\n",
              "    }\n",
              "</style>\n",
              "<table border=\"1\" class=\"dataframe\">\n",
              "  <thead>\n",
              "    <tr style=\"text-align: right;\">\n",
              "      <th></th>\n",
              "      <th>date</th>\n",
              "      <th>ent_type</th>\n",
              "      <th>ent_name</th>\n",
              "      <th>dollar_buy</th>\n",
              "      <th>dollar_sale</th>\n",
              "      <th>b_s_diff</th>\n",
              "      <th>previous_updt</th>\n",
              "    </tr>\n",
              "  </thead>\n",
              "  <tbody>\n",
              "    <tr>\n",
              "      <th>31</th>\n",
              "      <td>2024-08-13</td>\n",
              "      <td>Casas de Cambio</td>\n",
              "      <td>Casa de Cambio Global Exchange</td>\n",
              "      <td>439.92</td>\n",
              "      <td>614.65</td>\n",
              "      <td>174.73</td>\n",
              "      <td>2024-08-12 21:12:00</td>\n",
              "    </tr>\n",
              "    <tr>\n",
              "      <th>32</th>\n",
              "      <td>2024-08-13</td>\n",
              "      <td>Casas de Cambio</td>\n",
              "      <td>Casa de Cambio Teledolar S. A.</td>\n",
              "      <td>516.00</td>\n",
              "      <td>539.00</td>\n",
              "      <td>23.00</td>\n",
              "      <td>2024-08-13 01:26:00</td>\n",
              "    </tr>\n",
              "    <tr>\n",
              "      <th>33</th>\n",
              "      <td>2024-08-13</td>\n",
              "      <td>Puestos de Bolsa</td>\n",
              "      <td>BCT Valores, Puesto De Bolsa, S.A.</td>\n",
              "      <td>515.00</td>\n",
              "      <td>533.00</td>\n",
              "      <td>18.00</td>\n",
              "      <td>2024-08-13 06:56:00</td>\n",
              "    </tr>\n",
              "    <tr>\n",
              "      <th>34</th>\n",
              "      <td>2024-08-13</td>\n",
              "      <td>Puestos de Bolsa</td>\n",
              "      <td>BN Valores S.A., Puesto de Bolsa</td>\n",
              "      <td>518.00</td>\n",
              "      <td>532.00</td>\n",
              "      <td>14.00</td>\n",
              "      <td>2024-08-12 08:21:00</td>\n",
              "    </tr>\n",
              "    <tr>\n",
              "      <th>35</th>\n",
              "      <td>2024-08-13</td>\n",
              "      <td>Puestos de Bolsa</td>\n",
              "      <td>Mercado Valores de Costa Rica Puesto de Bolsa</td>\n",
              "      <td>514.00</td>\n",
              "      <td>532.00</td>\n",
              "      <td>18.00</td>\n",
              "      <td>2024-08-12 16:27:00</td>\n",
              "    </tr>\n",
              "    <tr>\n",
              "      <th>36</th>\n",
              "      <td>2024-08-13</td>\n",
              "      <td>Puestos de Bolsa</td>\n",
              "      <td>PB Inversiones SAMA</td>\n",
              "      <td>517.00</td>\n",
              "      <td>533.00</td>\n",
              "      <td>16.00</td>\n",
              "      <td>2024-08-12 08:26:00</td>\n",
              "    </tr>\n",
              "    <tr>\n",
              "      <th>37</th>\n",
              "      <td>2024-08-13</td>\n",
              "      <td>Puestos de Bolsa</td>\n",
              "      <td>Popular Valores, Puesto de Bolsa</td>\n",
              "      <td>521.00</td>\n",
              "      <td>535.00</td>\n",
              "      <td>14.00</td>\n",
              "      <td>2024-08-08 10:34:00</td>\n",
              "    </tr>\n",
              "  </tbody>\n",
              "</table>\n",
              "</div>"
            ],
            "text/plain": [
              "         date          ent_type  \\\n",
              "31 2024-08-13   Casas de Cambio   \n",
              "32 2024-08-13   Casas de Cambio   \n",
              "33 2024-08-13  Puestos de Bolsa   \n",
              "34 2024-08-13  Puestos de Bolsa   \n",
              "35 2024-08-13  Puestos de Bolsa   \n",
              "36 2024-08-13  Puestos de Bolsa   \n",
              "37 2024-08-13  Puestos de Bolsa   \n",
              "\n",
              "                                         ent_name  dollar_buy  dollar_sale  \\\n",
              "31                 Casa de Cambio Global Exchange      439.92       614.65   \n",
              "32                 Casa de Cambio Teledolar S. A.      516.00       539.00   \n",
              "33             BCT Valores, Puesto De Bolsa, S.A.      515.00       533.00   \n",
              "34               BN Valores S.A., Puesto de Bolsa      518.00       532.00   \n",
              "35  Mercado Valores de Costa Rica Puesto de Bolsa      514.00       532.00   \n",
              "36                            PB Inversiones SAMA      517.00       533.00   \n",
              "37               Popular Valores, Puesto de Bolsa      521.00       535.00   \n",
              "\n",
              "    b_s_diff       previous_updt  \n",
              "31    174.73 2024-08-12 21:12:00  \n",
              "32     23.00 2024-08-13 01:26:00  \n",
              "33     18.00 2024-08-13 06:56:00  \n",
              "34     14.00 2024-08-12 08:21:00  \n",
              "35     18.00 2024-08-12 16:27:00  \n",
              "36     16.00 2024-08-12 08:26:00  \n",
              "37     14.00 2024-08-08 10:34:00  "
            ]
          },
          "execution_count": 28,
          "metadata": {},
          "output_type": "execute_result"
        }
      ],
      "source": [
        "# -setting the header as the resulting line with index 0\n",
        "# -recognizing the original decimal char as the comma, so dataframe is shown as usual with it as a dot\n",
        "# -dropping rows made of NaN at every column\n",
        "# -name the columns properly\n",
        "# -extend the ent_type for those with NaN\n",
        "# -apply datetime format to previous_updt column\n",
        "# -insert 'date' column with current date (in Costa Rica as the bank is in that country)\n",
        "#  as for all rows.\n",
        "\n",
        "if page_request.ok:\n",
        "  print('Request OK')\n",
        "  cols=['date', 'dollar_buy','dollar_sale']\n",
        "  cols=['ent_type', 'ent_name', 'dollar_buy','dollar_sale','b_s_diff','previous_updt']\n",
        "  df_dol_ent = pd.read_html(io.StringIO(str(page_request.text)) , thousands=None,\n",
        "                            decimal=',' , header=0 )[2]\n",
        "\n",
        "  df_dol_ent.dropna(axis = 0, how = 'all', inplace = True)\n",
        "  df_dol_ent.columns = cols\n",
        "  df_dol_ent.ffill( inplace=True)\n",
        "  df_dol_ent['previous_updt'] = pd.to_datetime(df_dol_ent['previous_updt'] , format='mixed',dayfirst=True)\n",
        "  # df_dol_ent.insert(loc=0, column = 'dateUTC', value =  datetime.today().strftime('%Y-%m-%d'))\n",
        "  today_CostaRica = datetime.now(pytz.timezone('America/Costa_Rica')).strftime('%Y-%m-%d')\n",
        "  df_dol_ent.insert(loc=0, column = 'date', value = today_CostaRica)\n",
        "  df_dol_ent['date']=pd.to_datetime(df_dol_ent['date'])\n",
        "\n",
        "else:\n",
        "  print('Request was NOT OK, received status code', page_request.status_code)\n",
        "\n",
        "df_dol_ent.tail(7)\n",
        "# df_dol_ent.head(7)\n"
      ]
    },
    {
      "cell_type": "code",
      "execution_count": 29,
      "metadata": {
        "colab": {
          "base_uri": "https://localhost:8080/"
        },
        "id": "WeIpIlcYx4iy",
        "outputId": "1250909b-b56a-4769-f74e-e1352c696c77"
      },
      "outputs": [
        {
          "data": {
            "text/plain": [
              "(array(['Bancos públicos', 'Bancos privados', 'Financieras',\n",
              "        'Mutuales de Vivienda', 'Cooperativas', 'Casas de Cambio',\n",
              "        'Puestos de Bolsa'], dtype=object),\n",
              " 7,\n",
              " ent_type\n",
              " Bancos privados         11\n",
              " Cooperativas             9\n",
              " Puestos de Bolsa         5\n",
              " Financieras              4\n",
              " Casas de Cambio          4\n",
              " Bancos públicos          3\n",
              " Mutuales de Vivienda     2\n",
              " Name: count, dtype: int64)"
            ]
          },
          "execution_count": 29,
          "metadata": {},
          "output_type": "execute_result"
        }
      ],
      "source": [
        "df_dol_ent.ent_type.unique() , df_dol_ent.ent_type.nunique() , df_dol_ent.ent_type.value_counts()"
      ]
    },
    {
      "cell_type": "code",
      "execution_count": 30,
      "metadata": {
        "colab": {
          "base_uri": "https://localhost:8080/"
        },
        "id": "W_0mDmW-kk21",
        "outputId": "4e4aada7-39db-4c50-ebc2-db442bd35a1e"
      },
      "outputs": [
        {
          "name": "stdout",
          "output_type": "stream",
          "text": [
            "<class 'pandas.core.frame.DataFrame'>\n",
            "Index: 38 entries, 0 to 37\n",
            "Data columns (total 7 columns):\n",
            " #   Column         Non-Null Count  Dtype         \n",
            "---  ------         --------------  -----         \n",
            " 0   date           38 non-null     datetime64[ns]\n",
            " 1   ent_type       38 non-null     object        \n",
            " 2   ent_name       38 non-null     object        \n",
            " 3   dollar_buy     38 non-null     float64       \n",
            " 4   dollar_sale    38 non-null     float64       \n",
            " 5   b_s_diff       38 non-null     float64       \n",
            " 6   previous_updt  38 non-null     datetime64[ns]\n",
            "dtypes: datetime64[ns](2), float64(3), object(2)\n",
            "memory usage: 2.4+ KB\n"
          ]
        }
      ],
      "source": [
        "df_dol_ent.info()"
      ]
    },
    {
      "cell_type": "markdown",
      "metadata": {},
      "source": [
        "### Extracting the __EVENTVALIDATION and __VIEWSTATE aspx parameters from base page\n",
        "\n",
        "Those values will be needed at the next stage, as extracting the exchange info from previous dates requires a POST with the aspx parameters values from the base page"
      ]
    },
    {
      "cell_type": "code",
      "execution_count": 31,
      "metadata": {},
      "outputs": [],
      "source": [
        "# getting the soup\n",
        "if page_request.ok:\n",
        "  base_page_soup = bs(page_request.text)\n",
        "else:\n",
        "  print('Not Found. Status code was: ', page_request.status_code)\n",
        "\n",
        "# extracting values of parameters\n",
        "base_EVENTVALIDATION = base_page_soup.find('input', attrs={'name': '__EVENTVALIDATION'})['value']\n",
        "base_VIEWSTATE = base_page_soup.find('input', attrs={'name': '__VIEWSTATE'})['value']"
      ]
    },
    {
      "cell_type": "code",
      "execution_count": 32,
      "metadata": {},
      "outputs": [
        {
          "data": {
            "text/plain": [
              "('/wEdAAg6e/', 'Ej11aMMI73', '/wEPDwUJMj', 'Sm2edzWw==')"
            ]
          },
          "execution_count": 32,
          "metadata": {},
          "output_type": "execute_result"
        }
      ],
      "source": [
        "base_EVENTVALIDATION[:10] , base_EVENTVALIDATION[-10:] , base_VIEWSTATE[:10], base_VIEWSTATE[-10:]"
      ]
    },
    {
      "cell_type": "markdown",
      "metadata": {},
      "source": [
        "#### Function"
      ]
    },
    {
      "cell_type": "code",
      "execution_count": 33,
      "metadata": {},
      "outputs": [],
      "source": [
        "# function to extract those parameters, as doing this is going to be done repeatedly later\n",
        "\n",
        "def get_eventvalidation_viewstate ( pagerequested ):\n",
        "  if pagerequested.ok:\n",
        "    page_soup = bs(pagerequested.text)\n",
        "  else:\n",
        "    print('Not Found. Status code was: ', page_request.status_code)\n",
        "  # extracting values of parameters\n",
        "  param_EVENTVALIDATION = page_soup.find('input', attrs={'name': '__EVENTVALIDATION'})['value']\n",
        "  param_VIEWSTATE = page_soup.find('input', attrs={'name': '__VIEWSTATE'})['value']\n",
        "  return param_EVENTVALIDATION , param_VIEWSTATE"
      ]
    },
    {
      "cell_type": "code",
      "execution_count": 34,
      "metadata": {},
      "outputs": [
        {
          "data": {
            "text/plain": [
              "('Sm2edzWw==', 'Ej11aMMI73')"
            ]
          },
          "execution_count": 34,
          "metadata": {},
          "output_type": "execute_result"
        }
      ],
      "source": [
        "# testing the function\n",
        "base_EVENTVALIDATION , base_VIEWSTATE   = get_eventvalidation_viewstate (page_request)\n",
        "# checking last 10 chars for each, as those are too big\n",
        "base_EVENTVALIDATION[-10:] , base_VIEWSTATE[-10:] "
      ]
    },
    {
      "cell_type": "markdown",
      "metadata": {
        "id": "EZ1289iu8LOf"
      },
      "source": [
        "## 3.Scraping entities dollar exchange rate from a previous date\n",
        "\n",
        "This section's purpose it to understand and confirm how the POST request to get previous days data is to be made, successfully"
      ]
    },
    {
      "cell_type": "code",
      "execution_count": 59,
      "metadata": {
        "colab": {
          "base_uri": "https://localhost:8080/"
        },
        "id": "Rcl0x3RJ6NRl",
        "outputId": "7da84c31-8e6f-4969-9eb5-7c7c21de8f5d"
      },
      "outputs": [],
      "source": [
        "# !ls pay*  \n",
        "# commented as the payload txt file is no longer needed as we will extract the aspx params from base page"
      ]
    },
    {
      "cell_type": "code",
      "execution_count": 265,
      "metadata": {
        "id": "hXNAc1oxvrXK"
      },
      "outputs": [],
      "source": [
        "# this one did not work as data is already encoded and also NOT in json format\n",
        "# with open('payload_json.txt','r') as f:\n",
        "  # payld =  f'{f.read()}'\n",
        "# payld\n",
        "# type(payld)\n"
      ]
    },
    {
      "cell_type": "code",
      "execution_count": 266,
      "metadata": {
        "id": "SEgM0bZDBFCP"
      },
      "outputs": [],
      "source": [
        "# # get text dict from file, and then convert to a true dict object\n",
        "# with open('payload_json_unencoded.txt','r') as f:\n",
        "#   payld =  f.read()\n",
        "\n",
        "# import json\n",
        "# payld = json.loads(payld)\n",
        "# payld\n",
        "# # type(payld)"
      ]
    },
    {
      "cell_type": "code",
      "execution_count": 174,
      "metadata": {
        "colab": {
          "base_uri": "https://localhost:8080/"
        },
        "id": "qYfWBzA98bNE",
        "outputId": "560a3cae-cee1-49bd-984a-89cf2502902d"
      },
      "outputs": [],
      "source": [
        "## FOR DELETION\n",
        "\n",
        "# ## Config is mostly the same as previous section. Adding the payload needed for the\n",
        "# ## POST request that is done instead the GET request done before\n",
        "\n",
        "# # url_page = f'https://{host}/{urlpath}'\n",
        "\n",
        "# # When inspecting the browser behaviour, this request header is sent\n",
        "# # Content-Type: application/x-www-form-urlencoded\n",
        "\n",
        "# hdrs={'User-Agent': \"Mozilla/5.0 (X11; Linux x86_64) AppleWebKit/537.36 (KHTML, like Gecko) Chrome/125.0.0.0 Safari/537.36\",\n",
        "#       'Host' : f'{host}',\n",
        "#       'Accept-Language': 'en-US,en;q=0.9,es;q=0.8,es-CR;q=0.7,de;q=0.6',\n",
        "#       'Accept-Encoding': 'gzip, deflate, br, zstd',\n",
        "#       # 'Content-Type': 'application/x-www-form-urlencoded'  #removed, requests library takes care of it\n",
        "#       }\n",
        "\n",
        "# # payload = { '__EVENTTARGET' : 'Calendar1' , '__EVENTARGUMENT' : '8983' }\n",
        "\n",
        "# # with open('payload_json_unencoded.txt','r') as f:\n",
        "# #   payld =  f.read()\n",
        "# # import json\n",
        "# # payld = json.loads(payld)\n",
        "\n",
        "# # taken from recursively scraping section\n",
        "# if os.path.exists(JSON_FILE_NAME):\n",
        "#   print(f'Payload {JSON_FILE_NAME} exists locally, loading it into a variable...')\n",
        "#   with open(JSON_FILE_NAME,'r') as f:\n",
        "#     payld =  f.read()\n",
        "#   payld = json.loads(payld)\n",
        "# else:\n",
        "#   print(f'Payload {JSON_FILE_NAME} does not exist locally, loading it into a variable from github rawfile...')\n",
        "#   jsonfilereq = requests.get('https://raw.githubusercontent.com/lemilosm/bccr_dol_exc_entities_rate_history_webscraping/main/payload_json_unencoded.txt')\n",
        "#   if jsonfilereq.ok:\n",
        "#     payld = json.loads(jsonfilereq.text)\n",
        "#     #storing the downloaded json data into a file for future runs to have it\n",
        "#     with open(JSON_FILE_NAME,'w') as f:\n",
        "#       f.write(str(payld).replace(\"'\", '\"')) #future loads from file require \" instead '\n",
        "#     print(f'{JSON_FILE_NAME} saved locally')\n",
        "#   else:\n",
        "#     print('Payload json file could not be read from github either.')\n",
        "\n",
        "# # argument that controls the date, as described at the project's intro\n",
        "# past_date_to_scrape = date(2024, 8, 5)\n",
        "# past_date_to_scrape_inDays = (past_date_to_scrape - date(2000, 1, 1)).days\n",
        "\n",
        "# payld['__EVENTARGUMENT'] = past_date_to_scrape_inDays\n",
        "# # \"__EVENTARGUMENT\": \"8983\"\n",
        "\n",
        "# past_date_to_scrape_inDays , payld['__EVENTTARGET'] ,payld['__VIEWSTATEGENERATOR'] , payld['__EVENTARGUMENT']"
      ]
    },
    {
      "cell_type": "markdown",
      "metadata": {},
      "source": [
        "### Getting page with calendar"
      ]
    },
    {
      "cell_type": "code",
      "execution_count": 35,
      "metadata": {},
      "outputs": [],
      "source": [
        "# Base Json string to be used as payload for POST requests\n",
        "# all parameters were observed to be constant, except for _EVENTVALIDATION and VIEWSTATE\n",
        "base_payload_json = {\"__EVENTTARGET\": \"Calendar1\", \"__EVENTARGUMENT\": \"\" , \"__VIEWSTATE\": \"\" ,\\\n",
        "  \"__VIEWSTATEGENERATOR\": \"5CF5411C\" ,  \"__EVENTVALIDATION\": \"\" ,\\\n",
        "    \"imgCalendario.x\": \"7\", \"imgCalendario.y\": \"8\" ,  \"CtrlBuscar2:txtPalabras\": \" \"}"
      ]
    },
    {
      "cell_type": "code",
      "execution_count": 36,
      "metadata": {},
      "outputs": [],
      "source": [
        "payload_json = base_payload_json.copy()\n",
        "# argument that controls the date, as described at the project's intro\n",
        "past_date_to_scrape = date(2024, 8, 1)\n",
        "past_date_to_scrape_inDays = (past_date_to_scrape - date(2000, 1, 1)).days\n",
        "# __EVENTVALIDATION and __VIEWSTATE populated with info from previous section, and __EVENTARGUMENT from\n",
        "#info of past date to be scraped\n",
        "payload_json['__EVENTVALIDATION'] = base_EVENTVALIDATION\n",
        "payload_json['__VIEWSTATE'] = base_VIEWSTATE\n",
        "payload_json['__EVENTARGUMENT'] = past_date_to_scrape_inDays"
      ]
    },
    {
      "cell_type": "code",
      "execution_count": 37,
      "metadata": {},
      "outputs": [
        {
          "name": "stdout",
          "output_type": "stream",
          "text": [
            "__EVENTVALIDATION : MMI73\n",
            "__VIEWSTATE : zWw==\n"
          ]
        }
      ],
      "source": [
        "for k in  ['__EVENTVALIDATION','__VIEWSTATE'] :\n",
        "  val = payload_json[k][-5:]\n",
        "  print(f'{k} : {val}')"
      ]
    },
    {
      "cell_type": "code",
      "execution_count": 38,
      "metadata": {},
      "outputs": [],
      "source": [
        "# payload_json"
      ]
    },
    {
      "cell_type": "code",
      "execution_count": 39,
      "metadata": {
        "id": "2XEbeT1m9sX9"
      },
      "outputs": [
        {
          "data": {
            "text/plain": [
              "(200, 'OK')"
            ]
          },
          "execution_count": 39,
          "metadata": {},
          "output_type": "execute_result"
        }
      ],
      "source": [
        "# Performing the actual request.  Page with calendar is obtained with a POST request\n",
        "\n",
        "hdrs_post={'User-Agent': \"Mozilla/5.0 (X11; Linux x86_64) AppleWebKit/537.36 (KHTML, like Gecko) Chrome/125.0.0.0 Safari/537.36\",\n",
        "      'Host' : f'{host}',\n",
        "      'Accept-Language': 'en-US,en;q=0.9,es;q=0.8,es-CR;q=0.7,de;q=0.6',\n",
        "      'Accept-Encoding': 'gzip, deflate, br, zstd',\n",
        "      # 'Content-Type': 'application/x-www-form-urlencoded'  #removed, requests library takes care of it\n",
        "      }\n",
        "\n",
        "page_request_calendar = requests.post(url_page, headers=hdrs_post , data=payload_json )\n",
        "\n",
        "page_request_calendar.status_code, page_request_calendar.reason"
      ]
    },
    {
      "cell_type": "code",
      "execution_count": 40,
      "metadata": {
        "colab": {
          "base_uri": "https://localhost:8080/"
        },
        "id": "kmbpaOYsEGxK",
        "outputId": "b47061e2-2cd9-4357-882b-b3a490532e6c"
      },
      "outputs": [
        {
          "data": {
            "text/plain": [
              "{'User-Agent': 'Mozilla/5.0 (X11; Linux x86_64) AppleWebKit/537.36 (KHTML, like Gecko) Chrome/125.0.0.0 Safari/537.36', 'Accept-Encoding': 'gzip, deflate, br, zstd', 'Accept': '*/*', 'Connection': 'keep-alive', 'Host': 'gee.bccr.fi.cr', 'Accept-Language': 'en-US,en;q=0.9,es;q=0.8,es-CR;q=0.7,de;q=0.6', 'Content-Length': '12488', 'Content-Type': 'application/x-www-form-urlencoded'}"
            ]
          },
          "execution_count": 40,
          "metadata": {},
          "output_type": "execute_result"
        }
      ],
      "source": [
        "# req headers\n",
        "page_request_calendar.request.headers"
      ]
    },
    {
      "cell_type": "code",
      "execution_count": 41,
      "metadata": {
        "colab": {
          "base_uri": "https://localhost:8080/"
        },
        "id": "7Fp0JGHoDuLz",
        "outputId": "a086fef6-ac0e-4a1b-c27c-9ca61f7784b8"
      },
      "outputs": [
        {
          "data": {
            "text/plain": [
              "(200,\n",
              " 'OK',\n",
              " True,\n",
              " 'https://gee.bccr.fi.cr/IndicadoresEconomicos/Cuadros/frmConsultaTCVentanilla.aspx',\n",
              " '14752',\n",
              " 'Tue, 13 Aug 2024 13:22:45 GMT',\n",
              " 'utf-8',\n",
              " 'text/html; charset=utf-8')"
            ]
          },
          "execution_count": 41,
          "metadata": {},
          "output_type": "execute_result"
        }
      ],
      "source": [
        "# some interesting options that could be used, like response headers\n",
        "page_request_calendar.status_code, page_request_calendar.reason ,  page_request_calendar.ok , page_request_calendar.url , \\\n",
        "page_request_calendar.headers['Content-Length'], page_request_calendar.headers['Date'] , page_request_calendar.encoding, \\\n",
        " page_request_calendar.headers['Content-Type']"
      ]
    },
    {
      "cell_type": "code",
      "execution_count": 42,
      "metadata": {
        "colab": {
          "base_uri": "https://localhost:8080/",
          "height": 35
        },
        "id": "_9GOsngXHWMT",
        "outputId": "7631a697-9563-4fdd-f15b-4e7c09a52511"
      },
      "outputs": [
        {
          "data": {
            "text/plain": [
              "'martes, 13 de agosto de 2024'"
            ]
          },
          "execution_count": 42,
          "metadata": {},
          "output_type": "execute_result"
        }
      ],
      "source": [
        "# The date is still today, becaue we have only requested the page as if clicked the calendar button, \n",
        "# but not selected a previous date yet\n",
        "pd.read_html(io.StringIO(str(page_request_calendar.text)) , thousands=None,\n",
        "                          decimal=','  )[1][0][0]"
      ]
    },
    {
      "cell_type": "code",
      "execution_count": 43,
      "metadata": {},
      "outputs": [
        {
          "data": {
            "text/plain": [
              "('ajp9GJwu8=', 'hLiSx7kK4=')"
            ]
          },
          "execution_count": 43,
          "metadata": {},
          "output_type": "execute_result"
        }
      ],
      "source": [
        "# getting calendar page aspx params\n",
        "calendar_EVENTVALIDATION , calendar_VIEWSTATE   = get_eventvalidation_viewstate (page_request_calendar)\n",
        "calendar_VIEWSTATE[-10:] , calendar_EVENTVALIDATION[-10:]"
      ]
    },
    {
      "cell_type": "code",
      "execution_count": 44,
      "metadata": {},
      "outputs": [
        {
          "data": {
            "text/plain": [
              "['agosto', 'de', '2024']"
            ]
          },
          "execution_count": 44,
          "metadata": {},
          "output_type": "execute_result"
        }
      ],
      "source": [
        "cal_page_soup = bs(page_request_calendar.text)\n",
        "cal_page_soup.find('table', attrs={'id': 'Calendar1'}).find_all('td')[2].text.split()"
      ]
    },
    {
      "cell_type": "code",
      "execution_count": 56,
      "metadata": {},
      "outputs": [
        {
          "data": {
            "text/plain": [
              "('ago', '2024')"
            ]
          },
          "execution_count": 56,
          "metadata": {},
          "output_type": "execute_result"
        }
      ],
      "source": [
        "# Making sure calendar is actually at the right month\n",
        "# getting the soup\n",
        "if page_request_calendar.ok:\n",
        "  cal_page_soup = bs(page_request_calendar.text)\n",
        "else:\n",
        "  print('Not Found. Status code was: ', page_request_calendar.status_code)\n",
        "\n",
        "# extracting values cal month and year\n",
        "current_cal_list = cal_page_soup.find('table', attrs={'id': 'Calendar1'}).find_all('td')[2].text.split()\n",
        "current_cal_month = current_cal_list[0][:3]  #need only first 3 letters (to later conver to english)\n",
        "current_cal_year = current_cal_list[2]\n",
        "\n",
        "#validation\n",
        "current_cal_month , current_cal_year"
      ]
    },
    {
      "cell_type": "code",
      "execution_count": 57,
      "metadata": {},
      "outputs": [
        {
          "data": {
            "text/plain": [
              "'Aug'"
            ]
          },
          "execution_count": 57,
          "metadata": {},
          "output_type": "execute_result"
        }
      ],
      "source": [
        "# Converting month from spanish to english\n",
        "# Dictionary of spanish months translated to english, commenting the ones that have no change\n",
        "months_spa_to_eng = {'ene': 'Jan', 'feb': 'Feb', 'mar': 'Mar', 'abr': 'Apr', 'may': 'May', 'jun': 'Jun',\\\n",
        "                     'jul': 'Jul', 'ago': 'Aug','set': 'Sep', 'oct': 'Oct', 'nov': 'Nov', 'dic': 'Dec' }\n",
        "for spa, eng in months_spa_to_eng.items():\n",
        "    current_cal_month = current_cal_month.replace(spa, eng)\n",
        "\n",
        "#Validation\n",
        "current_cal_month"
      ]
    },
    {
      "cell_type": "code",
      "execution_count": 58,
      "metadata": {},
      "outputs": [
        {
          "data": {
            "text/plain": [
              "8979"
            ]
          },
          "execution_count": 58,
          "metadata": {},
          "output_type": "execute_result"
        }
      ],
      "source": [
        "# In the next section we would work with days in relation to 2000-1-1, so the validation must be done \n",
        "# using that kind of number\n",
        "past_date_to_scrape = date(2024, 8, 1)\n",
        "past_date_to_scrape_inDays = (past_date_to_scrape - date(2000, 1, 1)).days\n",
        "\n",
        "past_date_to_scrape_inDays"
      ]
    },
    {
      "cell_type": "code",
      "execution_count": 59,
      "metadata": {},
      "outputs": [
        {
          "data": {
            "text/plain": [
              "(datetime.date(2024, 8, 1), 'Aug', 2024)"
            ]
          },
          "execution_count": 59,
          "metadata": {},
          "output_type": "execute_result"
        }
      ],
      "source": [
        "# We must learn to convert that number to date object in order to get its month and year so we can compare\n",
        "# against the one we got\n",
        "\n",
        "# The way to do that is to use a days timedelta summed on top of 2000-1-1\n",
        "date_converted_from_EVENTARGUMENT = date(2000, 1, 1) + timedelta (days = 8979)\n",
        "\n",
        "date_converted_from_EVENTARGUMENT , date_converted_from_EVENTARGUMENT.strftime('%b') , date_converted_from_EVENTARGUMENT.year\n"
      ]
    },
    {
      "cell_type": "code",
      "execution_count": 64,
      "metadata": {},
      "outputs": [
        {
          "name": "stdout",
          "output_type": "stream",
          "text": [
            "No need to change calendar month/year\n"
          ]
        }
      ],
      "source": [
        "# this piece of code should help with the comparison then, when its time to iterate for many days\n",
        "\n",
        "EVENTARGUMENT_days = 8979\n",
        "date_converted_from_EVENTARGUMENT = date(2000, 1, 1) + timedelta (days = EVENTARGUMENT_days)\n",
        "EVENTARGUMENT_month = date_converted_from_EVENTARGUMENT.strftime('%b')\n",
        "EVENTARGUMENT_year = str(date_converted_from_EVENTARGUMENT.year)\n",
        "\n",
        "if [current_cal_month , current_cal_year] == [EVENTARGUMENT_month , EVENTARGUMENT_year]:\n",
        "  print('No need to change calendar month/year')\n",
        "else:\n",
        "  print('Calendar month/year must be adjusted')"
      ]
    },
    {
      "cell_type": "markdown",
      "metadata": {},
      "source": [
        "### Getting page of the desired date\n",
        "\n",
        "The new POST request must be made with updated aspx EVENTVALIDATION and VIEWSTATE values"
      ]
    },
    {
      "cell_type": "code",
      "execution_count": 51,
      "metadata": {},
      "outputs": [
        {
          "name": "stdout",
          "output_type": "stream",
          "text": [
            "__EVENTVALIDATION : 7kK4=\n",
            "__VIEWSTATE : Jwu8=\n"
          ]
        }
      ],
      "source": [
        "# using a new payload var \n",
        "payload_json2 = base_payload_json.copy()\n",
        "# this one must not have the imgCalendario keys.  Deleting them\n",
        "del payload_json2['imgCalendario.x'] \n",
        "del payload_json2['imgCalendario.y']\n",
        "# argument that controls the date, as described at the project's intro\n",
        "past_date_to_scrape = date(2024, 8, 2)\n",
        "past_date_to_scrape_inDays = (past_date_to_scrape - date(2000, 1, 1)).days\n",
        "# __EVENTVALIDATION and __VIEWSTATE populated with info from previous section, and __EVENTARGUMENT from\n",
        "#info of past date to be scraped\n",
        "payload_json2['__EVENTVALIDATION'] = calendar_EVENTVALIDATION\n",
        "payload_json2['__VIEWSTATE'] = calendar_VIEWSTATE\n",
        "payload_json2['__EVENTARGUMENT'] = past_date_to_scrape_inDays\n",
        "\n",
        "#\n",
        "for k in  ['__EVENTVALIDATION','__VIEWSTATE'] :\n",
        "  val = payload_json2[k][-5:]\n",
        "  print(f'{k} : {val}')"
      ]
    },
    {
      "cell_type": "code",
      "execution_count": 52,
      "metadata": {},
      "outputs": [
        {
          "data": {
            "text/plain": [
              "(200, 'OK')"
            ]
          },
          "execution_count": 52,
          "metadata": {},
          "output_type": "execute_result"
        }
      ],
      "source": [
        "# Performing the actual request.  Previous day's data is done with a POST request\n",
        "# using same headers already stored before, and new payload jason var\n",
        "\n",
        "page_request_prevdate = requests.post(url_page, headers=hdrs_post , data=payload_json2 )\n",
        "\n",
        "page_request_prevdate.status_code, page_request_prevdate.reason"
      ]
    },
    {
      "cell_type": "code",
      "execution_count": 53,
      "metadata": {},
      "outputs": [
        {
          "data": {
            "text/plain": [
              "'viernes, 2 de agosto de 2024'"
            ]
          },
          "execution_count": 53,
          "metadata": {},
          "output_type": "execute_result"
        }
      ],
      "source": [
        "# \n",
        "pd.read_html(io.StringIO(str(page_request_prevdate.text)) , thousands=None,\n",
        "                          decimal=','  )[1][0][0]"
      ]
    },
    {
      "cell_type": "markdown",
      "metadata": {
        "id": "k5W54YeWEmO9"
      },
      "source": [
        "### Building the dataframe from scraped html"
      ]
    },
    {
      "cell_type": "code",
      "execution_count": 66,
      "metadata": {
        "colab": {
          "base_uri": "https://localhost:8080/",
          "height": 35
        },
        "id": "wgiSIHj5Zwft",
        "outputId": "bef66d9b-2bfc-4f73-eb40-0b4f3caaeefc"
      },
      "outputs": [
        {
          "data": {
            "text/plain": [
              "'2024-08-01'"
            ]
          },
          "execution_count": 66,
          "metadata": {},
          "output_type": "execute_result"
        }
      ],
      "source": [
        "past_date_to_scrape.strftime('%Y-%m-%d')"
      ]
    },
    {
      "cell_type": "code",
      "execution_count": 67,
      "metadata": {
        "colab": {
          "base_uri": "https://localhost:8080/",
          "height": 409
        },
        "id": "wHTiwkTmZbDD",
        "outputId": "a15641d3-93fc-4905-da42-c1fa6a81543d"
      },
      "outputs": [
        {
          "name": "stdout",
          "output_type": "stream",
          "text": [
            "Request OK\n"
          ]
        },
        {
          "data": {
            "text/html": [
              "<div>\n",
              "<style scoped>\n",
              "    .dataframe tbody tr th:only-of-type {\n",
              "        vertical-align: middle;\n",
              "    }\n",
              "\n",
              "    .dataframe tbody tr th {\n",
              "        vertical-align: top;\n",
              "    }\n",
              "\n",
              "    .dataframe thead th {\n",
              "        text-align: right;\n",
              "    }\n",
              "</style>\n",
              "<table border=\"1\" class=\"dataframe\">\n",
              "  <thead>\n",
              "    <tr style=\"text-align: right;\">\n",
              "      <th></th>\n",
              "      <th>date</th>\n",
              "      <th>ent_type</th>\n",
              "      <th>ent_name</th>\n",
              "      <th>dollar_buy</th>\n",
              "      <th>dollar_sale</th>\n",
              "      <th>b_s_diff</th>\n",
              "      <th>previous_updt</th>\n",
              "    </tr>\n",
              "  </thead>\n",
              "  <tbody>\n",
              "    <tr>\n",
              "      <th>31</th>\n",
              "      <td>2024-08-01</td>\n",
              "      <td>Casas de Cambio</td>\n",
              "      <td>Casa de Cambio Global Exchange</td>\n",
              "      <td>437.34</td>\n",
              "      <td>610.37</td>\n",
              "      <td>173.03</td>\n",
              "      <td>2024-08-01 23:13:00</td>\n",
              "    </tr>\n",
              "    <tr>\n",
              "      <th>32</th>\n",
              "      <td>2024-08-01</td>\n",
              "      <td>Casas de Cambio</td>\n",
              "      <td>Casa de Cambio Teledolar S. A.</td>\n",
              "      <td>514.00</td>\n",
              "      <td>538.00</td>\n",
              "      <td>24.00</td>\n",
              "      <td>2024-08-02 00:42:00</td>\n",
              "    </tr>\n",
              "    <tr>\n",
              "      <th>33</th>\n",
              "      <td>2024-08-01</td>\n",
              "      <td>Puestos de Bolsa</td>\n",
              "      <td>BCT Valores, Puesto De Bolsa, S.A.</td>\n",
              "      <td>515.00</td>\n",
              "      <td>533.00</td>\n",
              "      <td>18.00</td>\n",
              "      <td>2024-08-01 13:18:00</td>\n",
              "    </tr>\n",
              "    <tr>\n",
              "      <th>34</th>\n",
              "      <td>2024-08-01</td>\n",
              "      <td>Puestos de Bolsa</td>\n",
              "      <td>BN Valores S.A., Puesto de Bolsa</td>\n",
              "      <td>515.50</td>\n",
              "      <td>529.00</td>\n",
              "      <td>13.50</td>\n",
              "      <td>2024-08-01 08:12:00</td>\n",
              "    </tr>\n",
              "    <tr>\n",
              "      <th>35</th>\n",
              "      <td>2024-08-01</td>\n",
              "      <td>Puestos de Bolsa</td>\n",
              "      <td>Mercado Valores de Costa Rica Puesto de Bolsa</td>\n",
              "      <td>513.50</td>\n",
              "      <td>531.00</td>\n",
              "      <td>17.50</td>\n",
              "      <td>2024-07-31 12:36:00</td>\n",
              "    </tr>\n",
              "    <tr>\n",
              "      <th>36</th>\n",
              "      <td>2024-08-01</td>\n",
              "      <td>Puestos de Bolsa</td>\n",
              "      <td>PB Inversiones SAMA</td>\n",
              "      <td>514.00</td>\n",
              "      <td>530.00</td>\n",
              "      <td>16.00</td>\n",
              "      <td>2024-08-01 08:27:00</td>\n",
              "    </tr>\n",
              "    <tr>\n",
              "      <th>37</th>\n",
              "      <td>2024-08-01</td>\n",
              "      <td>Puestos de Bolsa</td>\n",
              "      <td>Popular Valores, Puesto de Bolsa</td>\n",
              "      <td>516.00</td>\n",
              "      <td>530.00</td>\n",
              "      <td>14.00</td>\n",
              "      <td>2024-07-30 10:52:00</td>\n",
              "    </tr>\n",
              "  </tbody>\n",
              "</table>\n",
              "</div>"
            ],
            "text/plain": [
              "         date          ent_type  \\\n",
              "31 2024-08-01   Casas de Cambio   \n",
              "32 2024-08-01   Casas de Cambio   \n",
              "33 2024-08-01  Puestos de Bolsa   \n",
              "34 2024-08-01  Puestos de Bolsa   \n",
              "35 2024-08-01  Puestos de Bolsa   \n",
              "36 2024-08-01  Puestos de Bolsa   \n",
              "37 2024-08-01  Puestos de Bolsa   \n",
              "\n",
              "                                         ent_name  dollar_buy  dollar_sale  \\\n",
              "31                 Casa de Cambio Global Exchange      437.34       610.37   \n",
              "32                 Casa de Cambio Teledolar S. A.      514.00       538.00   \n",
              "33             BCT Valores, Puesto De Bolsa, S.A.      515.00       533.00   \n",
              "34               BN Valores S.A., Puesto de Bolsa      515.50       529.00   \n",
              "35  Mercado Valores de Costa Rica Puesto de Bolsa      513.50       531.00   \n",
              "36                            PB Inversiones SAMA      514.00       530.00   \n",
              "37               Popular Valores, Puesto de Bolsa      516.00       530.00   \n",
              "\n",
              "    b_s_diff       previous_updt  \n",
              "31    173.03 2024-08-01 23:13:00  \n",
              "32     24.00 2024-08-02 00:42:00  \n",
              "33     18.00 2024-08-01 13:18:00  \n",
              "34     13.50 2024-08-01 08:12:00  \n",
              "35     17.50 2024-07-31 12:36:00  \n",
              "36     16.00 2024-08-01 08:27:00  \n",
              "37     14.00 2024-07-30 10:52:00  "
            ]
          },
          "execution_count": 67,
          "metadata": {},
          "output_type": "execute_result"
        }
      ],
      "source": [
        "# reusing the code we already had for scraping today's echange rate\n",
        "\n",
        "if page_request_prevdate.ok:\n",
        "  print('Request OK')\n",
        "  cols=['date', 'dollar_buy','dollar_sale']\n",
        "  cols=['ent_type', 'ent_name', 'dollar_buy','dollar_sale','b_s_diff','previous_updt']\n",
        "  df_dol_ent_prevdate = pd.read_html(io.StringIO(str(page_request_prevdate.text)) , thousands=None,\n",
        "                            decimal=',' , header=0 )[2]\n",
        "\n",
        "  df_dol_ent_prevdate.dropna(axis = 0, how = 'all', inplace = True)\n",
        "  df_dol_ent_prevdate.columns = cols\n",
        "  df_dol_ent_prevdate.ffill( inplace=True)\n",
        "  df_dol_ent_prevdate['previous_updt'] = pd.to_datetime(df_dol_ent_prevdate['previous_updt'] , format='mixed',dayfirst=True)\n",
        "  # df_dol_ent_prevdate.insert(loc=0, column = 'dateUTC', value =  datetime.today().strftime('%Y-%m-%d'))\n",
        "  today_CostaRica = datetime.now(pytz.timezone('America/Costa_Rica')).strftime('%Y-%m-%d')\n",
        "  df_dol_ent_prevdate.insert(loc=0, column = 'date', value = past_date_to_scrape.strftime('%Y-%m-%d'))\n",
        "  df_dol_ent_prevdate['date']=pd.to_datetime(df_dol_ent_prevdate['date'])\n",
        "\n",
        "else:\n",
        "  print('Request was NOT OK, received status code', page_request_prevdate.status_code)\n",
        "\n",
        "df_dol_ent_prevdate.tail(7)\n"
      ]
    },
    {
      "cell_type": "markdown",
      "metadata": {
        "id": "OTkVq-59ZVCt"
      },
      "source": [
        "## 4.Recursively scraping entities dollar exchange rate from many different days before today\n",
        "\n",
        "Now that it is known how the past day scraping works, its time to scrape many different days, in bulk.\n",
        "\n",
        "Steps:\n",
        "\n",
        "1. Read Calendar page and extract aspx params, and also prev days's month \n",
        "2. If prev day's month matches the calendar month, continue to 3.  If not, request cal page for prev month\n",
        "  2.1 Update aspx params\n",
        "3. Read desired date page and extract html using requests\n",
        "4. Build dataframe and clean it"
      ]
    },
    {
      "cell_type": "code",
      "execution_count": 274,
      "metadata": {
        "colab": {
          "base_uri": "https://localhost:8080/"
        },
        "id": "w80qZAkwG5XW",
        "outputId": "778abe89-4caa-4494-f979-ba04e22e3ddf"
      },
      "outputs": [
        {
          "data": {
            "text/plain": [
              "('2024-08-12', datetime.date(2024, 8, 12), datetime.date(2000, 1, 1))"
            ]
          },
          "execution_count": 274,
          "metadata": {},
          "output_type": "execute_result"
        }
      ],
      "source": [
        "datetime.today().strftime('%Y-%m-%d') , datetime.today().date()  ,  date(2000, 1, 1)"
      ]
    },
    {
      "cell_type": "code",
      "execution_count": 68,
      "metadata": {
        "colab": {
          "base_uri": "https://localhost:8080/"
        },
        "id": "Qumb8j-rHw2m",
        "outputId": "de28c9ef-8eb6-4eff-cb70-b7cd27e76fab"
      },
      "outputs": [],
      "source": [
        "## Config is mostly the same as previous section. Adding the payload needed for the\n",
        "## POST request that is done instead the GET request done before\n",
        "\n",
        "hdrs_post={'User-Agent': \"Mozilla/5.0 (X11; Linux x86_64) AppleWebKit/537.36 (KHTML, like Gecko) Chrome/125.0.0.0 Safari/537.36\",\n",
        "      'Host' : f'{host}',\n",
        "      'Accept-Language': 'en-US,en;q=0.9,es;q=0.8,es-CR;q=0.7,de;q=0.6',\n",
        "      'Accept-Encoding': 'gzip, deflate, br, zstd',\n",
        "      # 'Content-Type': 'application/x-www-form-urlencoded'  #removed, requests library takes care of it\n",
        "      }\n",
        "\n",
        "\n"
      ]
    },
    {
      "cell_type": "code",
      "execution_count": 279,
      "metadata": {
        "colab": {
          "base_uri": "https://localhost:8080/"
        },
        "id": "3I2nVZRFZnUo",
        "outputId": "c2429836-5308-4bb7-fd25-204f81684f4e"
      },
      "outputs": [
        {
          "data": {
            "text/plain": [
              "8990"
            ]
          },
          "execution_count": 279,
          "metadata": {},
          "output_type": "execute_result"
        }
      ],
      "source": [
        "# TEST:  today's  EVENTARGUMENT days number.  We have to recursively substract n number of days\n",
        "# to scrape, from this number\n",
        "(datetime.today().date() - date(2000, 1, 1)).days"
      ]
    },
    {
      "cell_type": "code",
      "execution_count": 280,
      "metadata": {
        "colab": {
          "base_uri": "https://localhost:8080/"
        },
        "id": "_ylzfrlaGPe-",
        "outputId": "a2f26199-ec7e-43d1-b45c-6702395a0abb"
      },
      "outputs": [
        {
          "data": {
            "text/plain": [
              "8983"
            ]
          },
          "execution_count": 280,
          "metadata": {},
          "output_type": "execute_result"
        }
      ],
      "source": [
        "# TEST  example of one previous date EVENTARGUMENT days number\n",
        "(date(2024, 8, 5) - date(2000, 1, 1)).days"
      ]
    },
    {
      "cell_type": "code",
      "execution_count": 281,
      "metadata": {
        "colab": {
          "base_uri": "https://localhost:8080/"
        },
        "id": "Q5gWRLsKc4sB",
        "outputId": "263c729b-fec8-4751-8503-55093a092115"
      },
      "outputs": [
        {
          "name": "stdout",
          "output_type": "stream",
          "text": [
            "Payload __EVENTARGUMENT 8989 -- Request OK for day 2024-08-11\n",
            "---------\n",
            "Payload __EVENTARGUMENT 8988 -- Request OK for day 2024-08-10\n",
            "---------\n",
            "Payload __EVENTARGUMENT 8987 -- Request OK for day 2024-08-09\n",
            "---------\n",
            "Payload __EVENTARGUMENT 8986 -- Request OK for day 2024-08-08\n",
            "---------\n",
            "Payload __EVENTARGUMENT 8985 -- Request OK for day 2024-08-07\n",
            "---------\n",
            "Payload __EVENTARGUMENT 8984 -- Request OK for day 2024-08-06\n",
            "---------\n",
            "Payload __EVENTARGUMENT 8983 -- Request OK for day 2024-08-05\n",
            "---------\n",
            "Payload __EVENTARGUMENT 8982 -- Request OK for day 2024-08-04\n",
            "---------\n",
            "Payload __EVENTARGUMENT 8981 -- Request OK for day 2024-08-03\n",
            "---------\n",
            "Payload __EVENTARGUMENT 8980 -- Request OK for day 2024-08-02\n",
            "---------\n",
            "Payload __EVENTARGUMENT 8979 -- Request OK for day 2024-08-01\n",
            "---------\n",
            "Payload __EVENTARGUMENT 8978 -- Request OK for day 2024-07-31\n",
            "---------\n",
            "Payload __EVENTARGUMENT 8977 -- Request OK for day 2024-07-30\n",
            "---------\n",
            "Payload __EVENTARGUMENT 8976 -- Request OK for day 2024-07-29\n",
            "---------\n",
            "Payload __EVENTARGUMENT 8975 -- Request was NOT OK for 2024-07-28, received status code 500\n",
            "Payload __EVENTARGUMENT 8974 -- Request was NOT OK for 2024-07-27, received status code 500\n",
            "Payload __EVENTARGUMENT 8973 -- Request was NOT OK for 2024-07-26, received status code 500\n",
            "Payload __EVENTARGUMENT 8972 -- Request was NOT OK for 2024-07-25, received status code 500\n",
            "\n",
            ">>>Done, dataframe stored from yesterday and back to 2024-07-29 with 532 rows. 14 days were successfully extracted\n"
          ]
        }
      ],
      "source": [
        "# Performing the actual request, recursively.  Previous day's data is done with a POST request\n",
        "\n",
        "# Defining the number of previous days to scrape is defined, and today's eventarg days number\n",
        "PREV_DAYS_TO_SCRAPE = 18\n",
        "todays_eventArgument = (datetime.today().date() - date(2000, 1, 1)).days\n",
        "oldest_date_to_extract = (datetime.today().date() - timedelta(days=PREV_DAYS_TO_SCRAPE)).strftime('%Y-%m-%d')\n",
        "\n",
        "# initializing dataframe to store all the data\n",
        "df_dol_ent_prev_days = pd.DataFrame()\n",
        "\n",
        "for d in range(1,(PREV_DAYS_TO_SCRAPE+1)):\n",
        "# Constructing the full json dict with proper argument\n",
        "  past_eventArgument = todays_eventArgument - d\n",
        "  print(f'Payload __EVENTARGUMENT {past_eventArgument}' ,  end = ' -- '  )\n",
        "  # adding current iteration _EVENTARGUMENT key and value to the payload data\n",
        "  payld['__EVENTARGUMENT'] = past_eventArgument\n",
        "  # date_evaluated in YYYY-mm-dd format\n",
        "  date_evaluated = (datetime.today().date() - timedelta(days=d)).strftime('%Y-%m-%d')\n",
        "  # print(payld) ,  print(type(payld))\n",
        "# Executing the POST request\n",
        "  page_request_prev = requests.post(url_page, headers=hdrs, data= payld )\n",
        "\n",
        "# reusing the code we already had for scraping today's echange rate\n",
        "\n",
        "  if page_request_prev.ok:\n",
        "    print(f'Request OK for day {date_evaluated}\\n---------')\n",
        "    # cols=['date', 'dollar_buy','dollar_sale']\n",
        "    cols=['ent_type', 'ent_name', 'dollar_buy','dollar_sale','b_s_diff','previous_updt']\n",
        "    df_dol_ent_prev_temp = pd.read_html(io.StringIO(str(page_request_prev.text)) , thousands=None,\n",
        "                              decimal=',' , header=0 )[2]\n",
        "\n",
        "    df_dol_ent_prev_temp.dropna(axis = 0, how = 'all', inplace = True)\n",
        "    df_dol_ent_prev_temp.columns = cols\n",
        "    df_dol_ent_prev_temp.ffill( inplace=True)\n",
        "    df_dol_ent_prev_temp['previous_updt'] = pd.to_datetime(df_dol_ent_prev_temp['previous_updt'] , format='mixed',dayfirst=True)\n",
        "    # df_dol_ent_prev_temp.insert(loc=0, column = 'dateUTC', value =  datetime.today().strftime('%Y-%m-%d'))\n",
        "    today_CostaRica = datetime.now(pytz.timezone('America/Costa_Rica')).strftime('%Y-%m-%d')\n",
        "    df_dol_ent_prev_temp.insert(loc=0, column = 'date', value = date_evaluated  )\n",
        "    df_dol_ent_prev_temp['date']=pd.to_datetime(df_dol_ent_prev_temp['date'])\n",
        "# Concatenanting result to main dataframe  df_dol_ent_prev_days\n",
        "    df_dol_ent_prev_days = pd.concat([df_dol_ent_prev_days,df_dol_ent_prev_temp])\n",
        "\n",
        "  else:\n",
        "    print(f'Request was NOT OK for {date_evaluated}, received status code', page_request_prev.status_code)\n",
        "\n",
        "# Final report of the recursive extraction\n",
        "earliest_date_stored = df_dol_ent_prev_days['date'].unique().min().strftime('%Y-%m-%d')\n",
        "# of days succesfully extracted\n",
        "succ_days = len(df_dol_ent_prev_days['date'].unique())\n",
        "print(f'\\n>>>Done, dataframe stored from yesterday and back to {earliest_date_stored} \\\n",
        "with {df_dol_ent_prev_days.shape[0]} rows. {succ_days} days were successfully extracted')\n"
      ]
    },
    {
      "cell_type": "markdown",
      "metadata": {},
      "source": [
        "## NOT WORKING for more than 14 days ago.\n",
        "\n",
        "Need to find a way to get the '__EVENTVALIDATION' and '__VIEWSTATE'  keys properly, depending on the date that needs to be extracted"
      ]
    },
    {
      "cell_type": "code",
      "execution_count": 283,
      "metadata": {
        "colab": {
          "base_uri": "https://localhost:8080/"
        },
        "id": "wWLsQB1jt1ig",
        "outputId": "75de06b0-1f75-4b06-d8d7-a9da9af5120e"
      },
      "outputs": [
        {
          "name": "stdout",
          "output_type": "stream",
          "text": [
            "<class 'pandas.core.frame.DataFrame'>\n",
            "Index: 532 entries, 0 to 37\n",
            "Data columns (total 7 columns):\n",
            " #   Column         Non-Null Count  Dtype         \n",
            "---  ------         --------------  -----         \n",
            " 0   date           532 non-null    datetime64[ns]\n",
            " 1   ent_type       532 non-null    object        \n",
            " 2   ent_name       532 non-null    object        \n",
            " 3   dollar_buy     532 non-null    float64       \n",
            " 4   dollar_sale    532 non-null    float64       \n",
            " 5   b_s_diff       532 non-null    float64       \n",
            " 6   previous_updt  532 non-null    datetime64[ns]\n",
            "dtypes: datetime64[ns](2), float64(3), object(2)\n",
            "memory usage: 33.2+ KB\n"
          ]
        }
      ],
      "source": [
        "df_dol_ent_prev_days.info()"
      ]
    },
    {
      "cell_type": "code",
      "execution_count": 284,
      "metadata": {
        "colab": {
          "base_uri": "https://localhost:8080/"
        },
        "id": "V1KR1Qa-Bi2Z",
        "outputId": "d62c265d-9d88-4deb-810d-f37b75ab65d0"
      },
      "outputs": [
        {
          "data": {
            "text/plain": [
              "(Timestamp('2024-08-11 00:00:00'), Timestamp('2024-07-29 00:00:00'))"
            ]
          },
          "execution_count": 284,
          "metadata": {},
          "output_type": "execute_result"
        }
      ],
      "source": [
        "df_dol_ent_prev_days['date'].unique().max() , df_dol_ent_prev_days['date'].unique().min()"
      ]
    },
    {
      "cell_type": "code",
      "execution_count": 285,
      "metadata": {
        "colab": {
          "base_uri": "https://localhost:8080/",
          "height": 597
        },
        "id": "fKzy-tORBi2Z",
        "outputId": "a593abad-869a-4642-9210-67d80d6ab0c3"
      },
      "outputs": [
        {
          "data": {
            "text/html": [
              "<div>\n",
              "<style scoped>\n",
              "    .dataframe tbody tr th:only-of-type {\n",
              "        vertical-align: middle;\n",
              "    }\n",
              "\n",
              "    .dataframe tbody tr th {\n",
              "        vertical-align: top;\n",
              "    }\n",
              "\n",
              "    .dataframe thead th {\n",
              "        text-align: right;\n",
              "    }\n",
              "</style>\n",
              "<table border=\"1\" class=\"dataframe\">\n",
              "  <thead>\n",
              "    <tr style=\"text-align: right;\">\n",
              "      <th></th>\n",
              "      <th>date</th>\n",
              "      <th>ent_type</th>\n",
              "      <th>ent_name</th>\n",
              "      <th>dollar_buy</th>\n",
              "      <th>dollar_sale</th>\n",
              "      <th>b_s_diff</th>\n",
              "      <th>previous_updt</th>\n",
              "    </tr>\n",
              "  </thead>\n",
              "  <tbody>\n",
              "    <tr>\n",
              "      <th>0</th>\n",
              "      <td>2024-08-11</td>\n",
              "      <td>Bancos públicos</td>\n",
              "      <td>Banco de Costa Rica</td>\n",
              "      <td>518.0</td>\n",
              "      <td>532.0</td>\n",
              "      <td>14.0</td>\n",
              "      <td>2024-08-10 00:03:00</td>\n",
              "    </tr>\n",
              "    <tr>\n",
              "      <th>1</th>\n",
              "      <td>2024-08-11</td>\n",
              "      <td>Bancos públicos</td>\n",
              "      <td>Banco Nacional de Costa Rica</td>\n",
              "      <td>518.0</td>\n",
              "      <td>532.0</td>\n",
              "      <td>14.0</td>\n",
              "      <td>2024-08-09 15:39:00</td>\n",
              "    </tr>\n",
              "    <tr>\n",
              "      <th>2</th>\n",
              "      <td>2024-08-11</td>\n",
              "      <td>Bancos públicos</td>\n",
              "      <td>Banco Popular y de Desarrollo Comunal</td>\n",
              "      <td>520.0</td>\n",
              "      <td>534.0</td>\n",
              "      <td>14.0</td>\n",
              "      <td>2024-08-07 12:50:00</td>\n",
              "    </tr>\n",
              "    <tr>\n",
              "      <th>3</th>\n",
              "      <td>2024-08-11</td>\n",
              "      <td>Bancos privados</td>\n",
              "      <td>Banco BAC San José S.A.</td>\n",
              "      <td>522.0</td>\n",
              "      <td>536.0</td>\n",
              "      <td>14.0</td>\n",
              "      <td>2024-08-09 08:24:00</td>\n",
              "    </tr>\n",
              "    <tr>\n",
              "      <th>4</th>\n",
              "      <td>2024-08-11</td>\n",
              "      <td>Bancos privados</td>\n",
              "      <td>Banco BCT S.A.</td>\n",
              "      <td>519.0</td>\n",
              "      <td>537.0</td>\n",
              "      <td>18.0</td>\n",
              "      <td>2024-08-09 13:11:00</td>\n",
              "    </tr>\n",
              "    <tr>\n",
              "      <th>...</th>\n",
              "      <td>...</td>\n",
              "      <td>...</td>\n",
              "      <td>...</td>\n",
              "      <td>...</td>\n",
              "      <td>...</td>\n",
              "      <td>...</td>\n",
              "      <td>...</td>\n",
              "    </tr>\n",
              "    <tr>\n",
              "      <th>33</th>\n",
              "      <td>2024-07-29</td>\n",
              "      <td>Puestos de Bolsa</td>\n",
              "      <td>BCT Valores, Puesto De Bolsa, S.A.</td>\n",
              "      <td>515.0</td>\n",
              "      <td>533.0</td>\n",
              "      <td>18.0</td>\n",
              "      <td>2024-07-23 15:25:00</td>\n",
              "    </tr>\n",
              "    <tr>\n",
              "      <th>34</th>\n",
              "      <td>2024-07-29</td>\n",
              "      <td>Puestos de Bolsa</td>\n",
              "      <td>BN Valores S.A., Puesto de Bolsa</td>\n",
              "      <td>516.5</td>\n",
              "      <td>530.0</td>\n",
              "      <td>13.5</td>\n",
              "      <td>2024-07-29 08:24:00</td>\n",
              "    </tr>\n",
              "    <tr>\n",
              "      <th>35</th>\n",
              "      <td>2024-07-29</td>\n",
              "      <td>Puestos de Bolsa</td>\n",
              "      <td>Mercado Valores de Costa Rica Puesto de Bolsa</td>\n",
              "      <td>514.5</td>\n",
              "      <td>532.0</td>\n",
              "      <td>17.5</td>\n",
              "      <td>2024-07-24 09:12:00</td>\n",
              "    </tr>\n",
              "    <tr>\n",
              "      <th>36</th>\n",
              "      <td>2024-07-29</td>\n",
              "      <td>Puestos de Bolsa</td>\n",
              "      <td>PB Inversiones SAMA</td>\n",
              "      <td>515.0</td>\n",
              "      <td>531.0</td>\n",
              "      <td>16.0</td>\n",
              "      <td>2024-07-29 08:38:00</td>\n",
              "    </tr>\n",
              "    <tr>\n",
              "      <th>37</th>\n",
              "      <td>2024-07-29</td>\n",
              "      <td>Puestos de Bolsa</td>\n",
              "      <td>Popular Valores, Puesto de Bolsa</td>\n",
              "      <td>518.0</td>\n",
              "      <td>532.0</td>\n",
              "      <td>14.0</td>\n",
              "      <td>2024-07-29 11:20:00</td>\n",
              "    </tr>\n",
              "  </tbody>\n",
              "</table>\n",
              "<p>532 rows × 7 columns</p>\n",
              "</div>"
            ],
            "text/plain": [
              "         date          ent_type  \\\n",
              "0  2024-08-11   Bancos públicos   \n",
              "1  2024-08-11   Bancos públicos   \n",
              "2  2024-08-11   Bancos públicos   \n",
              "3  2024-08-11   Bancos privados   \n",
              "4  2024-08-11   Bancos privados   \n",
              "..        ...               ...   \n",
              "33 2024-07-29  Puestos de Bolsa   \n",
              "34 2024-07-29  Puestos de Bolsa   \n",
              "35 2024-07-29  Puestos de Bolsa   \n",
              "36 2024-07-29  Puestos de Bolsa   \n",
              "37 2024-07-29  Puestos de Bolsa   \n",
              "\n",
              "                                         ent_name  dollar_buy  dollar_sale  \\\n",
              "0                             Banco de Costa Rica       518.0        532.0   \n",
              "1                    Banco Nacional de Costa Rica       518.0        532.0   \n",
              "2           Banco Popular y de Desarrollo Comunal       520.0        534.0   \n",
              "3                         Banco BAC San José S.A.       522.0        536.0   \n",
              "4                                  Banco BCT S.A.       519.0        537.0   \n",
              "..                                            ...         ...          ...   \n",
              "33             BCT Valores, Puesto De Bolsa, S.A.       515.0        533.0   \n",
              "34               BN Valores S.A., Puesto de Bolsa       516.5        530.0   \n",
              "35  Mercado Valores de Costa Rica Puesto de Bolsa       514.5        532.0   \n",
              "36                            PB Inversiones SAMA       515.0        531.0   \n",
              "37               Popular Valores, Puesto de Bolsa       518.0        532.0   \n",
              "\n",
              "    b_s_diff       previous_updt  \n",
              "0       14.0 2024-08-10 00:03:00  \n",
              "1       14.0 2024-08-09 15:39:00  \n",
              "2       14.0 2024-08-07 12:50:00  \n",
              "3       14.0 2024-08-09 08:24:00  \n",
              "4       18.0 2024-08-09 13:11:00  \n",
              "..       ...                 ...  \n",
              "33      18.0 2024-07-23 15:25:00  \n",
              "34      13.5 2024-07-29 08:24:00  \n",
              "35      17.5 2024-07-24 09:12:00  \n",
              "36      16.0 2024-07-29 08:38:00  \n",
              "37      14.0 2024-07-29 11:20:00  \n",
              "\n",
              "[532 rows x 7 columns]"
            ]
          },
          "execution_count": 285,
          "metadata": {},
          "output_type": "execute_result"
        }
      ],
      "source": [
        "df_dol_ent_prev_days"
      ]
    },
    {
      "cell_type": "markdown",
      "metadata": {
        "id": "AjhMXSHG0tX2"
      },
      "source": [
        "## Backing up entities dollar exchange rate values at dataset parquet file"
      ]
    },
    {
      "cell_type": "code",
      "execution_count": 286,
      "metadata": {
        "colab": {
          "base_uri": "https://localhost:8080/"
        },
        "id": "WdEMqmOQx43l",
        "outputId": "9ae55589-2b98-4431-ec63-ca50ac44c5f9"
      },
      "outputs": [
        {
          "name": "stdout",
          "output_type": "stream",
          "text": [
            "Current dataset file has been updated: ./datasets/bccr_dol_exch_entities.parquet \n",
            "creation time: 2024-08-12 02:08 \n",
            "Current date-time is: 2024-08-12 02:08\n"
          ]
        }
      ],
      "source": [
        "# Now lets update the exchange data file, using the updated dataframe\n",
        "\n",
        "df_dol_ent_prev_days.to_parquet(f'{DATASETS_PATH}/{CURRENT_DATASET_BASEFILENAME}.parquet')\n",
        "\n",
        "current_dataset_file_creationTstamp = datetime.fromtimestamp (os.path.getctime(f'{DATASETS_PATH}/{CURRENT_DATASET_BASEFILENAME}.parquet')).strftime('%Y-%m-%d %H:%M')\n",
        "\n",
        "print(f'Current dataset file has been updated: {DATASETS_PATH}/{CURRENT_DATASET_BASEFILENAME}.parquet \\ncreation time: {current_dataset_file_creationTstamp} \\nCurrent date-time is:', datetime.today().strftime('%Y-%m-%d %H:%M'))"
      ]
    }
  ],
  "metadata": {
    "colab": {
      "provenance": []
    },
    "kernelspec": {
      "display_name": "Python 3",
      "name": "python3"
    },
    "language_info": {
      "codemirror_mode": {
        "name": "ipython",
        "version": 3
      },
      "file_extension": ".py",
      "mimetype": "text/x-python",
      "name": "python",
      "nbconvert_exporter": "python",
      "pygments_lexer": "ipython3",
      "version": "3.9.16"
    }
  },
  "nbformat": 4,
  "nbformat_minor": 0
}
